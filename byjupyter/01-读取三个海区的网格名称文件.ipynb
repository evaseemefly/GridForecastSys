{
 "cells": [
  {
   "cell_type": "code",
   "execution_count": 2,
   "metadata": {
    "collapsed": true
   },
   "outputs": [],
   "source": [
    "import numpy as np\n",
    "import pandas as pd\n",
    "import os\n",
    "import sys"
   ]
  },
  {
   "cell_type": "markdown",
   "metadata": {},
   "source": [
    "### 一、读取指定路径下的名称文件"
   ]
  },
  {
   "cell_type": "markdown",
   "metadata": {},
   "source": [
    "#### 读取指定路径下的文件方式1："
   ]
  },
  {
   "cell_type": "code",
   "execution_count": 3,
   "metadata": {},
   "outputs": [
    {
     "name": "stdout",
     "output_type": "stream",
     "text": [
      "D:\\git仓库\\GridForecastSys\\extra_data\\grid_data\\names_E.txt\n",
      "读取成功\n"
     ]
    }
   ],
   "source": [
    "targetpath=r\"D:\\git仓库\\GridForecastSys\\extra_data\\grid_data\"\n",
    "filename=\"names_E.txt\"\n",
    "fullname=os.path.join(targetpath,filename)\n",
    "print(fullname)\n",
    "#data=np.loadtxt(fullname)\n",
    "# data=pd.read_table(targetpath,encoding = 'utf-8',header=None)\n",
    "with open(fullname,\"rb\") as f:\n",
    "    data=pd.read_table(f,sep='\\n',encoding='utf-8',header=None)\n",
    "    print('读取成功')\n",
    "# f=open(fullname)\n",
    "# data=pd.read_table(f,encoding='utf-8')"
   ]
  },
  {
   "cell_type": "code",
   "execution_count": 4,
   "metadata": {},
   "outputs": [
    {
     "data": {
      "text/html": [
       "<div>\n",
       "<style>\n",
       "    .dataframe thead tr:only-child th {\n",
       "        text-align: right;\n",
       "    }\n",
       "\n",
       "    .dataframe thead th {\n",
       "        text-align: left;\n",
       "    }\n",
       "\n",
       "    .dataframe tbody tr th {\n",
       "        vertical-align: top;\n",
       "    }\n",
       "</style>\n",
       "<table border=\"1\" class=\"dataframe\">\n",
       "  <thead>\n",
       "    <tr style=\"text-align: right;\">\n",
       "      <th></th>\n",
       "      <th>0</th>\n",
       "    </tr>\n",
       "  </thead>\n",
       "  <tbody>\n",
       "    <tr>\n",
       "      <th>0</th>\n",
       "      <td>江苏省连云港市赣榆区</td>\n",
       "    </tr>\n",
       "    <tr>\n",
       "      <th>1</th>\n",
       "      <td>江苏省连云港市连云区</td>\n",
       "    </tr>\n",
       "    <tr>\n",
       "      <th>2</th>\n",
       "      <td>江苏省连云港市灌云县</td>\n",
       "    </tr>\n",
       "    <tr>\n",
       "      <th>3</th>\n",
       "      <td>江苏省盐城市响水县</td>\n",
       "    </tr>\n",
       "    <tr>\n",
       "      <th>4</th>\n",
       "      <td>江苏省盐城市滨海县</td>\n",
       "    </tr>\n",
       "  </tbody>\n",
       "</table>\n",
       "</div>"
      ],
      "text/plain": [
       "            0\n",
       "0  江苏省连云港市赣榆区\n",
       "1  江苏省连云港市连云区\n",
       "2  江苏省连云港市灌云县\n",
       "3   江苏省盐城市响水县\n",
       "4   江苏省盐城市滨海县"
      ]
     },
     "execution_count": 4,
     "metadata": {},
     "output_type": "execute_result"
    }
   ],
   "source": [
    "data.head()"
   ]
  },
  {
   "cell_type": "markdown",
   "metadata": {},
   "source": [
    "#### 读取指定路径下的文件方式2："
   ]
  },
  {
   "cell_type": "code",
   "execution_count": 12,
   "metadata": {},
   "outputs": [
    {
     "name": "stdout",
     "output_type": "stream",
     "text": [
      "pwd:D:\\git仓库\\GridForecastSys\\byjupyter\n"
     ]
    }
   ],
   "source": [
    "trainFile = r\"D:\\git仓库\\GridForecastSys\\byjupyter\\data\\_names_S.txt\"\n",
    "\n",
    "pwd = os.getcwd()\n",
    "print(\"pwd:%s\"%pwd)\n",
    "os.chdir(os.path.dirname(trainFile))\n",
    "\n",
    "trainData = pd.read_csv(os.path.basename(trainFile),header=None)\n",
    "os.chdir(pwd)"
   ]
  },
  {
   "cell_type": "code",
   "execution_count": 13,
   "metadata": {},
   "outputs": [
    {
     "data": {
      "text/html": [
       "<div>\n",
       "<style>\n",
       "    .dataframe thead tr:only-child th {\n",
       "        text-align: right;\n",
       "    }\n",
       "\n",
       "    .dataframe thead th {\n",
       "        text-align: left;\n",
       "    }\n",
       "\n",
       "    .dataframe tbody tr th {\n",
       "        vertical-align: top;\n",
       "    }\n",
       "</style>\n",
       "<table border=\"1\" class=\"dataframe\">\n",
       "  <thead>\n",
       "    <tr style=\"text-align: right;\">\n",
       "      <th></th>\n",
       "      <th>0</th>\n",
       "    </tr>\n",
       "  </thead>\n",
       "  <tbody>\n",
       "    <tr>\n",
       "      <th>0</th>\n",
       "      <td>广东省汕头市南澳县</td>\n",
       "    </tr>\n",
       "    <tr>\n",
       "      <th>1</th>\n",
       "      <td>广东省潮州市饶平县</td>\n",
       "    </tr>\n",
       "    <tr>\n",
       "      <th>2</th>\n",
       "      <td>广东省汕头市潮阳区</td>\n",
       "    </tr>\n",
       "    <tr>\n",
       "      <th>3</th>\n",
       "      <td>广东省揭阳市惠来县</td>\n",
       "    </tr>\n",
       "    <tr>\n",
       "      <th>4</th>\n",
       "      <td>广东省汕尾市城区遮浪街道</td>\n",
       "    </tr>\n",
       "  </tbody>\n",
       "</table>\n",
       "</div>"
      ],
      "text/plain": [
       "              0\n",
       "0     广东省汕头市南澳县\n",
       "1     广东省潮州市饶平县\n",
       "2     广东省汕头市潮阳区\n",
       "3     广东省揭阳市惠来县\n",
       "4  广东省汕尾市城区遮浪街道"
      ]
     },
     "execution_count": 13,
     "metadata": {},
     "output_type": "execute_result"
    }
   ],
   "source": [
    "trainData.head()"
   ]
  },
  {
   "cell_type": "markdown",
   "metadata": {
    "collapsed": true
   },
   "source": [
    "### 二、取出所有的数据"
   ]
  },
  {
   "cell_type": "code",
   "execution_count": 5,
   "metadata": {},
   "outputs": [
    {
     "data": {
      "text/html": [
       "<div>\n",
       "<style>\n",
       "    .dataframe thead tr:only-child th {\n",
       "        text-align: right;\n",
       "    }\n",
       "\n",
       "    .dataframe thead th {\n",
       "        text-align: left;\n",
       "    }\n",
       "\n",
       "    .dataframe tbody tr th {\n",
       "        vertical-align: top;\n",
       "    }\n",
       "</style>\n",
       "<table border=\"1\" class=\"dataframe\">\n",
       "  <thead>\n",
       "    <tr style=\"text-align: right;\">\n",
       "      <th></th>\n",
       "      <th>0</th>\n",
       "    </tr>\n",
       "  </thead>\n",
       "  <tbody>\n",
       "    <tr>\n",
       "      <th>0</th>\n",
       "      <td>江苏省连云港市赣榆区</td>\n",
       "    </tr>\n",
       "    <tr>\n",
       "      <th>1</th>\n",
       "      <td>江苏省连云港市连云区</td>\n",
       "    </tr>\n",
       "    <tr>\n",
       "      <th>2</th>\n",
       "      <td>江苏省连云港市灌云县</td>\n",
       "    </tr>\n",
       "    <tr>\n",
       "      <th>3</th>\n",
       "      <td>江苏省盐城市响水县</td>\n",
       "    </tr>\n",
       "    <tr>\n",
       "      <th>4</th>\n",
       "      <td>江苏省盐城市滨海县</td>\n",
       "    </tr>\n",
       "  </tbody>\n",
       "</table>\n",
       "</div>"
      ],
      "text/plain": [
       "            0\n",
       "0  江苏省连云港市赣榆区\n",
       "1  江苏省连云港市连云区\n",
       "2  江苏省连云港市灌云县\n",
       "3   江苏省盐城市响水县\n",
       "4   江苏省盐城市滨海县"
      ]
     },
     "execution_count": 5,
     "metadata": {},
     "output_type": "execute_result"
    }
   ],
   "source": [
    "data.head()"
   ]
  },
  {
   "cell_type": "code",
   "execution_count": 6,
   "metadata": {},
   "outputs": [
    {
     "data": {
      "text/plain": [
       "0    江苏省连云港市赣榆区\n",
       "Name: 0, dtype: object"
      ]
     },
     "execution_count": 6,
     "metadata": {},
     "output_type": "execute_result"
    }
   ],
   "source": [
    "data.loc[0]"
   ]
  },
  {
   "cell_type": "code",
   "execution_count": 7,
   "metadata": {},
   "outputs": [
    {
     "data": {
      "text/plain": [
       "0    江苏省连云港市赣榆区\n",
       "Name: 0, dtype: object"
      ]
     },
     "execution_count": 7,
     "metadata": {},
     "output_type": "execute_result"
    }
   ],
   "source": [
    "data.iloc[0]"
   ]
  },
  {
   "cell_type": "code",
   "execution_count": 8,
   "metadata": {},
   "outputs": [
    {
     "name": "stdout",
     "output_type": "stream",
     "text": [
      "0\n"
     ]
    }
   ],
   "source": [
    "for temp in data:\n",
    "    print(temp)"
   ]
  },
  {
   "cell_type": "code",
   "execution_count": 9,
   "metadata": {},
   "outputs": [
    {
     "data": {
      "text/plain": [
       "pandas.core.frame.DataFrame"
      ]
     },
     "execution_count": 9,
     "metadata": {},
     "output_type": "execute_result"
    }
   ],
   "source": [
    "type(data)"
   ]
  },
  {
   "cell_type": "code",
   "execution_count": 10,
   "metadata": {},
   "outputs": [
    {
     "name": "stdout",
     "output_type": "stream",
     "text": [
      "0    江苏省连云港市赣榆区\n",
      "Name: 0, dtype: object\n",
      "0    江苏省连云港市连云区\n",
      "Name: 1, dtype: object\n",
      "0    江苏省连云港市灌云县\n",
      "Name: 2, dtype: object\n",
      "0    江苏省盐城市响水县\n",
      "Name: 3, dtype: object\n",
      "0    江苏省盐城市滨海县\n",
      "Name: 4, dtype: object\n",
      "0    江苏省盐城市射阳县\n",
      "Name: 5, dtype: object\n",
      "0    江苏省盐城市亭湖区\n",
      "Name: 6, dtype: object\n",
      "0    江苏省盐城市大丰区\n",
      "Name: 7, dtype: object\n",
      "0    江苏省盐城市东台市\n",
      "Name: 8, dtype: object\n",
      "0    江苏省南通市海安县\n",
      "Name: 9, dtype: object\n",
      "0    江苏省南通市如东县\n",
      "Name: 10, dtype: object\n",
      "0    江苏省南通市通州区\n",
      "Name: 11, dtype: object\n",
      "0    江苏省南通市海门市\n",
      "Name: 12, dtype: object\n",
      "0    江苏省南通市启东市\n",
      "Name: 13, dtype: object\n",
      "0    上海市崇明区\n",
      "Name: 14, dtype: object\n",
      "0    上海市宝山区\n",
      "Name: 15, dtype: object\n",
      "0    上海市浦东新区\n",
      "Name: 16, dtype: object\n",
      "0    上海市浦东新区\n",
      "Name: 17, dtype: object\n",
      "0    上海市奉贤区\n",
      "Name: 18, dtype: object\n",
      "0    上海市金山区\n",
      "Name: 19, dtype: object\n",
      "0    上海市\n",
      "Name: 20, dtype: object\n",
      "0    浙江省舟山市嵊泗县\n",
      "Name: 21, dtype: object\n",
      "0    浙江省舟山市嵊泗县\n",
      "Name: 22, dtype: object\n",
      "0    浙江省舟山市嵊泗县\n",
      "Name: 23, dtype: object\n",
      "0    浙江省舟山市岱山县\n",
      "Name: 24, dtype: object\n",
      "0    浙江省舟山市岱山县\n",
      "Name: 25, dtype: object\n",
      "0    浙江省舟山市岱山县\n",
      "Name: 26, dtype: object\n",
      "0    浙江省舟山市普陀区\n",
      "Name: 27, dtype: object\n",
      "0    浙江省舟山市普陀区\n",
      "Name: 28, dtype: object\n",
      "0    浙江省舟山市普陀区\n",
      "Name: 29, dtype: object\n",
      "0    浙江省舟山市普陀区\n",
      "Name: 30, dtype: object\n",
      "0    浙江省嘉兴市平湖市\n",
      "Name: 31, dtype: object\n",
      "0    浙江省嘉兴市海盐市\n",
      "Name: 32, dtype: object\n",
      "0    浙江省宁波市余姚市\n",
      "Name: 33, dtype: object\n",
      "0    浙江省宁波市杭州湾新区\n",
      "Name: 34, dtype: object\n",
      "0    浙江省宁波市慈溪市\n",
      "Name: 35, dtype: object\n",
      "0    浙江省宁波市镇海区\n",
      "Name: 36, dtype: object\n",
      "0    浙江省宁波市北仑区\n",
      "Name: 37, dtype: object\n",
      "0    浙江省宁波市北仑区\n",
      "Name: 38, dtype: object\n",
      "0    浙江省宁波市鄞洲区\n",
      "Name: 39, dtype: object\n",
      "0    浙江省宁波市象山县\n",
      "Name: 40, dtype: object\n",
      "0    浙江省宁波市象山县\n",
      "Name: 41, dtype: object\n",
      "0    浙江省宁波市象山县\n",
      "Name: 42, dtype: object\n",
      "0    浙江省宁波市宁海县\n",
      "Name: 43, dtype: object\n",
      "0    三门县\n",
      "Name: 44, dtype: object\n",
      "0    临海市\n",
      "Name: 45, dtype: object\n",
      "0    台州市椒江区\n",
      "Name: 46, dtype: object\n",
      "0    台州市路桥区\n",
      "Name: 47, dtype: object\n",
      "0    台州市椒江区\n",
      "Name: 48, dtype: object\n",
      "0    温岭市\n",
      "Name: 49, dtype: object\n",
      "0    玉环市\n",
      "Name: 50, dtype: object\n",
      "0    乐清市\n",
      "Name: 51, dtype: object\n",
      "0    温州市龙湾区\n",
      "Name: 52, dtype: object\n",
      "0    温州市洞头区\n",
      "Name: 53, dtype: object\n",
      "0    瑞安市\n",
      "Name: 54, dtype: object\n",
      "0    平阳县\n",
      "Name: 55, dtype: object\n",
      "0    苍南县\n",
      "Name: 56, dtype: object\n",
      "0    平阳县\n",
      "Name: 57, dtype: object\n",
      "0    瑞安县\n",
      "Name: 58, dtype: object\n",
      "0    福建省福鼎市\n",
      "Name: 59, dtype: object\n",
      "0    福建省福鼎市\n",
      "Name: 60, dtype: object\n",
      "0    福建省宁德市霞浦县\n",
      "Name: 61, dtype: object\n",
      "0    福建省宁德市霞浦县\n",
      "Name: 62, dtype: object\n",
      "0    福建省宁德市蕉城区\n",
      "Name: 63, dtype: object\n",
      "0    福建省福州市连江县\n",
      "Name: 64, dtype: object\n",
      "0    福建省宁德市霞浦县\n",
      "Name: 65, dtype: object\n",
      "0    福建省福州市连江县\n",
      "Name: 66, dtype: object\n",
      "0    福建省福州市连江县\n",
      "Name: 67, dtype: object\n",
      "0    福建省长乐市\n",
      "Name: 68, dtype: object\n",
      "0    福建省福清市\n",
      "Name: 69, dtype: object\n",
      "0    福建省福清市\n",
      "Name: 70, dtype: object\n",
      "0    福建省平潭综合实验区\n",
      "Name: 71, dtype: object\n",
      "0    福建省莆田市秀屿区\n",
      "Name: 72, dtype: object\n",
      "0    福建省莆田市秀屿区\n",
      "Name: 73, dtype: object\n",
      "0    福建省泉州市泉港区\n",
      "Name: 74, dtype: object\n",
      "0    福建省泉州市惠安县\n",
      "Name: 75, dtype: object\n",
      "0    福建省泉州市石狮市\n",
      "Name: 76, dtype: object\n",
      "0    福建省泉州市晋江市\n",
      "Name: 77, dtype: object\n",
      "0    福建省厦门市思明区\n",
      "Name: 78, dtype: object\n",
      "0    台湾省金门县\n",
      "Name: 79, dtype: object\n",
      "0    福建省漳州市龙海市\n",
      "Name: 80, dtype: object\n",
      "0    福建省漳州市漳浦县\n",
      "Name: 81, dtype: object\n",
      "0    福建省漳州市东山县\n",
      "Name: 82, dtype: object\n",
      "0    福建省漳州市漳浦县\n",
      "Name: 83, dtype: object\n",
      "0    福建省漳州市诏安县\n",
      "Name: 84, dtype: object\n"
     ]
    }
   ],
   "source": [
    "for i in range(0,len(data)):\n",
    "    print(data.iloc[i])"
   ]
  },
  {
   "cell_type": "code",
   "execution_count": 11,
   "metadata": {},
   "outputs": [
    {
     "name": "stdout",
     "output_type": "stream",
     "text": [
      "江苏省连云港市赣榆区\n",
      "江苏省连云港市连云区\n",
      "江苏省连云港市灌云县\n",
      "江苏省盐城市响水县\n",
      "江苏省盐城市滨海县\n"
     ]
    }
   ],
   "source": [
    "for index,row in data.head().iterrows():\n",
    "#     print(row)\n",
    "    print(row[0])"
   ]
  },
  {
   "cell_type": "code",
   "execution_count": 12,
   "metadata": {},
   "outputs": [
    {
     "data": {
      "text/plain": [
       "RangeIndex(start=0, stop=85, step=1)"
      ]
     },
     "execution_count": 12,
     "metadata": {},
     "output_type": "execute_result"
    }
   ],
   "source": [
    "data.index"
   ]
  },
  {
   "cell_type": "markdown",
   "metadata": {},
   "source": [
    "#### 遍历字典"
   ]
  },
  {
   "cell_type": "code",
   "execution_count": 13,
   "metadata": {
    "collapsed": true
   },
   "outputs": [],
   "source": [
    "AreaNames_Dict={'n':'names_N','e':'names_E','s':'names_S'}"
   ]
  },
  {
   "cell_type": "code",
   "execution_count": 14,
   "metadata": {},
   "outputs": [
    {
     "name": "stdout",
     "output_type": "stream",
     "text": [
      "n:names_N\n",
      "e:names_E\n",
      "s:names_S\n"
     ]
    }
   ],
   "source": [
    "for item in AreaNames_Dict:\n",
    "    print(item+\":\"+AreaNames_Dict[item])\n",
    "#     print(item.key+\":\"+item.value)"
   ]
  },
  {
   "cell_type": "code",
   "execution_count": null,
   "metadata": {
    "collapsed": true
   },
   "outputs": [],
   "source": []
  }
 ],
 "metadata": {
  "kernelspec": {
   "display_name": "Python 3",
   "language": "python",
   "name": "python3"
  },
  "language_info": {
   "codemirror_mode": {
    "name": "ipython",
    "version": 3
   },
   "file_extension": ".py",
   "mimetype": "text/x-python",
   "name": "python",
   "nbconvert_exporter": "python",
   "pygments_lexer": "ipython3",
   "version": "3.6.3"
  }
 },
 "nbformat": 4,
 "nbformat_minor": 2
}
