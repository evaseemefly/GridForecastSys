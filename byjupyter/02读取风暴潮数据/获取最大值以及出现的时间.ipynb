{
 "cells": [
  {
   "cell_type": "code",
   "execution_count": 1,
   "metadata": {
    "collapsed": true
   },
   "outputs": [],
   "source": [
    "import numpy as np\n",
    "import pandas as pd\n",
    "import os\n",
    "import sys\n",
    "import datetime"
   ]
  },
  {
   "cell_type": "markdown",
   "metadata": {},
   "source": [
    "### 1 读取源文件"
   ]
  },
  {
   "cell_type": "code",
   "execution_count": 3,
   "metadata": {},
   "outputs": [
    {
     "data": {
      "text/html": [
       "<div>\n",
       "<style>\n",
       "    .dataframe thead tr:only-child th {\n",
       "        text-align: right;\n",
       "    }\n",
       "\n",
       "    .dataframe thead th {\n",
       "        text-align: left;\n",
       "    }\n",
       "\n",
       "    .dataframe tbody tr th {\n",
       "        vertical-align: top;\n",
       "    }\n",
       "</style>\n",
       "<table border=\"1\" class=\"dataframe\">\n",
       "  <thead>\n",
       "    <tr style=\"text-align: right;\">\n",
       "      <th></th>\n",
       "      <th></th>\n",
       "      <th>2018-07-09 08:00</th>\n",
       "      <th>2018-07-09 09:00</th>\n",
       "      <th>2018-07-09 10:00</th>\n",
       "      <th>2018-07-09 11:00</th>\n",
       "      <th>2018-07-09 12:00</th>\n",
       "      <th>2018-07-09 13:00</th>\n",
       "      <th>2018-07-09 14:00</th>\n",
       "      <th>2018-07-09 15:00</th>\n",
       "      <th>2018-07-09 16:00</th>\n",
       "      <th>2018-07-09 17:00</th>\n",
       "      <th>...</th>\n",
       "      <th>2018-07-11 23:00</th>\n",
       "      <th>2018-07-12 00:00</th>\n",
       "      <th>2018-07-12 01:00</th>\n",
       "      <th>2018-07-12 02:00</th>\n",
       "      <th>2018-07-12 03:00</th>\n",
       "      <th>2018-07-12 04:00</th>\n",
       "      <th>2018-07-12 05:00</th>\n",
       "      <th>2018-07-12 06:00</th>\n",
       "      <th>2018-07-12 07:00</th>\n",
       "      <th>2018-07-12 08:00</th>\n",
       "    </tr>\n",
       "  </thead>\n",
       "  <tbody>\n",
       "    <tr>\n",
       "      <th rowspan=\"2\" valign=\"top\">N01</th>\n",
       "      <th>SURGE</th>\n",
       "      <td>0.36</td>\n",
       "      <td>0.35</td>\n",
       "      <td>0.34</td>\n",
       "      <td>0.33</td>\n",
       "      <td>0.33</td>\n",
       "      <td>0.32</td>\n",
       "      <td>0.31</td>\n",
       "      <td>0.31</td>\n",
       "      <td>0.31</td>\n",
       "      <td>0.32</td>\n",
       "      <td>...</td>\n",
       "      <td>0.56</td>\n",
       "      <td>0.56</td>\n",
       "      <td>0.56</td>\n",
       "      <td>0.56</td>\n",
       "      <td>0.57</td>\n",
       "      <td>0.57</td>\n",
       "      <td>0.57</td>\n",
       "      <td>0.57</td>\n",
       "      <td>0.57</td>\n",
       "      <td>0.57</td>\n",
       "    </tr>\n",
       "    <tr>\n",
       "      <th>TIDE</th>\n",
       "      <td>3.43</td>\n",
       "      <td>3.58</td>\n",
       "      <td>3.73</td>\n",
       "      <td>3.86</td>\n",
       "      <td>3.97</td>\n",
       "      <td>4.07</td>\n",
       "      <td>4.16</td>\n",
       "      <td>4.25</td>\n",
       "      <td>4.31</td>\n",
       "      <td>4.32</td>\n",
       "      <td>...</td>\n",
       "      <td>3.53</td>\n",
       "      <td>3.51</td>\n",
       "      <td>3.49</td>\n",
       "      <td>3.48</td>\n",
       "      <td>3.49</td>\n",
       "      <td>3.51</td>\n",
       "      <td>3.54</td>\n",
       "      <td>3.55</td>\n",
       "      <td>3.57</td>\n",
       "      <td>3.59</td>\n",
       "    </tr>\n",
       "    <tr>\n",
       "      <th rowspan=\"2\" valign=\"top\">N02</th>\n",
       "      <th>SURGE</th>\n",
       "      <td>0.36</td>\n",
       "      <td>0.35</td>\n",
       "      <td>0.34</td>\n",
       "      <td>0.33</td>\n",
       "      <td>0.33</td>\n",
       "      <td>0.32</td>\n",
       "      <td>0.31</td>\n",
       "      <td>0.31</td>\n",
       "      <td>0.31</td>\n",
       "      <td>0.32</td>\n",
       "      <td>...</td>\n",
       "      <td>0.56</td>\n",
       "      <td>0.56</td>\n",
       "      <td>0.56</td>\n",
       "      <td>0.56</td>\n",
       "      <td>0.57</td>\n",
       "      <td>0.57</td>\n",
       "      <td>0.57</td>\n",
       "      <td>0.57</td>\n",
       "      <td>0.57</td>\n",
       "      <td>0.57</td>\n",
       "    </tr>\n",
       "    <tr>\n",
       "      <th>TIDE</th>\n",
       "      <td>3.43</td>\n",
       "      <td>3.58</td>\n",
       "      <td>3.73</td>\n",
       "      <td>3.86</td>\n",
       "      <td>3.97</td>\n",
       "      <td>4.07</td>\n",
       "      <td>4.16</td>\n",
       "      <td>4.25</td>\n",
       "      <td>4.31</td>\n",
       "      <td>4.32</td>\n",
       "      <td>...</td>\n",
       "      <td>3.53</td>\n",
       "      <td>3.51</td>\n",
       "      <td>3.49</td>\n",
       "      <td>3.48</td>\n",
       "      <td>3.49</td>\n",
       "      <td>3.51</td>\n",
       "      <td>3.54</td>\n",
       "      <td>3.55</td>\n",
       "      <td>3.57</td>\n",
       "      <td>3.59</td>\n",
       "    </tr>\n",
       "    <tr>\n",
       "      <th rowspan=\"2\" valign=\"top\">N03</th>\n",
       "      <th>SURGE</th>\n",
       "      <td>0.36</td>\n",
       "      <td>0.35</td>\n",
       "      <td>0.34</td>\n",
       "      <td>0.33</td>\n",
       "      <td>0.33</td>\n",
       "      <td>0.32</td>\n",
       "      <td>0.31</td>\n",
       "      <td>0.31</td>\n",
       "      <td>0.31</td>\n",
       "      <td>0.32</td>\n",
       "      <td>...</td>\n",
       "      <td>0.56</td>\n",
       "      <td>0.56</td>\n",
       "      <td>0.56</td>\n",
       "      <td>0.56</td>\n",
       "      <td>0.57</td>\n",
       "      <td>0.57</td>\n",
       "      <td>0.57</td>\n",
       "      <td>0.57</td>\n",
       "      <td>0.57</td>\n",
       "      <td>0.57</td>\n",
       "    </tr>\n",
       "    <tr>\n",
       "      <th>TIDE</th>\n",
       "      <td>3.43</td>\n",
       "      <td>3.58</td>\n",
       "      <td>3.73</td>\n",
       "      <td>3.86</td>\n",
       "      <td>3.97</td>\n",
       "      <td>4.07</td>\n",
       "      <td>4.16</td>\n",
       "      <td>4.25</td>\n",
       "      <td>4.31</td>\n",
       "      <td>4.32</td>\n",
       "      <td>...</td>\n",
       "      <td>3.53</td>\n",
       "      <td>3.51</td>\n",
       "      <td>3.49</td>\n",
       "      <td>3.48</td>\n",
       "      <td>3.49</td>\n",
       "      <td>3.51</td>\n",
       "      <td>3.54</td>\n",
       "      <td>3.55</td>\n",
       "      <td>3.57</td>\n",
       "      <td>3.59</td>\n",
       "    </tr>\n",
       "  </tbody>\n",
       "</table>\n",
       "<p>6 rows × 73 columns</p>\n",
       "</div>"
      ],
      "text/plain": [
       "           2018-07-09 08:00  2018-07-09 09:00  2018-07-09 10:00  \\\n",
       "N01 SURGE              0.36              0.35              0.34   \n",
       "    TIDE               3.43              3.58              3.73   \n",
       "N02 SURGE              0.36              0.35              0.34   \n",
       "    TIDE               3.43              3.58              3.73   \n",
       "N03 SURGE              0.36              0.35              0.34   \n",
       "    TIDE               3.43              3.58              3.73   \n",
       "\n",
       "           2018-07-09 11:00  2018-07-09 12:00  2018-07-09 13:00  \\\n",
       "N01 SURGE              0.33              0.33              0.32   \n",
       "    TIDE               3.86              3.97              4.07   \n",
       "N02 SURGE              0.33              0.33              0.32   \n",
       "    TIDE               3.86              3.97              4.07   \n",
       "N03 SURGE              0.33              0.33              0.32   \n",
       "    TIDE               3.86              3.97              4.07   \n",
       "\n",
       "           2018-07-09 14:00  2018-07-09 15:00  2018-07-09 16:00  \\\n",
       "N01 SURGE              0.31              0.31              0.31   \n",
       "    TIDE               4.16              4.25              4.31   \n",
       "N02 SURGE              0.31              0.31              0.31   \n",
       "    TIDE               4.16              4.25              4.31   \n",
       "N03 SURGE              0.31              0.31              0.31   \n",
       "    TIDE               4.16              4.25              4.31   \n",
       "\n",
       "           2018-07-09 17:00        ...         2018-07-11 23:00  \\\n",
       "N01 SURGE              0.32        ...                     0.56   \n",
       "    TIDE               4.32        ...                     3.53   \n",
       "N02 SURGE              0.32        ...                     0.56   \n",
       "    TIDE               4.32        ...                     3.53   \n",
       "N03 SURGE              0.32        ...                     0.56   \n",
       "    TIDE               4.32        ...                     3.53   \n",
       "\n",
       "           2018-07-12 00:00  2018-07-12 01:00  2018-07-12 02:00  \\\n",
       "N01 SURGE              0.56              0.56              0.56   \n",
       "    TIDE               3.51              3.49              3.48   \n",
       "N02 SURGE              0.56              0.56              0.56   \n",
       "    TIDE               3.51              3.49              3.48   \n",
       "N03 SURGE              0.56              0.56              0.56   \n",
       "    TIDE               3.51              3.49              3.48   \n",
       "\n",
       "           2018-07-12 03:00  2018-07-12 04:00  2018-07-12 05:00  \\\n",
       "N01 SURGE              0.57              0.57              0.57   \n",
       "    TIDE               3.49              3.51              3.54   \n",
       "N02 SURGE              0.57              0.57              0.57   \n",
       "    TIDE               3.49              3.51              3.54   \n",
       "N03 SURGE              0.57              0.57              0.57   \n",
       "    TIDE               3.49              3.51              3.54   \n",
       "\n",
       "           2018-07-12 06:00  2018-07-12 07:00  2018-07-12 08:00  \n",
       "N01 SURGE              0.57              0.57              0.57  \n",
       "    TIDE               3.55              3.57              3.59  \n",
       "N02 SURGE              0.57              0.57              0.57  \n",
       "    TIDE               3.55              3.57              3.59  \n",
       "N03 SURGE              0.57              0.57              0.57  \n",
       "    TIDE               3.55              3.57              3.59  \n",
       "\n",
       "[6 rows x 73 columns]"
      ]
     },
     "execution_count": 3,
     "metadata": {},
     "output_type": "execute_result"
    }
   ],
   "source": [
    "data=pd.read_table('StormTide_20180709.txt')\n",
    "data"
   ]
  },
  {
   "cell_type": "markdown",
   "metadata": {},
   "source": [
    "### 2获取columns  \n",
    "\n"
   ]
  },
  {
   "cell_type": "code",
   "execution_count": 6,
   "metadata": {},
   "outputs": [
    {
     "data": {
      "text/plain": [
       "Index(['2018-07-09 08:00', '2018-07-09 09:00', '2018-07-09 10:00',\n",
       "       '2018-07-09 11:00', '2018-07-09 12:00'],\n",
       "      dtype='object')"
      ]
     },
     "execution_count": 6,
     "metadata": {},
     "output_type": "execute_result"
    }
   ],
   "source": [
    "data.columns[:5]"
   ]
  },
  {
   "cell_type": "code",
   "execution_count": 10,
   "metadata": {},
   "outputs": [
    {
     "data": {
      "text/plain": [
       "MultiIndex(levels=[['N01', 'N02', 'N03'], ['SURGE', 'TIDE']],\n",
       "           labels=[[0, 0, 1, 1, 2, 2], [0, 1, 0, 1, 0, 1]])"
      ]
     },
     "execution_count": 10,
     "metadata": {},
     "output_type": "execute_result"
    }
   ],
   "source": [
    "data.index"
   ]
  },
  {
   "cell_type": "code",
   "execution_count": 12,
   "metadata": {},
   "outputs": [
    {
     "data": {
      "text/html": [
       "<div>\n",
       "<style>\n",
       "    .dataframe thead tr:only-child th {\n",
       "        text-align: right;\n",
       "    }\n",
       "\n",
       "    .dataframe thead th {\n",
       "        text-align: left;\n",
       "    }\n",
       "\n",
       "    .dataframe tbody tr th {\n",
       "        vertical-align: top;\n",
       "    }\n",
       "</style>\n",
       "<table border=\"1\" class=\"dataframe\">\n",
       "  <thead>\n",
       "    <tr>\n",
       "      <th></th>\n",
       "      <th colspan=\"2\" halign=\"left\">N01</th>\n",
       "      <th colspan=\"2\" halign=\"left\">N02</th>\n",
       "      <th colspan=\"2\" halign=\"left\">N03</th>\n",
       "    </tr>\n",
       "    <tr>\n",
       "      <th></th>\n",
       "      <th>SURGE</th>\n",
       "      <th>TIDE</th>\n",
       "      <th>SURGE</th>\n",
       "      <th>TIDE</th>\n",
       "      <th>SURGE</th>\n",
       "      <th>TIDE</th>\n",
       "    </tr>\n",
       "  </thead>\n",
       "  <tbody>\n",
       "    <tr>\n",
       "      <th>2018-07-09 08:00</th>\n",
       "      <td>0.36</td>\n",
       "      <td>3.43</td>\n",
       "      <td>0.36</td>\n",
       "      <td>3.43</td>\n",
       "      <td>0.36</td>\n",
       "      <td>3.43</td>\n",
       "    </tr>\n",
       "    <tr>\n",
       "      <th>2018-07-09 09:00</th>\n",
       "      <td>0.35</td>\n",
       "      <td>3.58</td>\n",
       "      <td>0.35</td>\n",
       "      <td>3.58</td>\n",
       "      <td>0.35</td>\n",
       "      <td>3.58</td>\n",
       "    </tr>\n",
       "    <tr>\n",
       "      <th>2018-07-09 10:00</th>\n",
       "      <td>0.34</td>\n",
       "      <td>3.73</td>\n",
       "      <td>0.34</td>\n",
       "      <td>3.73</td>\n",
       "      <td>0.34</td>\n",
       "      <td>3.73</td>\n",
       "    </tr>\n",
       "    <tr>\n",
       "      <th>2018-07-09 11:00</th>\n",
       "      <td>0.33</td>\n",
       "      <td>3.86</td>\n",
       "      <td>0.33</td>\n",
       "      <td>3.86</td>\n",
       "      <td>0.33</td>\n",
       "      <td>3.86</td>\n",
       "    </tr>\n",
       "    <tr>\n",
       "      <th>2018-07-09 12:00</th>\n",
       "      <td>0.33</td>\n",
       "      <td>3.97</td>\n",
       "      <td>0.33</td>\n",
       "      <td>3.97</td>\n",
       "      <td>0.33</td>\n",
       "      <td>3.97</td>\n",
       "    </tr>\n",
       "  </tbody>\n",
       "</table>\n",
       "</div>"
      ],
      "text/plain": [
       "                   N01         N02         N03      \n",
       "                 SURGE  TIDE SURGE  TIDE SURGE  TIDE\n",
       "2018-07-09 08:00  0.36  3.43  0.36  3.43  0.36  3.43\n",
       "2018-07-09 09:00  0.35  3.58  0.35  3.58  0.35  3.58\n",
       "2018-07-09 10:00  0.34  3.73  0.34  3.73  0.34  3.73\n",
       "2018-07-09 11:00  0.33  3.86  0.33  3.86  0.33  3.86\n",
       "2018-07-09 12:00  0.33  3.97  0.33  3.97  0.33  3.97"
      ]
     },
     "execution_count": 12,
     "metadata": {},
     "output_type": "execute_result"
    }
   ],
   "source": [
    "data.T.head()"
   ]
  },
  {
   "cell_type": "markdown",
   "metadata": {},
   "source": [
    "* 找到最大值所在的位置"
   ]
  },
  {
   "cell_type": "code",
   "execution_count": 14,
   "metadata": {},
   "outputs": [
    {
     "data": {
      "text/plain": [
       "2018-07-09 08:00    (N01, TIDE)\n",
       "2018-07-09 09:00    (N01, TIDE)\n",
       "2018-07-09 10:00    (N01, TIDE)\n",
       "2018-07-09 11:00    (N01, TIDE)\n",
       "2018-07-09 12:00    (N01, TIDE)\n",
       "dtype: object"
      ]
     },
     "execution_count": 14,
     "metadata": {},
     "output_type": "execute_result"
    }
   ],
   "source": [
    "data.T.idxmax(axis=1).head()"
   ]
  },
  {
   "cell_type": "code",
   "execution_count": 15,
   "metadata": {},
   "outputs": [
    {
     "data": {
      "text/plain": [
       "N01  SURGE    2018-07-10 15:00\n",
       "     TIDE     2018-07-10 01:00\n",
       "N02  SURGE    2018-07-10 15:00\n",
       "     TIDE     2018-07-10 01:00\n",
       "N03  SURGE    2018-07-10 15:00\n",
       "dtype: object"
      ]
     },
     "execution_count": 15,
     "metadata": {},
     "output_type": "execute_result"
    }
   ],
   "source": [
    "data.T.idxmax(axis=0).head()"
   ]
  },
  {
   "cell_type": "markdown",
   "metadata": {},
   "source": [
    "* 获取最大值出现的时间"
   ]
  },
  {
   "cell_type": "code",
   "execution_count": 16,
   "metadata": {},
   "outputs": [
    {
     "data": {
      "text/html": [
       "<div>\n",
       "<style>\n",
       "    .dataframe thead tr:only-child th {\n",
       "        text-align: right;\n",
       "    }\n",
       "\n",
       "    .dataframe thead th {\n",
       "        text-align: left;\n",
       "    }\n",
       "\n",
       "    .dataframe tbody tr th {\n",
       "        vertical-align: top;\n",
       "    }\n",
       "</style>\n",
       "<table border=\"1\" class=\"dataframe\">\n",
       "  <thead>\n",
       "    <tr style=\"text-align: right;\">\n",
       "      <th></th>\n",
       "      <th></th>\n",
       "      <th>0</th>\n",
       "    </tr>\n",
       "  </thead>\n",
       "  <tbody>\n",
       "    <tr>\n",
       "      <th rowspan=\"2\" valign=\"top\">N01</th>\n",
       "      <th>SURGE</th>\n",
       "      <td>2018-07-10 15:00</td>\n",
       "    </tr>\n",
       "    <tr>\n",
       "      <th>TIDE</th>\n",
       "      <td>2018-07-10 01:00</td>\n",
       "    </tr>\n",
       "    <tr>\n",
       "      <th rowspan=\"2\" valign=\"top\">N02</th>\n",
       "      <th>SURGE</th>\n",
       "      <td>2018-07-10 15:00</td>\n",
       "    </tr>\n",
       "    <tr>\n",
       "      <th>TIDE</th>\n",
       "      <td>2018-07-10 01:00</td>\n",
       "    </tr>\n",
       "    <tr>\n",
       "      <th rowspan=\"2\" valign=\"top\">N03</th>\n",
       "      <th>SURGE</th>\n",
       "      <td>2018-07-10 15:00</td>\n",
       "    </tr>\n",
       "    <tr>\n",
       "      <th>TIDE</th>\n",
       "      <td>2018-07-10 01:00</td>\n",
       "    </tr>\n",
       "  </tbody>\n",
       "</table>\n",
       "</div>"
      ],
      "text/plain": [
       "                          0\n",
       "N01 SURGE  2018-07-10 15:00\n",
       "    TIDE   2018-07-10 01:00\n",
       "N02 SURGE  2018-07-10 15:00\n",
       "    TIDE   2018-07-10 01:00\n",
       "N03 SURGE  2018-07-10 15:00\n",
       "    TIDE   2018-07-10 01:00"
      ]
     },
     "execution_count": 16,
     "metadata": {},
     "output_type": "execute_result"
    }
   ],
   "source": [
    "pd.DataFrame([data.T.idxmax(axis=0)]).T"
   ]
  },
  {
   "cell_type": "code",
   "execution_count": 18,
   "metadata": {},
   "outputs": [],
   "source": [
    "df_max_dt=data.T.idxmax(axis=0).unstack()"
   ]
  },
  {
   "cell_type": "code",
   "execution_count": 25,
   "metadata": {},
   "outputs": [],
   "source": [
    "df_max_dt.columns=['SURGE_DT','TIDE_DT']"
   ]
  },
  {
   "cell_type": "code",
   "execution_count": 26,
   "metadata": {},
   "outputs": [
    {
     "data": {
      "text/html": [
       "<div>\n",
       "<style>\n",
       "    .dataframe thead tr:only-child th {\n",
       "        text-align: right;\n",
       "    }\n",
       "\n",
       "    .dataframe thead th {\n",
       "        text-align: left;\n",
       "    }\n",
       "\n",
       "    .dataframe tbody tr th {\n",
       "        vertical-align: top;\n",
       "    }\n",
       "</style>\n",
       "<table border=\"1\" class=\"dataframe\">\n",
       "  <thead>\n",
       "    <tr style=\"text-align: right;\">\n",
       "      <th></th>\n",
       "      <th>SURGE_DT</th>\n",
       "      <th>TIDE_DT</th>\n",
       "    </tr>\n",
       "  </thead>\n",
       "  <tbody>\n",
       "    <tr>\n",
       "      <th>N01</th>\n",
       "      <td>2018-07-10 15:00</td>\n",
       "      <td>2018-07-10 01:00</td>\n",
       "    </tr>\n",
       "    <tr>\n",
       "      <th>N02</th>\n",
       "      <td>2018-07-10 15:00</td>\n",
       "      <td>2018-07-10 01:00</td>\n",
       "    </tr>\n",
       "    <tr>\n",
       "      <th>N03</th>\n",
       "      <td>2018-07-10 15:00</td>\n",
       "      <td>2018-07-10 01:00</td>\n",
       "    </tr>\n",
       "  </tbody>\n",
       "</table>\n",
       "</div>"
      ],
      "text/plain": [
       "             SURGE_DT           TIDE_DT\n",
       "N01  2018-07-10 15:00  2018-07-10 01:00\n",
       "N02  2018-07-10 15:00  2018-07-10 01:00\n",
       "N03  2018-07-10 15:00  2018-07-10 01:00"
      ]
     },
     "execution_count": 26,
     "metadata": {},
     "output_type": "execute_result"
    }
   ],
   "source": [
    "df_max_dt"
   ]
  },
  {
   "cell_type": "markdown",
   "metadata": {},
   "source": [
    "* 获取最大值"
   ]
  },
  {
   "cell_type": "code",
   "execution_count": 20,
   "metadata": {},
   "outputs": [
    {
     "data": {
      "text/plain": [
       "N01  SURGE    0.87\n",
       "     TIDE     4.73\n",
       "N02  SURGE    0.87\n",
       "     TIDE     4.73\n",
       "N03  SURGE    0.87\n",
       "     TIDE     4.73\n",
       "dtype: float64"
      ]
     },
     "execution_count": 20,
     "metadata": {},
     "output_type": "execute_result"
    }
   ],
   "source": [
    "data.T.max()"
   ]
  },
  {
   "cell_type": "code",
   "execution_count": 22,
   "metadata": {},
   "outputs": [],
   "source": [
    "df_max_val=data.T.max().unstack()"
   ]
  },
  {
   "cell_type": "code",
   "execution_count": 27,
   "metadata": {},
   "outputs": [],
   "source": [
    "df_max_val.columns=['SURGE_VAL','TIDE_VAL']"
   ]
  },
  {
   "cell_type": "code",
   "execution_count": 30,
   "metadata": {},
   "outputs": [
    {
     "data": {
      "text/html": [
       "<div>\n",
       "<style>\n",
       "    .dataframe thead tr:only-child th {\n",
       "        text-align: right;\n",
       "    }\n",
       "\n",
       "    .dataframe thead th {\n",
       "        text-align: left;\n",
       "    }\n",
       "\n",
       "    .dataframe tbody tr th {\n",
       "        vertical-align: top;\n",
       "    }\n",
       "</style>\n",
       "<table border=\"1\" class=\"dataframe\">\n",
       "  <thead>\n",
       "    <tr style=\"text-align: right;\">\n",
       "      <th></th>\n",
       "      <th>SURGE_VAL</th>\n",
       "      <th>TIDE_VAL</th>\n",
       "    </tr>\n",
       "  </thead>\n",
       "  <tbody>\n",
       "    <tr>\n",
       "      <th>N01</th>\n",
       "      <td>0.87</td>\n",
       "      <td>4.73</td>\n",
       "    </tr>\n",
       "    <tr>\n",
       "      <th>N02</th>\n",
       "      <td>0.87</td>\n",
       "      <td>4.73</td>\n",
       "    </tr>\n",
       "    <tr>\n",
       "      <th>N03</th>\n",
       "      <td>0.87</td>\n",
       "      <td>4.73</td>\n",
       "    </tr>\n",
       "  </tbody>\n",
       "</table>\n",
       "</div>"
      ],
      "text/plain": [
       "     SURGE_VAL  TIDE_VAL\n",
       "N01       0.87      4.73\n",
       "N02       0.87      4.73\n",
       "N03       0.87      4.73"
      ]
     },
     "execution_count": 30,
     "metadata": {},
     "output_type": "execute_result"
    }
   ],
   "source": [
    "df_max_val"
   ]
  },
  {
   "cell_type": "code",
   "execution_count": 31,
   "metadata": {},
   "outputs": [],
   "source": [
    "final_df=pd.concat([df_max_dt,df_max_val],axis=1)"
   ]
  },
  {
   "cell_type": "code",
   "execution_count": 32,
   "metadata": {},
   "outputs": [
    {
     "data": {
      "text/html": [
       "<div>\n",
       "<style>\n",
       "    .dataframe thead tr:only-child th {\n",
       "        text-align: right;\n",
       "    }\n",
       "\n",
       "    .dataframe thead th {\n",
       "        text-align: left;\n",
       "    }\n",
       "\n",
       "    .dataframe tbody tr th {\n",
       "        vertical-align: top;\n",
       "    }\n",
       "</style>\n",
       "<table border=\"1\" class=\"dataframe\">\n",
       "  <thead>\n",
       "    <tr style=\"text-align: right;\">\n",
       "      <th></th>\n",
       "      <th>SURGE_DT</th>\n",
       "      <th>TIDE_DT</th>\n",
       "      <th>SURGE_VAL</th>\n",
       "      <th>TIDE_VAL</th>\n",
       "    </tr>\n",
       "  </thead>\n",
       "  <tbody>\n",
       "    <tr>\n",
       "      <th>N01</th>\n",
       "      <td>2018-07-10 15:00</td>\n",
       "      <td>2018-07-10 01:00</td>\n",
       "      <td>0.87</td>\n",
       "      <td>4.73</td>\n",
       "    </tr>\n",
       "    <tr>\n",
       "      <th>N02</th>\n",
       "      <td>2018-07-10 15:00</td>\n",
       "      <td>2018-07-10 01:00</td>\n",
       "      <td>0.87</td>\n",
       "      <td>4.73</td>\n",
       "    </tr>\n",
       "    <tr>\n",
       "      <th>N03</th>\n",
       "      <td>2018-07-10 15:00</td>\n",
       "      <td>2018-07-10 01:00</td>\n",
       "      <td>0.87</td>\n",
       "      <td>4.73</td>\n",
       "    </tr>\n",
       "  </tbody>\n",
       "</table>\n",
       "</div>"
      ],
      "text/plain": [
       "             SURGE_DT           TIDE_DT  SURGE_VAL  TIDE_VAL\n",
       "N01  2018-07-10 15:00  2018-07-10 01:00       0.87      4.73\n",
       "N02  2018-07-10 15:00  2018-07-10 01:00       0.87      4.73\n",
       "N03  2018-07-10 15:00  2018-07-10 01:00       0.87      4.73"
      ]
     },
     "execution_count": 32,
     "metadata": {},
     "output_type": "execute_result"
    }
   ],
   "source": [
    "final_df"
   ]
  },
  {
   "cell_type": "code",
   "execution_count": null,
   "metadata": {
    "collapsed": true
   },
   "outputs": [],
   "source": []
  }
 ],
 "metadata": {
  "kernelspec": {
   "display_name": "Python 3",
   "language": "python",
   "name": "python3"
  },
  "language_info": {
   "codemirror_mode": {
    "name": "ipython",
    "version": 3
   },
   "file_extension": ".py",
   "mimetype": "text/x-python",
   "name": "python",
   "nbconvert_exporter": "python",
   "pygments_lexer": "ipython3",
   "version": "3.6.2"
  }
 },
 "nbformat": 4,
 "nbformat_minor": 2
}
