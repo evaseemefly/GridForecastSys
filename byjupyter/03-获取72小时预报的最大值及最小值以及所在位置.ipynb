{
 "cells": [
  {
   "cell_type": "code",
   "execution_count": 1,
   "metadata": {
    "collapsed": true
   },
   "outputs": [],
   "source": [
    "import numpy as np\n",
    "import pandas as pd\n",
    "import os\n",
    "import sys\n",
    "import datetime"
   ]
  },
  {
   "cell_type": "code",
   "execution_count": 2,
   "metadata": {},
   "outputs": [
    {
     "data": {
      "text/html": [
       "<div>\n",
       "<style>\n",
       "    .dataframe thead tr:only-child th {\n",
       "        text-align: right;\n",
       "    }\n",
       "\n",
       "    .dataframe thead th {\n",
       "        text-align: left;\n",
       "    }\n",
       "\n",
       "    .dataframe tbody tr th {\n",
       "        vertical-align: top;\n",
       "    }\n",
       "</style>\n",
       "<table border=\"1\" class=\"dataframe\">\n",
       "  <thead>\n",
       "    <tr style=\"text-align: right;\">\n",
       "      <th></th>\n",
       "      <th>0</th>\n",
       "      <th>1</th>\n",
       "      <th>2018022608</th>\n",
       "      <th>2018022609</th>\n",
       "      <th>2018022610</th>\n",
       "      <th>2018022611</th>\n",
       "      <th>2018022612</th>\n",
       "      <th>2018022613</th>\n",
       "      <th>2018022614</th>\n",
       "      <th>2018022615</th>\n",
       "      <th>...</th>\n",
       "      <th>2018022823</th>\n",
       "      <th>2018030100</th>\n",
       "      <th>2018030101</th>\n",
       "      <th>2018030102</th>\n",
       "      <th>2018030103</th>\n",
       "      <th>2018030104</th>\n",
       "      <th>2018030105</th>\n",
       "      <th>2018030106</th>\n",
       "      <th>2018030107</th>\n",
       "      <th>2018030108</th>\n",
       "    </tr>\n",
       "  </thead>\n",
       "  <tbody>\n",
       "    <tr>\n",
       "      <th>0</th>\n",
       "      <td>N01</td>\n",
       "      <td>HS</td>\n",
       "      <td>0.49</td>\n",
       "      <td>0.48</td>\n",
       "      <td>0.46</td>\n",
       "      <td>0.45</td>\n",
       "      <td>0.43</td>\n",
       "      <td>0.42</td>\n",
       "      <td>0.41</td>\n",
       "      <td>0.40</td>\n",
       "      <td>...</td>\n",
       "      <td>0.35</td>\n",
       "      <td>0.35</td>\n",
       "      <td>0.35</td>\n",
       "      <td>0.35</td>\n",
       "      <td>0.35</td>\n",
       "      <td>0.35</td>\n",
       "      <td>0.36</td>\n",
       "      <td>0.36</td>\n",
       "      <td>0.39</td>\n",
       "      <td>0.42</td>\n",
       "    </tr>\n",
       "    <tr>\n",
       "      <th>1</th>\n",
       "      <td>N01</td>\n",
       "      <td>PER</td>\n",
       "      <td>3.14</td>\n",
       "      <td>3.14</td>\n",
       "      <td>3.20</td>\n",
       "      <td>3.27</td>\n",
       "      <td>3.34</td>\n",
       "      <td>3.38</td>\n",
       "      <td>3.41</td>\n",
       "      <td>3.44</td>\n",
       "      <td>...</td>\n",
       "      <td>3.70</td>\n",
       "      <td>3.74</td>\n",
       "      <td>3.81</td>\n",
       "      <td>3.90</td>\n",
       "      <td>3.95</td>\n",
       "      <td>3.93</td>\n",
       "      <td>3.85</td>\n",
       "      <td>3.66</td>\n",
       "      <td>3.30</td>\n",
       "      <td>3.05</td>\n",
       "    </tr>\n",
       "    <tr>\n",
       "      <th>2</th>\n",
       "      <td>N01</td>\n",
       "      <td>DIR</td>\n",
       "      <td>11.19</td>\n",
       "      <td>11.21</td>\n",
       "      <td>12.50</td>\n",
       "      <td>14.01</td>\n",
       "      <td>15.01</td>\n",
       "      <td>15.63</td>\n",
       "      <td>16.05</td>\n",
       "      <td>16.31</td>\n",
       "      <td>...</td>\n",
       "      <td>17.03</td>\n",
       "      <td>17.33</td>\n",
       "      <td>17.59</td>\n",
       "      <td>17.84</td>\n",
       "      <td>17.62</td>\n",
       "      <td>16.95</td>\n",
       "      <td>15.89</td>\n",
       "      <td>13.79</td>\n",
       "      <td>9.30</td>\n",
       "      <td>5.26</td>\n",
       "    </tr>\n",
       "    <tr>\n",
       "      <th>3</th>\n",
       "      <td>N02</td>\n",
       "      <td>HS</td>\n",
       "      <td>0.44</td>\n",
       "      <td>0.43</td>\n",
       "      <td>0.42</td>\n",
       "      <td>0.41</td>\n",
       "      <td>0.40</td>\n",
       "      <td>0.40</td>\n",
       "      <td>0.39</td>\n",
       "      <td>0.38</td>\n",
       "      <td>...</td>\n",
       "      <td>0.31</td>\n",
       "      <td>0.32</td>\n",
       "      <td>0.32</td>\n",
       "      <td>0.32</td>\n",
       "      <td>0.32</td>\n",
       "      <td>0.32</td>\n",
       "      <td>0.32</td>\n",
       "      <td>0.34</td>\n",
       "      <td>0.39</td>\n",
       "      <td>0.45</td>\n",
       "    </tr>\n",
       "    <tr>\n",
       "      <th>4</th>\n",
       "      <td>N02</td>\n",
       "      <td>PER</td>\n",
       "      <td>4.03</td>\n",
       "      <td>4.05</td>\n",
       "      <td>4.06</td>\n",
       "      <td>4.04</td>\n",
       "      <td>4.02</td>\n",
       "      <td>3.99</td>\n",
       "      <td>3.94</td>\n",
       "      <td>3.94</td>\n",
       "      <td>...</td>\n",
       "      <td>4.29</td>\n",
       "      <td>4.36</td>\n",
       "      <td>4.42</td>\n",
       "      <td>4.47</td>\n",
       "      <td>4.44</td>\n",
       "      <td>4.35</td>\n",
       "      <td>4.15</td>\n",
       "      <td>3.76</td>\n",
       "      <td>3.28</td>\n",
       "      <td>3.07</td>\n",
       "    </tr>\n",
       "  </tbody>\n",
       "</table>\n",
       "<p>5 rows × 75 columns</p>\n",
       "</div>"
      ],
      "text/plain": [
       "     0    1  2018022608  2018022609  2018022610  2018022611  2018022612  \\\n",
       "0  N01   HS        0.49        0.48        0.46        0.45        0.43   \n",
       "1  N01  PER        3.14        3.14        3.20        3.27        3.34   \n",
       "2  N01  DIR       11.19       11.21       12.50       14.01       15.01   \n",
       "3  N02   HS        0.44        0.43        0.42        0.41        0.40   \n",
       "4  N02  PER        4.03        4.05        4.06        4.04        4.02   \n",
       "\n",
       "   2018022613  2018022614  2018022615     ...      2018022823  2018030100  \\\n",
       "0        0.42        0.41        0.40     ...            0.35        0.35   \n",
       "1        3.38        3.41        3.44     ...            3.70        3.74   \n",
       "2       15.63       16.05       16.31     ...           17.03       17.33   \n",
       "3        0.40        0.39        0.38     ...            0.31        0.32   \n",
       "4        3.99        3.94        3.94     ...            4.29        4.36   \n",
       "\n",
       "   2018030101  2018030102  2018030103  2018030104  2018030105  2018030106  \\\n",
       "0        0.35        0.35        0.35        0.35        0.36        0.36   \n",
       "1        3.81        3.90        3.95        3.93        3.85        3.66   \n",
       "2       17.59       17.84       17.62       16.95       15.89       13.79   \n",
       "3        0.32        0.32        0.32        0.32        0.32        0.34   \n",
       "4        4.42        4.47        4.44        4.35        4.15        3.76   \n",
       "\n",
       "   2018030107  2018030108  \n",
       "0        0.39        0.42  \n",
       "1        3.30        3.05  \n",
       "2        9.30        5.26  \n",
       "3        0.39        0.45  \n",
       "4        3.28        3.07  \n",
       "\n",
       "[5 rows x 75 columns]"
      ]
     },
     "execution_count": 2,
     "metadata": {},
     "output_type": "execute_result"
    }
   ],
   "source": [
    "read_date=pd.read_csv('convert_date.csv',',')\n",
    "# read_date=read_date.set_index([0,1])\n",
    "read_date.head()"
   ]
  },
  {
   "cell_type": "code",
   "execution_count": 4,
   "metadata": {
    "collapsed": true
   },
   "outputs": [],
   "source": [
    "read_date=read_date.set_index(['0','1'])"
   ]
  },
  {
   "cell_type": "markdown",
   "metadata": {},
   "source": [
    "#### 分别获取最大值所在位置与最大值"
   ]
  },
  {
   "cell_type": "code",
   "execution_count": 5,
   "metadata": {},
   "outputs": [
    {
     "data": {
      "text/plain": [
       "0    1  \n",
       "N01  HS     2018022716\n",
       "     PER    2018030103\n",
       "     DIR    2018022806\n",
       "N02  HS     2018030108\n",
       "     PER    2018030102\n",
       "dtype: object"
      ]
     },
     "execution_count": 5,
     "metadata": {},
     "output_type": "execute_result"
    }
   ],
   "source": [
    "read_date.T.idxmax(axis=0).head()"
   ]
  },
  {
   "cell_type": "code",
   "execution_count": 8,
   "metadata": {},
   "outputs": [
    {
     "data": {
      "text/plain": [
       "0    1  \n",
       "N01  HS      4.89\n",
       "     PER     3.95\n",
       "     DIR    24.03\n",
       "N02  HS      0.45\n",
       "     PER     4.47\n",
       "dtype: float64"
      ]
     },
     "execution_count": 8,
     "metadata": {},
     "output_type": "execute_result"
    }
   ],
   "source": [
    "read_date.T.max().head()"
   ]
  },
  {
   "cell_type": "code",
   "execution_count": null,
   "metadata": {
    "collapsed": true
   },
   "outputs": [],
   "source": []
  }
 ],
 "metadata": {
  "kernelspec": {
   "display_name": "Python 3",
   "language": "python",
   "name": "python3"
  },
  "language_info": {
   "codemirror_mode": {
    "name": "ipython",
    "version": 3
   },
   "file_extension": ".py",
   "mimetype": "text/x-python",
   "name": "python",
   "nbconvert_exporter": "python",
   "pygments_lexer": "ipython3",
   "version": "3.6.2"
  }
 },
 "nbformat": 4,
 "nbformat_minor": 2
}
