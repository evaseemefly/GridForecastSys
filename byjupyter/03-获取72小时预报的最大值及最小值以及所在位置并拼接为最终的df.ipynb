{
 "cells": [
  {
   "cell_type": "code",
   "execution_count": 38,
   "metadata": {
    "collapsed": true
   },
   "outputs": [],
   "source": [
    "import numpy as np\n",
    "import pandas as pd\n",
    "import os\n",
    "import sys\n",
    "import datetime"
   ]
  },
  {
   "cell_type": "code",
   "execution_count": 85,
   "metadata": {},
   "outputs": [
    {
     "data": {
      "text/html": [
       "<div>\n",
       "<style>\n",
       "    .dataframe thead tr:only-child th {\n",
       "        text-align: right;\n",
       "    }\n",
       "\n",
       "    .dataframe thead th {\n",
       "        text-align: left;\n",
       "    }\n",
       "\n",
       "    .dataframe tbody tr th {\n",
       "        vertical-align: top;\n",
       "    }\n",
       "</style>\n",
       "<table border=\"1\" class=\"dataframe\">\n",
       "  <thead>\n",
       "    <tr style=\"text-align: right;\">\n",
       "      <th></th>\n",
       "      <th>0</th>\n",
       "      <th>1</th>\n",
       "      <th>2018-03-07 08:00</th>\n",
       "      <th>2018-03-07 09:00</th>\n",
       "      <th>2018-03-07 10:00</th>\n",
       "      <th>2018-03-07 11:00</th>\n",
       "      <th>2018-03-07 12:00</th>\n",
       "      <th>2018-03-07 13:00</th>\n",
       "      <th>2018-03-07 14:00</th>\n",
       "      <th>2018-03-07 15:00</th>\n",
       "      <th>...</th>\n",
       "      <th>2018-03-09 23:00</th>\n",
       "      <th>2018-03-10 00:00</th>\n",
       "      <th>2018-03-10 01:00</th>\n",
       "      <th>2018-03-10 02:00</th>\n",
       "      <th>2018-03-10 03:00</th>\n",
       "      <th>2018-03-10 04:00</th>\n",
       "      <th>2018-03-10 05:00</th>\n",
       "      <th>2018-03-10 06:00</th>\n",
       "      <th>2018-03-10 07:00</th>\n",
       "      <th>2018-03-10 08:00</th>\n",
       "    </tr>\n",
       "  </thead>\n",
       "  <tbody>\n",
       "    <tr>\n",
       "      <th>0</th>\n",
       "      <td>N01</td>\n",
       "      <td>HS</td>\n",
       "      <td>0.49</td>\n",
       "      <td>0.48</td>\n",
       "      <td>0.46</td>\n",
       "      <td>0.45</td>\n",
       "      <td>0.43</td>\n",
       "      <td>0.42</td>\n",
       "      <td>0.41</td>\n",
       "      <td>0.40</td>\n",
       "      <td>...</td>\n",
       "      <td>0.35</td>\n",
       "      <td>0.35</td>\n",
       "      <td>0.35</td>\n",
       "      <td>0.35</td>\n",
       "      <td>0.35</td>\n",
       "      <td>0.35</td>\n",
       "      <td>0.36</td>\n",
       "      <td>0.36</td>\n",
       "      <td>0.39</td>\n",
       "      <td>0.42</td>\n",
       "    </tr>\n",
       "    <tr>\n",
       "      <th>1</th>\n",
       "      <td>N01</td>\n",
       "      <td>PER</td>\n",
       "      <td>3.14</td>\n",
       "      <td>3.14</td>\n",
       "      <td>3.20</td>\n",
       "      <td>3.27</td>\n",
       "      <td>3.34</td>\n",
       "      <td>3.38</td>\n",
       "      <td>3.41</td>\n",
       "      <td>3.44</td>\n",
       "      <td>...</td>\n",
       "      <td>3.70</td>\n",
       "      <td>3.74</td>\n",
       "      <td>3.81</td>\n",
       "      <td>3.90</td>\n",
       "      <td>3.95</td>\n",
       "      <td>3.93</td>\n",
       "      <td>3.85</td>\n",
       "      <td>3.66</td>\n",
       "      <td>3.30</td>\n",
       "      <td>3.05</td>\n",
       "    </tr>\n",
       "    <tr>\n",
       "      <th>2</th>\n",
       "      <td>N01</td>\n",
       "      <td>DIR</td>\n",
       "      <td>11.19</td>\n",
       "      <td>11.21</td>\n",
       "      <td>12.50</td>\n",
       "      <td>14.01</td>\n",
       "      <td>15.01</td>\n",
       "      <td>15.63</td>\n",
       "      <td>16.05</td>\n",
       "      <td>16.31</td>\n",
       "      <td>...</td>\n",
       "      <td>17.03</td>\n",
       "      <td>17.33</td>\n",
       "      <td>17.59</td>\n",
       "      <td>17.84</td>\n",
       "      <td>17.62</td>\n",
       "      <td>16.95</td>\n",
       "      <td>15.89</td>\n",
       "      <td>13.79</td>\n",
       "      <td>9.30</td>\n",
       "      <td>5.26</td>\n",
       "    </tr>\n",
       "    <tr>\n",
       "      <th>3</th>\n",
       "      <td>N02</td>\n",
       "      <td>HS</td>\n",
       "      <td>0.44</td>\n",
       "      <td>0.43</td>\n",
       "      <td>0.42</td>\n",
       "      <td>0.41</td>\n",
       "      <td>0.40</td>\n",
       "      <td>0.40</td>\n",
       "      <td>0.39</td>\n",
       "      <td>0.38</td>\n",
       "      <td>...</td>\n",
       "      <td>0.31</td>\n",
       "      <td>0.32</td>\n",
       "      <td>0.32</td>\n",
       "      <td>0.32</td>\n",
       "      <td>0.32</td>\n",
       "      <td>0.32</td>\n",
       "      <td>0.32</td>\n",
       "      <td>0.34</td>\n",
       "      <td>0.39</td>\n",
       "      <td>0.45</td>\n",
       "    </tr>\n",
       "    <tr>\n",
       "      <th>4</th>\n",
       "      <td>N02</td>\n",
       "      <td>PER</td>\n",
       "      <td>4.03</td>\n",
       "      <td>4.05</td>\n",
       "      <td>4.06</td>\n",
       "      <td>4.04</td>\n",
       "      <td>4.02</td>\n",
       "      <td>3.99</td>\n",
       "      <td>3.94</td>\n",
       "      <td>3.94</td>\n",
       "      <td>...</td>\n",
       "      <td>4.29</td>\n",
       "      <td>4.36</td>\n",
       "      <td>4.42</td>\n",
       "      <td>4.47</td>\n",
       "      <td>4.44</td>\n",
       "      <td>4.35</td>\n",
       "      <td>4.15</td>\n",
       "      <td>3.76</td>\n",
       "      <td>3.28</td>\n",
       "      <td>3.07</td>\n",
       "    </tr>\n",
       "  </tbody>\n",
       "</table>\n",
       "<p>5 rows × 75 columns</p>\n",
       "</div>"
      ],
      "text/plain": [
       "     0    1  2018-03-07 08:00  2018-03-07 09:00  2018-03-07 10:00  \\\n",
       "0  N01   HS              0.49              0.48              0.46   \n",
       "1  N01  PER              3.14              3.14              3.20   \n",
       "2  N01  DIR             11.19             11.21             12.50   \n",
       "3  N02   HS              0.44              0.43              0.42   \n",
       "4  N02  PER              4.03              4.05              4.06   \n",
       "\n",
       "   2018-03-07 11:00  2018-03-07 12:00  2018-03-07 13:00  2018-03-07 14:00  \\\n",
       "0              0.45              0.43              0.42              0.41   \n",
       "1              3.27              3.34              3.38              3.41   \n",
       "2             14.01             15.01             15.63             16.05   \n",
       "3              0.41              0.40              0.40              0.39   \n",
       "4              4.04              4.02              3.99              3.94   \n",
       "\n",
       "   2018-03-07 15:00        ...         2018-03-09 23:00  2018-03-10 00:00  \\\n",
       "0              0.40        ...                     0.35              0.35   \n",
       "1              3.44        ...                     3.70              3.74   \n",
       "2             16.31        ...                    17.03             17.33   \n",
       "3              0.38        ...                     0.31              0.32   \n",
       "4              3.94        ...                     4.29              4.36   \n",
       "\n",
       "   2018-03-10 01:00  2018-03-10 02:00  2018-03-10 03:00  2018-03-10 04:00  \\\n",
       "0              0.35              0.35              0.35              0.35   \n",
       "1              3.81              3.90              3.95              3.93   \n",
       "2             17.59             17.84             17.62             16.95   \n",
       "3              0.32              0.32              0.32              0.32   \n",
       "4              4.42              4.47              4.44              4.35   \n",
       "\n",
       "   2018-03-10 05:00  2018-03-10 06:00  2018-03-10 07:00  2018-03-10 08:00  \n",
       "0              0.36              0.36              0.39              0.42  \n",
       "1              3.85              3.66              3.30              3.05  \n",
       "2             15.89             13.79              9.30              5.26  \n",
       "3              0.32              0.34              0.39              0.45  \n",
       "4              4.15              3.76              3.28              3.07  \n",
       "\n",
       "[5 rows x 75 columns]"
      ]
     },
     "execution_count": 85,
     "metadata": {},
     "output_type": "execute_result"
    }
   ],
   "source": [
    "read_date=pd.read_csv('convert_date.csv',',')\n",
    "# read_date=read_date.set_index([0,1])\n",
    "read_date.head()"
   ]
  },
  {
   "cell_type": "code",
   "execution_count": 86,
   "metadata": {
    "collapsed": true
   },
   "outputs": [],
   "source": [
    "read_date=read_date.set_index(['0','1'])"
   ]
  },
  {
   "cell_type": "code",
   "execution_count": 87,
   "metadata": {},
   "outputs": [
    {
     "data": {
      "text/plain": [
       "FrozenList(['0', '1'])"
      ]
     },
     "execution_count": 87,
     "metadata": {},
     "output_type": "execute_result"
    }
   ],
   "source": [
    "read_date.index.names"
   ]
  },
  {
   "cell_type": "code",
   "execution_count": 96,
   "metadata": {
    "collapsed": true
   },
   "outputs": [],
   "source": [
    "# 3-8 添加 ：使用此种方式也可以取消掉层次索引的names\n",
    "# 不行names会为['','']\n",
    "read_date.index.names=['','']"
   ]
  },
  {
   "cell_type": "code",
   "execution_count": 97,
   "metadata": {
    "collapsed": true
   },
   "outputs": [],
   "source": [
    "# read_date.index"
   ]
  },
  {
   "cell_type": "code",
   "execution_count": 98,
   "metadata": {
    "collapsed": true
   },
   "outputs": [],
   "source": [
    "read_date.index.names=['code','factor']\n",
    "# read_date.index.names=[]"
   ]
  },
  {
   "cell_type": "code",
   "execution_count": 99,
   "metadata": {},
   "outputs": [
    {
     "data": {
      "text/html": [
       "<div>\n",
       "<style>\n",
       "    .dataframe thead tr:only-child th {\n",
       "        text-align: right;\n",
       "    }\n",
       "\n",
       "    .dataframe thead th {\n",
       "        text-align: left;\n",
       "    }\n",
       "\n",
       "    .dataframe tbody tr th {\n",
       "        vertical-align: top;\n",
       "    }\n",
       "</style>\n",
       "<table border=\"1\" class=\"dataframe\">\n",
       "  <thead>\n",
       "    <tr style=\"text-align: right;\">\n",
       "      <th></th>\n",
       "      <th></th>\n",
       "      <th>2018-03-07 08:00</th>\n",
       "      <th>2018-03-07 09:00</th>\n",
       "      <th>2018-03-07 10:00</th>\n",
       "      <th>2018-03-07 11:00</th>\n",
       "      <th>2018-03-07 12:00</th>\n",
       "      <th>2018-03-07 13:00</th>\n",
       "      <th>2018-03-07 14:00</th>\n",
       "      <th>2018-03-07 15:00</th>\n",
       "      <th>2018-03-07 16:00</th>\n",
       "      <th>2018-03-07 17:00</th>\n",
       "      <th>...</th>\n",
       "      <th>2018-03-09 23:00</th>\n",
       "      <th>2018-03-10 00:00</th>\n",
       "      <th>2018-03-10 01:00</th>\n",
       "      <th>2018-03-10 02:00</th>\n",
       "      <th>2018-03-10 03:00</th>\n",
       "      <th>2018-03-10 04:00</th>\n",
       "      <th>2018-03-10 05:00</th>\n",
       "      <th>2018-03-10 06:00</th>\n",
       "      <th>2018-03-10 07:00</th>\n",
       "      <th>2018-03-10 08:00</th>\n",
       "    </tr>\n",
       "    <tr>\n",
       "      <th>code</th>\n",
       "      <th>factor</th>\n",
       "      <th></th>\n",
       "      <th></th>\n",
       "      <th></th>\n",
       "      <th></th>\n",
       "      <th></th>\n",
       "      <th></th>\n",
       "      <th></th>\n",
       "      <th></th>\n",
       "      <th></th>\n",
       "      <th></th>\n",
       "      <th></th>\n",
       "      <th></th>\n",
       "      <th></th>\n",
       "      <th></th>\n",
       "      <th></th>\n",
       "      <th></th>\n",
       "      <th></th>\n",
       "      <th></th>\n",
       "      <th></th>\n",
       "      <th></th>\n",
       "      <th></th>\n",
       "    </tr>\n",
       "  </thead>\n",
       "  <tbody>\n",
       "    <tr>\n",
       "      <th rowspan=\"3\" valign=\"top\">N01</th>\n",
       "      <th>HS</th>\n",
       "      <td>0.49</td>\n",
       "      <td>0.48</td>\n",
       "      <td>0.46</td>\n",
       "      <td>0.45</td>\n",
       "      <td>0.43</td>\n",
       "      <td>0.42</td>\n",
       "      <td>0.41</td>\n",
       "      <td>0.40</td>\n",
       "      <td>0.39</td>\n",
       "      <td>0.38</td>\n",
       "      <td>...</td>\n",
       "      <td>0.35</td>\n",
       "      <td>0.35</td>\n",
       "      <td>0.35</td>\n",
       "      <td>0.35</td>\n",
       "      <td>0.35</td>\n",
       "      <td>0.35</td>\n",
       "      <td>0.36</td>\n",
       "      <td>0.36</td>\n",
       "      <td>0.39</td>\n",
       "      <td>0.42</td>\n",
       "    </tr>\n",
       "    <tr>\n",
       "      <th>PER</th>\n",
       "      <td>3.14</td>\n",
       "      <td>3.14</td>\n",
       "      <td>3.20</td>\n",
       "      <td>3.27</td>\n",
       "      <td>3.34</td>\n",
       "      <td>3.38</td>\n",
       "      <td>3.41</td>\n",
       "      <td>3.44</td>\n",
       "      <td>3.47</td>\n",
       "      <td>3.49</td>\n",
       "      <td>...</td>\n",
       "      <td>3.70</td>\n",
       "      <td>3.74</td>\n",
       "      <td>3.81</td>\n",
       "      <td>3.90</td>\n",
       "      <td>3.95</td>\n",
       "      <td>3.93</td>\n",
       "      <td>3.85</td>\n",
       "      <td>3.66</td>\n",
       "      <td>3.30</td>\n",
       "      <td>3.05</td>\n",
       "    </tr>\n",
       "    <tr>\n",
       "      <th>DIR</th>\n",
       "      <td>11.19</td>\n",
       "      <td>11.21</td>\n",
       "      <td>12.50</td>\n",
       "      <td>14.01</td>\n",
       "      <td>15.01</td>\n",
       "      <td>15.63</td>\n",
       "      <td>16.05</td>\n",
       "      <td>16.31</td>\n",
       "      <td>16.51</td>\n",
       "      <td>16.71</td>\n",
       "      <td>...</td>\n",
       "      <td>17.03</td>\n",
       "      <td>17.33</td>\n",
       "      <td>17.59</td>\n",
       "      <td>17.84</td>\n",
       "      <td>17.62</td>\n",
       "      <td>16.95</td>\n",
       "      <td>15.89</td>\n",
       "      <td>13.79</td>\n",
       "      <td>9.30</td>\n",
       "      <td>5.26</td>\n",
       "    </tr>\n",
       "    <tr>\n",
       "      <th rowspan=\"2\" valign=\"top\">N02</th>\n",
       "      <th>HS</th>\n",
       "      <td>0.44</td>\n",
       "      <td>0.43</td>\n",
       "      <td>0.42</td>\n",
       "      <td>0.41</td>\n",
       "      <td>0.40</td>\n",
       "      <td>0.40</td>\n",
       "      <td>0.39</td>\n",
       "      <td>0.38</td>\n",
       "      <td>0.37</td>\n",
       "      <td>0.36</td>\n",
       "      <td>...</td>\n",
       "      <td>0.31</td>\n",
       "      <td>0.32</td>\n",
       "      <td>0.32</td>\n",
       "      <td>0.32</td>\n",
       "      <td>0.32</td>\n",
       "      <td>0.32</td>\n",
       "      <td>0.32</td>\n",
       "      <td>0.34</td>\n",
       "      <td>0.39</td>\n",
       "      <td>0.45</td>\n",
       "    </tr>\n",
       "    <tr>\n",
       "      <th>PER</th>\n",
       "      <td>4.03</td>\n",
       "      <td>4.05</td>\n",
       "      <td>4.06</td>\n",
       "      <td>4.04</td>\n",
       "      <td>4.02</td>\n",
       "      <td>3.99</td>\n",
       "      <td>3.94</td>\n",
       "      <td>3.94</td>\n",
       "      <td>3.97</td>\n",
       "      <td>3.98</td>\n",
       "      <td>...</td>\n",
       "      <td>4.29</td>\n",
       "      <td>4.36</td>\n",
       "      <td>4.42</td>\n",
       "      <td>4.47</td>\n",
       "      <td>4.44</td>\n",
       "      <td>4.35</td>\n",
       "      <td>4.15</td>\n",
       "      <td>3.76</td>\n",
       "      <td>3.28</td>\n",
       "      <td>3.07</td>\n",
       "    </tr>\n",
       "  </tbody>\n",
       "</table>\n",
       "<p>5 rows × 73 columns</p>\n",
       "</div>"
      ],
      "text/plain": [
       "             2018-03-07 08:00  2018-03-07 09:00  2018-03-07 10:00  \\\n",
       "code factor                                                         \n",
       "N01  HS                  0.49              0.48              0.46   \n",
       "     PER                 3.14              3.14              3.20   \n",
       "     DIR                11.19             11.21             12.50   \n",
       "N02  HS                  0.44              0.43              0.42   \n",
       "     PER                 4.03              4.05              4.06   \n",
       "\n",
       "             2018-03-07 11:00  2018-03-07 12:00  2018-03-07 13:00  \\\n",
       "code factor                                                         \n",
       "N01  HS                  0.45              0.43              0.42   \n",
       "     PER                 3.27              3.34              3.38   \n",
       "     DIR                14.01             15.01             15.63   \n",
       "N02  HS                  0.41              0.40              0.40   \n",
       "     PER                 4.04              4.02              3.99   \n",
       "\n",
       "             2018-03-07 14:00  2018-03-07 15:00  2018-03-07 16:00  \\\n",
       "code factor                                                         \n",
       "N01  HS                  0.41              0.40              0.39   \n",
       "     PER                 3.41              3.44              3.47   \n",
       "     DIR                16.05             16.31             16.51   \n",
       "N02  HS                  0.39              0.38              0.37   \n",
       "     PER                 3.94              3.94              3.97   \n",
       "\n",
       "             2018-03-07 17:00        ...         2018-03-09 23:00  \\\n",
       "code factor                          ...                            \n",
       "N01  HS                  0.38        ...                     0.35   \n",
       "     PER                 3.49        ...                     3.70   \n",
       "     DIR                16.71        ...                    17.03   \n",
       "N02  HS                  0.36        ...                     0.31   \n",
       "     PER                 3.98        ...                     4.29   \n",
       "\n",
       "             2018-03-10 00:00  2018-03-10 01:00  2018-03-10 02:00  \\\n",
       "code factor                                                         \n",
       "N01  HS                  0.35              0.35              0.35   \n",
       "     PER                 3.74              3.81              3.90   \n",
       "     DIR                17.33             17.59             17.84   \n",
       "N02  HS                  0.32              0.32              0.32   \n",
       "     PER                 4.36              4.42              4.47   \n",
       "\n",
       "             2018-03-10 03:00  2018-03-10 04:00  2018-03-10 05:00  \\\n",
       "code factor                                                         \n",
       "N01  HS                  0.35              0.35              0.36   \n",
       "     PER                 3.95              3.93              3.85   \n",
       "     DIR                17.62             16.95             15.89   \n",
       "N02  HS                  0.32              0.32              0.32   \n",
       "     PER                 4.44              4.35              4.15   \n",
       "\n",
       "             2018-03-10 06:00  2018-03-10 07:00  2018-03-10 08:00  \n",
       "code factor                                                        \n",
       "N01  HS                  0.36              0.39              0.42  \n",
       "     PER                 3.66              3.30              3.05  \n",
       "     DIR                13.79              9.30              5.26  \n",
       "N02  HS                  0.34              0.39              0.45  \n",
       "     PER                 3.76              3.28              3.07  \n",
       "\n",
       "[5 rows x 73 columns]"
      ]
     },
     "execution_count": 99,
     "metadata": {},
     "output_type": "execute_result"
    }
   ],
   "source": [
    "read_date.head()"
   ]
  },
  {
   "cell_type": "markdown",
   "metadata": {},
   "source": [
    "#### 分别获取最大值所在位置与最大值"
   ]
  },
  {
   "cell_type": "markdown",
   "metadata": {},
   "source": [
    "#### 1 获取最大值所在位置"
   ]
  },
  {
   "cell_type": "code",
   "execution_count": 44,
   "metadata": {},
   "outputs": [
    {
     "data": {
      "text/plain": [
       "code  factor\n",
       "N01   HS        2018-03-08 16:00\n",
       "      PER       2018-03-10 03:00\n",
       "      DIR       2018-03-09 06:00\n",
       "N02   HS        2018-03-10 08:00\n",
       "      PER       2018-03-10 02:00\n",
       "dtype: object"
      ]
     },
     "execution_count": 44,
     "metadata": {},
     "output_type": "execute_result"
    }
   ],
   "source": [
    "read_date.T.idxmax(axis=0).head()"
   ]
  },
  {
   "cell_type": "code",
   "execution_count": 45,
   "metadata": {},
   "outputs": [
    {
     "data": {
      "text/plain": [
       "pandas.core.series.Series"
      ]
     },
     "execution_count": 45,
     "metadata": {},
     "output_type": "execute_result"
    }
   ],
   "source": [
    "type(read_date.T.idxmax(axis=0))"
   ]
  },
  {
   "cell_type": "code",
   "execution_count": 46,
   "metadata": {},
   "outputs": [
    {
     "data": {
      "text/html": [
       "<div>\n",
       "<style>\n",
       "    .dataframe thead tr:only-child th {\n",
       "        text-align: right;\n",
       "    }\n",
       "\n",
       "    .dataframe thead th {\n",
       "        text-align: left;\n",
       "    }\n",
       "\n",
       "    .dataframe tbody tr th {\n",
       "        vertical-align: top;\n",
       "    }\n",
       "</style>\n",
       "<table border=\"1\" class=\"dataframe\">\n",
       "  <thead>\n",
       "    <tr style=\"text-align: right;\">\n",
       "      <th></th>\n",
       "      <th></th>\n",
       "      <th>0</th>\n",
       "    </tr>\n",
       "    <tr>\n",
       "      <th>code</th>\n",
       "      <th>factor</th>\n",
       "      <th></th>\n",
       "    </tr>\n",
       "  </thead>\n",
       "  <tbody>\n",
       "    <tr>\n",
       "      <th rowspan=\"3\" valign=\"top\">N01</th>\n",
       "      <th>HS</th>\n",
       "      <td>2018-03-08 16:00</td>\n",
       "    </tr>\n",
       "    <tr>\n",
       "      <th>PER</th>\n",
       "      <td>2018-03-10 03:00</td>\n",
       "    </tr>\n",
       "    <tr>\n",
       "      <th>DIR</th>\n",
       "      <td>2018-03-09 06:00</td>\n",
       "    </tr>\n",
       "    <tr>\n",
       "      <th rowspan=\"2\" valign=\"top\">N02</th>\n",
       "      <th>HS</th>\n",
       "      <td>2018-03-10 08:00</td>\n",
       "    </tr>\n",
       "    <tr>\n",
       "      <th>PER</th>\n",
       "      <td>2018-03-10 02:00</td>\n",
       "    </tr>\n",
       "  </tbody>\n",
       "</table>\n",
       "</div>"
      ],
      "text/plain": [
       "                            0\n",
       "code factor                  \n",
       "N01  HS      2018-03-08 16:00\n",
       "     PER     2018-03-10 03:00\n",
       "     DIR     2018-03-09 06:00\n",
       "N02  HS      2018-03-10 08:00\n",
       "     PER     2018-03-10 02:00"
      ]
     },
     "execution_count": 46,
     "metadata": {},
     "output_type": "execute_result"
    }
   ],
   "source": [
    "pd.DataFrame([read_date.T.idxmax(axis=0)]).T.head()"
   ]
  },
  {
   "cell_type": "code",
   "execution_count": 47,
   "metadata": {},
   "outputs": [
    {
     "data": {
      "text/plain": [
       "FrozenList(['code', 'factor'])"
      ]
     },
     "execution_count": 47,
     "metadata": {},
     "output_type": "execute_result"
    }
   ],
   "source": [
    "pd.DataFrame([read_date.T.idxmax(axis=0)]).T.index.names"
   ]
  },
  {
   "cell_type": "code",
   "execution_count": 48,
   "metadata": {},
   "outputs": [
    {
     "data": {
      "text/html": [
       "<div>\n",
       "<style>\n",
       "    .dataframe thead tr:only-child th {\n",
       "        text-align: right;\n",
       "    }\n",
       "\n",
       "    .dataframe thead th {\n",
       "        text-align: left;\n",
       "    }\n",
       "\n",
       "    .dataframe tbody tr th {\n",
       "        vertical-align: top;\n",
       "    }\n",
       "</style>\n",
       "<table border=\"1\" class=\"dataframe\">\n",
       "  <thead>\n",
       "    <tr style=\"text-align: right;\">\n",
       "      <th>factor</th>\n",
       "      <th>DIR</th>\n",
       "      <th>HS</th>\n",
       "      <th>PER</th>\n",
       "    </tr>\n",
       "    <tr>\n",
       "      <th>code</th>\n",
       "      <th></th>\n",
       "      <th></th>\n",
       "      <th></th>\n",
       "    </tr>\n",
       "  </thead>\n",
       "  <tbody>\n",
       "    <tr>\n",
       "      <th>E01</th>\n",
       "      <td>2018-03-07 16:00</td>\n",
       "      <td>2018-03-08 09:00</td>\n",
       "      <td>2018-03-09 14:00</td>\n",
       "    </tr>\n",
       "    <tr>\n",
       "      <th>E02</th>\n",
       "      <td>2018-03-07 18:00</td>\n",
       "      <td>2018-03-08 09:00</td>\n",
       "      <td>2018-03-09 13:00</td>\n",
       "    </tr>\n",
       "    <tr>\n",
       "      <th>E03</th>\n",
       "      <td>2018-03-07 08:00</td>\n",
       "      <td>2018-03-09 11:00</td>\n",
       "      <td>2018-03-09 11:00</td>\n",
       "    </tr>\n",
       "    <tr>\n",
       "      <th>E04</th>\n",
       "      <td>2018-03-07 20:00</td>\n",
       "      <td>2018-03-09 10:00</td>\n",
       "      <td>2018-03-09 10:00</td>\n",
       "    </tr>\n",
       "    <tr>\n",
       "      <th>E05</th>\n",
       "      <td>2018-03-07 19:00</td>\n",
       "      <td>2018-03-10 04:00</td>\n",
       "      <td>2018-03-09 08:00</td>\n",
       "    </tr>\n",
       "  </tbody>\n",
       "</table>\n",
       "</div>"
      ],
      "text/plain": [
       "factor               DIR                HS               PER\n",
       "code                                                        \n",
       "E01     2018-03-07 16:00  2018-03-08 09:00  2018-03-09 14:00\n",
       "E02     2018-03-07 18:00  2018-03-08 09:00  2018-03-09 13:00\n",
       "E03     2018-03-07 08:00  2018-03-09 11:00  2018-03-09 11:00\n",
       "E04     2018-03-07 20:00  2018-03-09 10:00  2018-03-09 10:00\n",
       "E05     2018-03-07 19:00  2018-03-10 04:00  2018-03-09 08:00"
      ]
     },
     "execution_count": 48,
     "metadata": {},
     "output_type": "execute_result"
    }
   ],
   "source": [
    "read_date.T.idxmax(axis=0).unstack().head()"
   ]
  },
  {
   "cell_type": "code",
   "execution_count": 49,
   "metadata": {},
   "outputs": [
    {
     "data": {
      "text/plain": [
       "Index(['E01', 'E02', 'E03', 'E04', 'E05', 'E06', 'E07', 'E08', 'E09', 'E10',\n",
       "       ...\n",
       "       'S42', 'S43', 'S44', 'S45', 'S46', 'S47', 'S48', 'S49', 'S50', 'S51'],\n",
       "      dtype='object', name='code', length=213)"
      ]
     },
     "execution_count": 49,
     "metadata": {},
     "output_type": "execute_result"
    }
   ],
   "source": [
    "read_date.T.idxmax(axis=0).unstack().index"
   ]
  },
  {
   "cell_type": "markdown",
   "metadata": {},
   "source": [
    "* 获取columns"
   ]
  },
  {
   "cell_type": "code",
   "execution_count": 50,
   "metadata": {},
   "outputs": [
    {
     "data": {
      "text/plain": [
       "Index(['DIR', 'HS', 'PER'], dtype='object', name='factor')"
      ]
     },
     "execution_count": 50,
     "metadata": {},
     "output_type": "execute_result"
    }
   ],
   "source": [
    "read_date.T.idxmax(axis=0).unstack().columns"
   ]
  },
  {
   "cell_type": "code",
   "execution_count": 51,
   "metadata": {},
   "outputs": [
    {
     "data": {
      "text/plain": [
       "pandas.core.indexes.base.Index"
      ]
     },
     "execution_count": 51,
     "metadata": {},
     "output_type": "execute_result"
    }
   ],
   "source": [
    "type(read_date.T.idxmax(axis=0).unstack().columns)"
   ]
  },
  {
   "cell_type": "markdown",
   "metadata": {},
   "source": [
    "* 获取data"
   ]
  },
  {
   "cell_type": "code",
   "execution_count": 52,
   "metadata": {},
   "outputs": [
    {
     "data": {
      "text/plain": [
       "array([['2018-03-07 16:00', '2018-03-08 09:00', '2018-03-09 14:00'],\n",
       "       ['2018-03-07 18:00', '2018-03-08 09:00', '2018-03-09 13:00'],\n",
       "       ['2018-03-07 08:00', '2018-03-09 11:00', '2018-03-09 11:00'],\n",
       "       ['2018-03-07 20:00', '2018-03-09 10:00', '2018-03-09 10:00'],\n",
       "       ['2018-03-07 19:00', '2018-03-10 04:00', '2018-03-09 08:00']], dtype=object)"
      ]
     },
     "execution_count": 52,
     "metadata": {},
     "output_type": "execute_result"
    }
   ],
   "source": [
    "read_date.T.idxmax(axis=0).unstack().values[:5]"
   ]
  },
  {
   "cell_type": "markdown",
   "metadata": {},
   "source": [
    "* 拼成新的df"
   ]
  },
  {
   "cell_type": "code",
   "execution_count": 53,
   "metadata": {
    "collapsed": true
   },
   "outputs": [],
   "source": [
    "new_read_data=pd.DataFrame(read_date.T.idxmax(axis=0).unstack().values,columns=read_date.T.idxmax(axis=0).unstack().columns)"
   ]
  },
  {
   "cell_type": "code",
   "execution_count": 54,
   "metadata": {},
   "outputs": [
    {
     "data": {
      "text/html": [
       "<div>\n",
       "<style>\n",
       "    .dataframe thead tr:only-child th {\n",
       "        text-align: right;\n",
       "    }\n",
       "\n",
       "    .dataframe thead th {\n",
       "        text-align: left;\n",
       "    }\n",
       "\n",
       "    .dataframe tbody tr th {\n",
       "        vertical-align: top;\n",
       "    }\n",
       "</style>\n",
       "<table border=\"1\" class=\"dataframe\">\n",
       "  <thead>\n",
       "    <tr style=\"text-align: right;\">\n",
       "      <th>factor</th>\n",
       "      <th>DIR</th>\n",
       "      <th>HS</th>\n",
       "      <th>PER</th>\n",
       "    </tr>\n",
       "  </thead>\n",
       "  <tbody>\n",
       "    <tr>\n",
       "      <th>0</th>\n",
       "      <td>2018-03-07 16:00</td>\n",
       "      <td>2018-03-08 09:00</td>\n",
       "      <td>2018-03-09 14:00</td>\n",
       "    </tr>\n",
       "    <tr>\n",
       "      <th>1</th>\n",
       "      <td>2018-03-07 18:00</td>\n",
       "      <td>2018-03-08 09:00</td>\n",
       "      <td>2018-03-09 13:00</td>\n",
       "    </tr>\n",
       "    <tr>\n",
       "      <th>2</th>\n",
       "      <td>2018-03-07 08:00</td>\n",
       "      <td>2018-03-09 11:00</td>\n",
       "      <td>2018-03-09 11:00</td>\n",
       "    </tr>\n",
       "    <tr>\n",
       "      <th>3</th>\n",
       "      <td>2018-03-07 20:00</td>\n",
       "      <td>2018-03-09 10:00</td>\n",
       "      <td>2018-03-09 10:00</td>\n",
       "    </tr>\n",
       "    <tr>\n",
       "      <th>4</th>\n",
       "      <td>2018-03-07 19:00</td>\n",
       "      <td>2018-03-10 04:00</td>\n",
       "      <td>2018-03-09 08:00</td>\n",
       "    </tr>\n",
       "  </tbody>\n",
       "</table>\n",
       "</div>"
      ],
      "text/plain": [
       "factor               DIR                HS               PER\n",
       "0       2018-03-07 16:00  2018-03-08 09:00  2018-03-09 14:00\n",
       "1       2018-03-07 18:00  2018-03-08 09:00  2018-03-09 13:00\n",
       "2       2018-03-07 08:00  2018-03-09 11:00  2018-03-09 11:00\n",
       "3       2018-03-07 20:00  2018-03-09 10:00  2018-03-09 10:00\n",
       "4       2018-03-07 19:00  2018-03-10 04:00  2018-03-09 08:00"
      ]
     },
     "execution_count": 54,
     "metadata": {},
     "output_type": "execute_result"
    }
   ],
   "source": [
    "new_read_data.head()"
   ]
  },
  {
   "cell_type": "code",
   "execution_count": 55,
   "metadata": {},
   "outputs": [
    {
     "data": {
      "text/plain": [
       "Index(['E01', 'E02', 'E03', 'E04', 'E05', 'E06', 'E07', 'E08', 'E09', 'E10',\n",
       "       ...\n",
       "       'S42', 'S43', 'S44', 'S45', 'S46', 'S47', 'S48', 'S49', 'S50', 'S51'],\n",
       "      dtype='object', name='code', length=213)"
      ]
     },
     "execution_count": 55,
     "metadata": {},
     "output_type": "execute_result"
    }
   ],
   "source": [
    "read_date.T.idxmax(axis=0).unstack().index"
   ]
  },
  {
   "cell_type": "markdown",
   "metadata": {},
   "source": [
    "#### 2 获取最大值"
   ]
  },
  {
   "cell_type": "code",
   "execution_count": 56,
   "metadata": {},
   "outputs": [
    {
     "data": {
      "text/plain": [
       "code  factor\n",
       "N01   HS         4.89\n",
       "      PER        3.95\n",
       "      DIR       24.03\n",
       "N02   HS         0.45\n",
       "      PER        4.47\n",
       "dtype: float64"
      ]
     },
     "execution_count": 56,
     "metadata": {},
     "output_type": "execute_result"
    }
   ],
   "source": [
    "read_date.T.max().head()"
   ]
  },
  {
   "cell_type": "code",
   "execution_count": 57,
   "metadata": {},
   "outputs": [
    {
     "data": {
      "text/html": [
       "<div>\n",
       "<style>\n",
       "    .dataframe thead tr:only-child th {\n",
       "        text-align: right;\n",
       "    }\n",
       "\n",
       "    .dataframe thead th {\n",
       "        text-align: left;\n",
       "    }\n",
       "\n",
       "    .dataframe tbody tr th {\n",
       "        vertical-align: top;\n",
       "    }\n",
       "</style>\n",
       "<table border=\"1\" class=\"dataframe\">\n",
       "  <thead>\n",
       "    <tr style=\"text-align: right;\">\n",
       "      <th>factor</th>\n",
       "      <th>DIR</th>\n",
       "      <th>HS</th>\n",
       "      <th>PER</th>\n",
       "    </tr>\n",
       "    <tr>\n",
       "      <th>code</th>\n",
       "      <th></th>\n",
       "      <th></th>\n",
       "      <th></th>\n",
       "    </tr>\n",
       "  </thead>\n",
       "  <tbody>\n",
       "    <tr>\n",
       "      <th>E01</th>\n",
       "      <td>356.88</td>\n",
       "      <td>0.54</td>\n",
       "      <td>4.87</td>\n",
       "    </tr>\n",
       "    <tr>\n",
       "      <th>E02</th>\n",
       "      <td>359.89</td>\n",
       "      <td>0.49</td>\n",
       "      <td>4.72</td>\n",
       "    </tr>\n",
       "    <tr>\n",
       "      <th>E03</th>\n",
       "      <td>355.85</td>\n",
       "      <td>0.56</td>\n",
       "      <td>4.82</td>\n",
       "    </tr>\n",
       "    <tr>\n",
       "      <th>E04</th>\n",
       "      <td>350.79</td>\n",
       "      <td>0.60</td>\n",
       "      <td>4.74</td>\n",
       "    </tr>\n",
       "    <tr>\n",
       "      <th>E05</th>\n",
       "      <td>332.64</td>\n",
       "      <td>0.72</td>\n",
       "      <td>4.54</td>\n",
       "    </tr>\n",
       "  </tbody>\n",
       "</table>\n",
       "</div>"
      ],
      "text/plain": [
       "factor     DIR    HS   PER\n",
       "code                      \n",
       "E01     356.88  0.54  4.87\n",
       "E02     359.89  0.49  4.72\n",
       "E03     355.85  0.56  4.82\n",
       "E04     350.79  0.60  4.74\n",
       "E05     332.64  0.72  4.54"
      ]
     },
     "execution_count": 57,
     "metadata": {},
     "output_type": "execute_result"
    }
   ],
   "source": [
    "read_date.T.max().unstack().head()"
   ]
  },
  {
   "cell_type": "markdown",
   "metadata": {},
   "source": [
    "* 获取外层及内层数据"
   ]
  },
  {
   "cell_type": "code",
   "execution_count": 58,
   "metadata": {},
   "outputs": [
    {
     "data": {
      "text/plain": [
       "4.8899999999999997"
      ]
     },
     "execution_count": 58,
     "metadata": {},
     "output_type": "execute_result"
    }
   ],
   "source": [
    "read_date.T.max()[0]"
   ]
  },
  {
   "cell_type": "code",
   "execution_count": 59,
   "metadata": {},
   "outputs": [
    {
     "data": {
      "text/plain": [
       "3.9500000000000002"
      ]
     },
     "execution_count": 59,
     "metadata": {},
     "output_type": "execute_result"
    }
   ],
   "source": [
    "read_date.T.max()['N01','PER']"
   ]
  },
  {
   "cell_type": "code",
   "execution_count": 60,
   "metadata": {},
   "outputs": [
    {
     "data": {
      "text/plain": [
       "factor\n",
       "HS      4.89\n",
       "PER     3.95\n",
       "DIR    24.03\n",
       "dtype: float64"
      ]
     },
     "execution_count": 60,
     "metadata": {},
     "output_type": "execute_result"
    }
   ],
   "source": [
    "read_date.T.max()['N01']"
   ]
  },
  {
   "cell_type": "markdown",
   "metadata": {},
   "source": [
    "* series的层次化索引类型为MultiIndex"
   ]
  },
  {
   "cell_type": "code",
   "execution_count": 61,
   "metadata": {},
   "outputs": [
    {
     "data": {
      "text/plain": [
       "MultiIndex(levels=[['E01', 'E02', 'E03', 'E04', 'E05', 'E06', 'E07', 'E08', 'E09', 'E10', 'E11', 'E12', 'E13', 'E14', 'E15', 'E16', 'E17', 'E18', 'E19', 'E20', 'E21', 'E22', 'E23', 'E24', 'E25', 'E26', 'E27', 'E28', 'E29', 'E30', 'E31', 'E32', 'E33', 'E34', 'E35', 'E36', 'E37', 'E38', 'E39', 'E40', 'E41', 'E42', 'E43', 'E44', 'E45', 'E46', 'E47', 'E48', 'E49', 'E50', 'E51', 'E52', 'E53', 'E54', 'E55', 'E56', 'E57', 'E58', 'E59', 'E60', 'E61', 'E62', 'E63', 'E64', 'E65', 'E66', 'E67', 'E68', 'E69', 'E70', 'E71', 'E72', 'E73', 'E74', 'E75', 'E76', 'E77', 'E78', 'E79', 'E80', 'E81', 'E82', 'E83', 'E84', 'E85', 'N01', 'N02', 'N03', 'N04', 'N05', 'N06', 'N07', 'N08', 'N09', 'N10', 'N11', 'N12', 'N13', 'N14', 'N15', 'N16', 'N17', 'N18', 'N19', 'N20', 'N21', 'N22', 'N23', 'N24', 'N25', 'N26', 'N27', 'N28', 'N29', 'N30', 'N31', 'N32', 'N33', 'N34', 'N35', 'N36', 'N37', 'N38', 'N39', 'N40', 'N41', 'N42', 'N43', 'N44', 'N45', 'N46', 'N47', 'N48', 'N49', 'N50', 'N51', 'N52', 'N53', 'N54', 'N55', 'N56', 'N57', 'N58', 'N59', 'N60', 'N61', 'N62', 'N63', 'N64', 'N65', 'N66', 'N67', 'N68', 'N69', 'N70', 'N71', 'N72', 'N73', 'N74', 'N75', 'N76', 'N77', 'S01', 'S02', 'S03', 'S04', 'S05', 'S06', 'S07', 'S08', 'S09', 'S10', 'S11', 'S12', 'S13', 'S14', 'S15', 'S16', 'S17', 'S18', 'S19', 'S20', 'S21', 'S22', 'S23', 'S24', 'S25', 'S26', 'S27', 'S28', 'S29', 'S30', 'S31', 'S32', 'S33', 'S34', 'S35', 'S36', 'S37', 'S38', 'S39', 'S40', 'S41', 'S42', 'S43', 'S44', 'S45', 'S46', 'S47', 'S48', 'S49', 'S50', 'S51'], ['DIR', 'HS', 'PER']],\n",
       "           labels=[[85, 85, 85, 86, 86, 86, 87, 87, 87, 88, 88, 88, 89, 89, 89, 90, 90, 90, 91, 91, 91, 92, 92, 92, 93, 93, 93, 94, 94, 94, 95, 95, 95, 96, 96, 96, 97, 97, 97, 98, 98, 98, 99, 99, 99, 100, 100, 100, 101, 101, 101, 102, 102, 102, 103, 103, 103, 104, 104, 104, 105, 105, 105, 106, 106, 106, 107, 107, 107, 108, 108, 108, 109, 109, 109, 110, 110, 110, 111, 111, 111, 112, 112, 112, 113, 113, 113, 114, 114, 114, 115, 115, 115, 116, 116, 116, 117, 117, 117, 118, 118, 118, 119, 119, 119, 120, 120, 120, 121, 121, 121, 122, 122, 122, 123, 123, 123, 124, 124, 124, 125, 125, 125, 126, 126, 126, 127, 127, 127, 128, 128, 128, 129, 129, 129, 130, 130, 130, 131, 131, 131, 132, 132, 132, 133, 133, 133, 134, 134, 134, 135, 135, 135, 136, 136, 136, 137, 137, 137, 138, 138, 138, 139, 139, 139, 140, 140, 140, 141, 141, 141, 142, 142, 142, 143, 143, 143, 144, 144, 144, 145, 145, 145, 146, 146, 146, 147, 147, 147, 148, 148, 148, 149, 149, 149, 150, 150, 150, 151, 151, 151, 152, 152, 152, 153, 153, 153, 154, 154, 154, 155, 155, 155, 156, 156, 156, 157, 157, 157, 158, 158, 158, 159, 159, 159, 160, 160, 160, 161, 161, 161, 0, 0, 0, 1, 1, 1, 2, 2, 2, 3, 3, 3, 4, 4, 4, 5, 5, 5, 6, 6, 6, 7, 7, 7, 8, 8, 8, 9, 9, 9, 10, 10, 10, 11, 11, 11, 12, 12, 12, 13, 13, 13, 14, 14, 14, 15, 15, 15, 16, 16, 16, 17, 17, 17, 18, 18, 18, 19, 19, 19, 20, 20, 20, 21, 21, 21, 22, 22, 22, 23, 23, 23, 24, 24, 24, 25, 25, 25, 26, 26, 26, 27, 27, 27, 28, 28, 28, 29, 29, 29, 30, 30, 30, 31, 31, 31, 32, 32, 32, 33, 33, 33, 34, 34, 34, 35, 35, 35, 36, 36, 36, 37, 37, 37, 38, 38, 38, 39, 39, 39, 40, 40, 40, 41, 41, 41, 42, 42, 42, 43, 43, 43, 44, 44, 44, 45, 45, 45, 46, 46, 46, 47, 47, 47, 48, 48, 48, 49, 49, 49, 50, 50, 50, 51, 51, 51, 52, 52, 52, 53, 53, 53, 54, 54, 54, 55, 55, 55, 56, 56, 56, 57, 57, 57, 58, 58, 58, 59, 59, 59, 60, 60, 60, 61, 61, 61, 62, 62, 62, 63, 63, 63, 64, 64, 64, 65, 65, 65, 66, 66, 66, 67, 67, 67, 68, 68, 68, 69, 69, 69, 70, 70, 70, 71, 71, 71, 72, 72, 72, 73, 73, 73, 74, 74, 74, 75, 75, 75, 76, 76, 76, 77, 77, 77, 78, 78, 78, 79, 79, 79, 80, 80, 80, 81, 81, 81, 82, 82, 82, 83, 83, 83, 84, 84, 84, 162, 162, 162, 163, 163, 163, 164, 164, 164, 165, 165, 165, 166, 166, 166, 167, 167, 167, 168, 168, 168, 169, 169, 169, 170, 170, 170, 171, 171, 171, 172, 172, 172, 173, 173, 173, 174, 174, 174, 175, 175, 175, 176, 176, 176, 177, 177, 177, 178, 178, 178, 179, 179, 179, 180, 180, 180, 181, 181, 181, 182, 182, 182, 183, 183, 183, 184, 184, 184, 185, 185, 185, 186, 186, 186, 187, 187, 187, 188, 188, 188, 189, 189, 189, 190, 190, 190, 191, 191, 191, 192, 192, 192, 193, 193, 193, 194, 194, 194, 195, 195, 195, 196, 196, 196, 197, 197, 197, 198, 198, 198, 199, 199, 199, 200, 200, 200, 201, 201, 201, 202, 202, 202, 203, 203, 203, 204, 204, 204, 205, 205, 205, 206, 206, 206, 207, 207, 207, 208, 208, 208, 209, 209, 209, 210, 210, 210, 211, 211, 211, 212, 212, 212], [1, 2, 0, 1, 2, 0, 1, 2, 0, 1, 2, 0, 1, 2, 0, 1, 2, 0, 1, 2, 0, 1, 2, 0, 1, 2, 0, 1, 2, 0, 1, 2, 0, 1, 2, 0, 1, 2, 0, 1, 2, 0, 1, 2, 0, 1, 2, 0, 1, 2, 0, 1, 2, 0, 1, 2, 0, 1, 2, 0, 1, 2, 0, 1, 2, 0, 1, 2, 0, 1, 2, 0, 1, 2, 0, 1, 2, 0, 1, 2, 0, 1, 2, 0, 1, 2, 0, 1, 2, 0, 1, 2, 0, 1, 2, 0, 1, 2, 0, 1, 2, 0, 1, 2, 0, 1, 2, 0, 1, 2, 0, 1, 2, 0, 1, 2, 0, 1, 2, 0, 1, 2, 0, 1, 2, 0, 1, 2, 0, 1, 2, 0, 1, 2, 0, 1, 2, 0, 1, 2, 0, 1, 2, 0, 1, 2, 0, 1, 2, 0, 1, 2, 0, 1, 2, 0, 1, 2, 0, 1, 2, 0, 1, 2, 0, 1, 2, 0, 1, 2, 0, 1, 2, 0, 1, 2, 0, 1, 2, 0, 1, 2, 0, 1, 2, 0, 1, 2, 0, 1, 2, 0, 1, 2, 0, 1, 2, 0, 1, 2, 0, 1, 2, 0, 1, 2, 0, 1, 2, 0, 1, 2, 0, 1, 2, 0, 1, 2, 0, 1, 2, 0, 1, 2, 0, 1, 2, 0, 1, 2, 0, 1, 2, 0, 1, 2, 0, 1, 2, 0, 1, 2, 0, 1, 2, 0, 1, 2, 0, 1, 2, 0, 1, 2, 0, 1, 2, 0, 1, 2, 0, 1, 2, 0, 1, 2, 0, 1, 2, 0, 1, 2, 0, 1, 2, 0, 1, 2, 0, 1, 2, 0, 1, 2, 0, 1, 2, 0, 1, 2, 0, 1, 2, 0, 1, 2, 0, 1, 2, 0, 1, 2, 0, 1, 2, 0, 1, 2, 0, 1, 2, 0, 1, 2, 0, 1, 2, 0, 1, 2, 0, 1, 2, 0, 1, 2, 0, 1, 2, 0, 1, 2, 0, 1, 2, 0, 1, 2, 0, 1, 2, 0, 1, 2, 0, 1, 2, 0, 1, 2, 0, 1, 2, 0, 1, 2, 0, 1, 2, 0, 1, 2, 0, 1, 2, 0, 1, 2, 0, 1, 2, 0, 1, 2, 0, 1, 2, 0, 1, 2, 0, 1, 2, 0, 1, 2, 0, 1, 2, 0, 1, 2, 0, 1, 2, 0, 1, 2, 0, 1, 2, 0, 1, 2, 0, 1, 2, 0, 1, 2, 0, 1, 2, 0, 1, 2, 0, 1, 2, 0, 1, 2, 0, 1, 2, 0, 1, 2, 0, 1, 2, 0, 1, 2, 0, 1, 2, 0, 1, 2, 0, 1, 2, 0, 1, 2, 0, 1, 2, 0, 1, 2, 0, 1, 2, 0, 1, 2, 0, 1, 2, 0, 1, 2, 0, 1, 2, 0, 1, 2, 0, 1, 2, 0, 1, 2, 0, 1, 2, 0, 1, 2, 0, 1, 2, 0, 1, 2, 0, 1, 2, 0, 1, 2, 0, 1, 2, 0, 1, 2, 0, 1, 2, 0, 1, 2, 0, 1, 2, 0, 1, 2, 0, 1, 2, 0, 1, 2, 0, 1, 2, 0, 1, 2, 0, 1, 2, 0, 1, 2, 0, 1, 2, 0, 1, 2, 0, 1, 2, 0, 1, 2, 0, 1, 2, 0, 1, 2, 0, 1, 2, 0, 1, 2, 0, 1, 2, 0, 1, 2, 0, 1, 2, 0, 1, 2, 0, 1, 2, 0, 1, 2, 0, 1, 2, 0, 1, 2, 0, 1, 2, 0, 1, 2, 0, 1, 2, 0, 1, 2, 0, 1, 2, 0, 1, 2, 0, 1, 2, 0, 1, 2, 0, 1, 2, 0, 1, 2, 0, 1, 2, 0, 1, 2, 0, 1, 2, 0, 1, 2, 0, 1, 2, 0, 1, 2, 0, 1, 2, 0, 1, 2, 0, 1, 2, 0, 1, 2, 0]],\n",
       "           names=['code', 'factor'])"
      ]
     },
     "execution_count": 61,
     "metadata": {},
     "output_type": "execute_result"
    }
   ],
   "source": [
    "read_date.T.max().index"
   ]
  },
  {
   "cell_type": "code",
   "execution_count": 62,
   "metadata": {},
   "outputs": [
    {
     "data": {
      "text/plain": [
       "FrozenList([['E01', 'E02', 'E03', 'E04', 'E05', 'E06', 'E07', 'E08', 'E09', 'E10', 'E11', 'E12', 'E13', 'E14', 'E15', 'E16', 'E17', 'E18', 'E19', 'E20', 'E21', 'E22', 'E23', 'E24', 'E25', 'E26', 'E27', 'E28', 'E29', 'E30', 'E31', 'E32', 'E33', 'E34', 'E35', 'E36', 'E37', 'E38', 'E39', 'E40', 'E41', 'E42', 'E43', 'E44', 'E45', 'E46', 'E47', 'E48', 'E49', 'E50', 'E51', 'E52', 'E53', 'E54', 'E55', 'E56', 'E57', 'E58', 'E59', 'E60', 'E61', 'E62', 'E63', 'E64', 'E65', 'E66', 'E67', 'E68', 'E69', 'E70', 'E71', 'E72', 'E73', 'E74', 'E75', 'E76', 'E77', 'E78', 'E79', 'E80', 'E81', 'E82', 'E83', 'E84', 'E85', 'N01', 'N02', 'N03', 'N04', 'N05', 'N06', 'N07', 'N08', 'N09', 'N10', 'N11', 'N12', 'N13', 'N14', 'N15', ...], ['DIR', 'HS', 'PER']])"
      ]
     },
     "execution_count": 62,
     "metadata": {},
     "output_type": "execute_result"
    }
   ],
   "source": [
    "read_date.T.max().index.levels"
   ]
  },
  {
   "cell_type": "markdown",
   "metadata": {
    "collapsed": true
   },
   "source": [
    "#### 3 拼接最大值及最大值对应的时间（2018-03-08 最终版）"
   ]
  },
  {
   "cell_type": "markdown",
   "metadata": {},
   "source": [
    "* 最大值"
   ]
  },
  {
   "cell_type": "code",
   "execution_count": 63,
   "metadata": {},
   "outputs": [
    {
     "data": {
      "text/html": [
       "<div>\n",
       "<style>\n",
       "    .dataframe thead tr:only-child th {\n",
       "        text-align: right;\n",
       "    }\n",
       "\n",
       "    .dataframe thead th {\n",
       "        text-align: left;\n",
       "    }\n",
       "\n",
       "    .dataframe tbody tr th {\n",
       "        vertical-align: top;\n",
       "    }\n",
       "</style>\n",
       "<table border=\"1\" class=\"dataframe\">\n",
       "  <thead>\n",
       "    <tr style=\"text-align: right;\">\n",
       "      <th>factor</th>\n",
       "      <th>DIR</th>\n",
       "      <th>HS</th>\n",
       "      <th>PER</th>\n",
       "    </tr>\n",
       "    <tr>\n",
       "      <th>code</th>\n",
       "      <th></th>\n",
       "      <th></th>\n",
       "      <th></th>\n",
       "    </tr>\n",
       "  </thead>\n",
       "  <tbody>\n",
       "    <tr>\n",
       "      <th>E01</th>\n",
       "      <td>356.88</td>\n",
       "      <td>0.54</td>\n",
       "      <td>4.87</td>\n",
       "    </tr>\n",
       "    <tr>\n",
       "      <th>E02</th>\n",
       "      <td>359.89</td>\n",
       "      <td>0.49</td>\n",
       "      <td>4.72</td>\n",
       "    </tr>\n",
       "    <tr>\n",
       "      <th>E03</th>\n",
       "      <td>355.85</td>\n",
       "      <td>0.56</td>\n",
       "      <td>4.82</td>\n",
       "    </tr>\n",
       "    <tr>\n",
       "      <th>E04</th>\n",
       "      <td>350.79</td>\n",
       "      <td>0.60</td>\n",
       "      <td>4.74</td>\n",
       "    </tr>\n",
       "    <tr>\n",
       "      <th>E05</th>\n",
       "      <td>332.64</td>\n",
       "      <td>0.72</td>\n",
       "      <td>4.54</td>\n",
       "    </tr>\n",
       "  </tbody>\n",
       "</table>\n",
       "</div>"
      ],
      "text/plain": [
       "factor     DIR    HS   PER\n",
       "code                      \n",
       "E01     356.88  0.54  4.87\n",
       "E02     359.89  0.49  4.72\n",
       "E03     355.85  0.56  4.82\n",
       "E04     350.79  0.60  4.74\n",
       "E05     332.64  0.72  4.54"
      ]
     },
     "execution_count": 63,
     "metadata": {},
     "output_type": "execute_result"
    }
   ],
   "source": [
    "read_date.T.max().unstack().head()"
   ]
  },
  {
   "cell_type": "code",
   "execution_count": 64,
   "metadata": {
    "collapsed": true
   },
   "outputs": [],
   "source": [
    "df_max_value=read_date.T.max().unstack()\n",
    "df_max_value.columns=['DIR_VALUE','HS_VALUES','PER_VALUES']"
   ]
  },
  {
   "cell_type": "code",
   "execution_count": 65,
   "metadata": {},
   "outputs": [
    {
     "data": {
      "text/plain": [
       "Index(['E01', 'E02', 'E03', 'E04', 'E05', 'E06', 'E07', 'E08', 'E09', 'E10',\n",
       "       ...\n",
       "       'S42', 'S43', 'S44', 'S45', 'S46', 'S47', 'S48', 'S49', 'S50', 'S51'],\n",
       "      dtype='object', name='code', length=213)"
      ]
     },
     "execution_count": 65,
     "metadata": {},
     "output_type": "execute_result"
    }
   ],
   "source": [
    "df_max_value.index"
   ]
  },
  {
   "cell_type": "code",
   "execution_count": 66,
   "metadata": {
    "collapsed": true
   },
   "outputs": [],
   "source": [
    "# 去掉index的name\n",
    "df_max_value.index=df_max_value.index.values"
   ]
  },
  {
   "cell_type": "code",
   "execution_count": 75,
   "metadata": {},
   "outputs": [
    {
     "data": {
      "text/html": [
       "<div>\n",
       "<style>\n",
       "    .dataframe thead tr:only-child th {\n",
       "        text-align: right;\n",
       "    }\n",
       "\n",
       "    .dataframe thead th {\n",
       "        text-align: left;\n",
       "    }\n",
       "\n",
       "    .dataframe tbody tr th {\n",
       "        vertical-align: top;\n",
       "    }\n",
       "</style>\n",
       "<table border=\"1\" class=\"dataframe\">\n",
       "  <thead>\n",
       "    <tr style=\"text-align: right;\">\n",
       "      <th></th>\n",
       "      <th>DIR_VALUE</th>\n",
       "      <th>HS_VALUES</th>\n",
       "      <th>PER_VALUES</th>\n",
       "    </tr>\n",
       "  </thead>\n",
       "  <tbody>\n",
       "    <tr>\n",
       "      <th>E01</th>\n",
       "      <td>356.88</td>\n",
       "      <td>0.54</td>\n",
       "      <td>4.87</td>\n",
       "    </tr>\n",
       "    <tr>\n",
       "      <th>E02</th>\n",
       "      <td>359.89</td>\n",
       "      <td>0.49</td>\n",
       "      <td>4.72</td>\n",
       "    </tr>\n",
       "    <tr>\n",
       "      <th>E03</th>\n",
       "      <td>355.85</td>\n",
       "      <td>0.56</td>\n",
       "      <td>4.82</td>\n",
       "    </tr>\n",
       "    <tr>\n",
       "      <th>E04</th>\n",
       "      <td>350.79</td>\n",
       "      <td>0.60</td>\n",
       "      <td>4.74</td>\n",
       "    </tr>\n",
       "    <tr>\n",
       "      <th>E05</th>\n",
       "      <td>332.64</td>\n",
       "      <td>0.72</td>\n",
       "      <td>4.54</td>\n",
       "    </tr>\n",
       "  </tbody>\n",
       "</table>\n",
       "</div>"
      ],
      "text/plain": [
       "     DIR_VALUE  HS_VALUES  PER_VALUES\n",
       "E01     356.88       0.54        4.87\n",
       "E02     359.89       0.49        4.72\n",
       "E03     355.85       0.56        4.82\n",
       "E04     350.79       0.60        4.74\n",
       "E05     332.64       0.72        4.54"
      ]
     },
     "execution_count": 75,
     "metadata": {},
     "output_type": "execute_result"
    }
   ],
   "source": [
    "df_max_value.head()"
   ]
  },
  {
   "cell_type": "markdown",
   "metadata": {},
   "source": [
    "* 最大值出现的时间"
   ]
  },
  {
   "cell_type": "code",
   "execution_count": 30,
   "metadata": {},
   "outputs": [
    {
     "data": {
      "text/html": [
       "<div>\n",
       "<style>\n",
       "    .dataframe thead tr:only-child th {\n",
       "        text-align: right;\n",
       "    }\n",
       "\n",
       "    .dataframe thead th {\n",
       "        text-align: left;\n",
       "    }\n",
       "\n",
       "    .dataframe tbody tr th {\n",
       "        vertical-align: top;\n",
       "    }\n",
       "</style>\n",
       "<table border=\"1\" class=\"dataframe\">\n",
       "  <thead>\n",
       "    <tr style=\"text-align: right;\">\n",
       "      <th>factor</th>\n",
       "      <th>DIR</th>\n",
       "      <th>HS</th>\n",
       "      <th>PER</th>\n",
       "    </tr>\n",
       "    <tr>\n",
       "      <th>code</th>\n",
       "      <th></th>\n",
       "      <th></th>\n",
       "      <th></th>\n",
       "    </tr>\n",
       "  </thead>\n",
       "  <tbody>\n",
       "    <tr>\n",
       "      <th>E01</th>\n",
       "      <td>2018-03-07 16:00</td>\n",
       "      <td>2018-03-08 09:00</td>\n",
       "      <td>2018-03-09 14:00</td>\n",
       "    </tr>\n",
       "    <tr>\n",
       "      <th>E02</th>\n",
       "      <td>2018-03-07 18:00</td>\n",
       "      <td>2018-03-08 09:00</td>\n",
       "      <td>2018-03-09 13:00</td>\n",
       "    </tr>\n",
       "    <tr>\n",
       "      <th>E03</th>\n",
       "      <td>2018-03-07 08:00</td>\n",
       "      <td>2018-03-09 11:00</td>\n",
       "      <td>2018-03-09 11:00</td>\n",
       "    </tr>\n",
       "    <tr>\n",
       "      <th>E04</th>\n",
       "      <td>2018-03-07 20:00</td>\n",
       "      <td>2018-03-09 10:00</td>\n",
       "      <td>2018-03-09 10:00</td>\n",
       "    </tr>\n",
       "    <tr>\n",
       "      <th>E05</th>\n",
       "      <td>2018-03-07 19:00</td>\n",
       "      <td>2018-03-10 04:00</td>\n",
       "      <td>2018-03-09 08:00</td>\n",
       "    </tr>\n",
       "  </tbody>\n",
       "</table>\n",
       "</div>"
      ],
      "text/plain": [
       "factor               DIR                HS               PER\n",
       "code                                                        \n",
       "E01     2018-03-07 16:00  2018-03-08 09:00  2018-03-09 14:00\n",
       "E02     2018-03-07 18:00  2018-03-08 09:00  2018-03-09 13:00\n",
       "E03     2018-03-07 08:00  2018-03-09 11:00  2018-03-09 11:00\n",
       "E04     2018-03-07 20:00  2018-03-09 10:00  2018-03-09 10:00\n",
       "E05     2018-03-07 19:00  2018-03-10 04:00  2018-03-09 08:00"
      ]
     },
     "execution_count": 30,
     "metadata": {},
     "output_type": "execute_result"
    }
   ],
   "source": [
    "read_date.T.idxmax(axis=0).unstack().head()"
   ]
  },
  {
   "cell_type": "code",
   "execution_count": 68,
   "metadata": {
    "collapsed": true
   },
   "outputs": [],
   "source": [
    "df_max_date=read_date.T.idxmax(axis=0).unstack()\n",
    "df_max_date.columns=['DIR_DATE','HS_DATE','PER_DATE']"
   ]
  },
  {
   "cell_type": "code",
   "execution_count": 69,
   "metadata": {
    "collapsed": true
   },
   "outputs": [],
   "source": [
    "# 去掉index的name\n",
    "df_max_date.index=df_max_date.index.values"
   ]
  },
  {
   "cell_type": "code",
   "execution_count": 73,
   "metadata": {},
   "outputs": [
    {
     "data": {
      "text/html": [
       "<div>\n",
       "<style>\n",
       "    .dataframe thead tr:only-child th {\n",
       "        text-align: right;\n",
       "    }\n",
       "\n",
       "    .dataframe thead th {\n",
       "        text-align: left;\n",
       "    }\n",
       "\n",
       "    .dataframe tbody tr th {\n",
       "        vertical-align: top;\n",
       "    }\n",
       "</style>\n",
       "<table border=\"1\" class=\"dataframe\">\n",
       "  <thead>\n",
       "    <tr style=\"text-align: right;\">\n",
       "      <th></th>\n",
       "      <th>DIR_DATE</th>\n",
       "      <th>HS_DATE</th>\n",
       "      <th>PER_DATE</th>\n",
       "    </tr>\n",
       "  </thead>\n",
       "  <tbody>\n",
       "    <tr>\n",
       "      <th>E01</th>\n",
       "      <td>2018-03-07 16:00</td>\n",
       "      <td>2018-03-08 09:00</td>\n",
       "      <td>2018-03-09 14:00</td>\n",
       "    </tr>\n",
       "    <tr>\n",
       "      <th>E02</th>\n",
       "      <td>2018-03-07 18:00</td>\n",
       "      <td>2018-03-08 09:00</td>\n",
       "      <td>2018-03-09 13:00</td>\n",
       "    </tr>\n",
       "    <tr>\n",
       "      <th>E03</th>\n",
       "      <td>2018-03-07 08:00</td>\n",
       "      <td>2018-03-09 11:00</td>\n",
       "      <td>2018-03-09 11:00</td>\n",
       "    </tr>\n",
       "    <tr>\n",
       "      <th>E04</th>\n",
       "      <td>2018-03-07 20:00</td>\n",
       "      <td>2018-03-09 10:00</td>\n",
       "      <td>2018-03-09 10:00</td>\n",
       "    </tr>\n",
       "    <tr>\n",
       "      <th>E05</th>\n",
       "      <td>2018-03-07 19:00</td>\n",
       "      <td>2018-03-10 04:00</td>\n",
       "      <td>2018-03-09 08:00</td>\n",
       "    </tr>\n",
       "  </tbody>\n",
       "</table>\n",
       "</div>"
      ],
      "text/plain": [
       "             DIR_DATE           HS_DATE          PER_DATE\n",
       "E01  2018-03-07 16:00  2018-03-08 09:00  2018-03-09 14:00\n",
       "E02  2018-03-07 18:00  2018-03-08 09:00  2018-03-09 13:00\n",
       "E03  2018-03-07 08:00  2018-03-09 11:00  2018-03-09 11:00\n",
       "E04  2018-03-07 20:00  2018-03-09 10:00  2018-03-09 10:00\n",
       "E05  2018-03-07 19:00  2018-03-10 04:00  2018-03-09 08:00"
      ]
     },
     "execution_count": 73,
     "metadata": {},
     "output_type": "execute_result"
    }
   ],
   "source": [
    "df_max_date.head()"
   ]
  },
  {
   "cell_type": "markdown",
   "metadata": {},
   "source": [
    "* 两个df拼接"
   ]
  },
  {
   "cell_type": "code",
   "execution_count": 80,
   "metadata": {
    "collapsed": true
   },
   "outputs": [],
   "source": [
    "final_df=pd.concat([df_max_date,df_max_value],axis=1).head()"
   ]
  },
  {
   "cell_type": "code",
   "execution_count": 81,
   "metadata": {},
   "outputs": [
    {
     "data": {
      "text/html": [
       "<div>\n",
       "<style>\n",
       "    .dataframe thead tr:only-child th {\n",
       "        text-align: right;\n",
       "    }\n",
       "\n",
       "    .dataframe thead th {\n",
       "        text-align: left;\n",
       "    }\n",
       "\n",
       "    .dataframe tbody tr th {\n",
       "        vertical-align: top;\n",
       "    }\n",
       "</style>\n",
       "<table border=\"1\" class=\"dataframe\">\n",
       "  <thead>\n",
       "    <tr style=\"text-align: right;\">\n",
       "      <th></th>\n",
       "      <th>DIR_DATE</th>\n",
       "      <th>HS_DATE</th>\n",
       "      <th>PER_DATE</th>\n",
       "      <th>DIR_VALUE</th>\n",
       "      <th>HS_VALUES</th>\n",
       "      <th>PER_VALUES</th>\n",
       "    </tr>\n",
       "  </thead>\n",
       "  <tbody>\n",
       "    <tr>\n",
       "      <th>E01</th>\n",
       "      <td>2018-03-07 16:00</td>\n",
       "      <td>2018-03-08 09:00</td>\n",
       "      <td>2018-03-09 14:00</td>\n",
       "      <td>356.88</td>\n",
       "      <td>0.54</td>\n",
       "      <td>4.87</td>\n",
       "    </tr>\n",
       "    <tr>\n",
       "      <th>E02</th>\n",
       "      <td>2018-03-07 18:00</td>\n",
       "      <td>2018-03-08 09:00</td>\n",
       "      <td>2018-03-09 13:00</td>\n",
       "      <td>359.89</td>\n",
       "      <td>0.49</td>\n",
       "      <td>4.72</td>\n",
       "    </tr>\n",
       "    <tr>\n",
       "      <th>E03</th>\n",
       "      <td>2018-03-07 08:00</td>\n",
       "      <td>2018-03-09 11:00</td>\n",
       "      <td>2018-03-09 11:00</td>\n",
       "      <td>355.85</td>\n",
       "      <td>0.56</td>\n",
       "      <td>4.82</td>\n",
       "    </tr>\n",
       "    <tr>\n",
       "      <th>E04</th>\n",
       "      <td>2018-03-07 20:00</td>\n",
       "      <td>2018-03-09 10:00</td>\n",
       "      <td>2018-03-09 10:00</td>\n",
       "      <td>350.79</td>\n",
       "      <td>0.60</td>\n",
       "      <td>4.74</td>\n",
       "    </tr>\n",
       "    <tr>\n",
       "      <th>E05</th>\n",
       "      <td>2018-03-07 19:00</td>\n",
       "      <td>2018-03-10 04:00</td>\n",
       "      <td>2018-03-09 08:00</td>\n",
       "      <td>332.64</td>\n",
       "      <td>0.72</td>\n",
       "      <td>4.54</td>\n",
       "    </tr>\n",
       "  </tbody>\n",
       "</table>\n",
       "</div>"
      ],
      "text/plain": [
       "             DIR_DATE           HS_DATE          PER_DATE  DIR_VALUE  \\\n",
       "E01  2018-03-07 16:00  2018-03-08 09:00  2018-03-09 14:00     356.88   \n",
       "E02  2018-03-07 18:00  2018-03-08 09:00  2018-03-09 13:00     359.89   \n",
       "E03  2018-03-07 08:00  2018-03-09 11:00  2018-03-09 11:00     355.85   \n",
       "E04  2018-03-07 20:00  2018-03-09 10:00  2018-03-09 10:00     350.79   \n",
       "E05  2018-03-07 19:00  2018-03-10 04:00  2018-03-09 08:00     332.64   \n",
       "\n",
       "     HS_VALUES  PER_VALUES  \n",
       "E01       0.54        4.87  \n",
       "E02       0.49        4.72  \n",
       "E03       0.56        4.82  \n",
       "E04       0.60        4.74  \n",
       "E05       0.72        4.54  "
      ]
     },
     "execution_count": 81,
     "metadata": {},
     "output_type": "execute_result"
    }
   ],
   "source": [
    "final_df"
   ]
  },
  {
   "cell_type": "markdown",
   "metadata": {},
   "source": [
    "* 添加code列，以索引作为该列的值"
   ]
  },
  {
   "cell_type": "code",
   "execution_count": 83,
   "metadata": {
    "collapsed": true
   },
   "outputs": [],
   "source": [
    "final_df['code']=final_df.index"
   ]
  },
  {
   "cell_type": "code",
   "execution_count": 84,
   "metadata": {},
   "outputs": [
    {
     "data": {
      "text/html": [
       "<div>\n",
       "<style>\n",
       "    .dataframe thead tr:only-child th {\n",
       "        text-align: right;\n",
       "    }\n",
       "\n",
       "    .dataframe thead th {\n",
       "        text-align: left;\n",
       "    }\n",
       "\n",
       "    .dataframe tbody tr th {\n",
       "        vertical-align: top;\n",
       "    }\n",
       "</style>\n",
       "<table border=\"1\" class=\"dataframe\">\n",
       "  <thead>\n",
       "    <tr style=\"text-align: right;\">\n",
       "      <th></th>\n",
       "      <th>DIR_DATE</th>\n",
       "      <th>HS_DATE</th>\n",
       "      <th>PER_DATE</th>\n",
       "      <th>DIR_VALUE</th>\n",
       "      <th>HS_VALUES</th>\n",
       "      <th>PER_VALUES</th>\n",
       "      <th>code</th>\n",
       "    </tr>\n",
       "  </thead>\n",
       "  <tbody>\n",
       "    <tr>\n",
       "      <th>E01</th>\n",
       "      <td>2018-03-07 16:00</td>\n",
       "      <td>2018-03-08 09:00</td>\n",
       "      <td>2018-03-09 14:00</td>\n",
       "      <td>356.88</td>\n",
       "      <td>0.54</td>\n",
       "      <td>4.87</td>\n",
       "      <td>E01</td>\n",
       "    </tr>\n",
       "    <tr>\n",
       "      <th>E02</th>\n",
       "      <td>2018-03-07 18:00</td>\n",
       "      <td>2018-03-08 09:00</td>\n",
       "      <td>2018-03-09 13:00</td>\n",
       "      <td>359.89</td>\n",
       "      <td>0.49</td>\n",
       "      <td>4.72</td>\n",
       "      <td>E02</td>\n",
       "    </tr>\n",
       "    <tr>\n",
       "      <th>E03</th>\n",
       "      <td>2018-03-07 08:00</td>\n",
       "      <td>2018-03-09 11:00</td>\n",
       "      <td>2018-03-09 11:00</td>\n",
       "      <td>355.85</td>\n",
       "      <td>0.56</td>\n",
       "      <td>4.82</td>\n",
       "      <td>E03</td>\n",
       "    </tr>\n",
       "    <tr>\n",
       "      <th>E04</th>\n",
       "      <td>2018-03-07 20:00</td>\n",
       "      <td>2018-03-09 10:00</td>\n",
       "      <td>2018-03-09 10:00</td>\n",
       "      <td>350.79</td>\n",
       "      <td>0.60</td>\n",
       "      <td>4.74</td>\n",
       "      <td>E04</td>\n",
       "    </tr>\n",
       "    <tr>\n",
       "      <th>E05</th>\n",
       "      <td>2018-03-07 19:00</td>\n",
       "      <td>2018-03-10 04:00</td>\n",
       "      <td>2018-03-09 08:00</td>\n",
       "      <td>332.64</td>\n",
       "      <td>0.72</td>\n",
       "      <td>4.54</td>\n",
       "      <td>E05</td>\n",
       "    </tr>\n",
       "  </tbody>\n",
       "</table>\n",
       "</div>"
      ],
      "text/plain": [
       "             DIR_DATE           HS_DATE          PER_DATE  DIR_VALUE  \\\n",
       "E01  2018-03-07 16:00  2018-03-08 09:00  2018-03-09 14:00     356.88   \n",
       "E02  2018-03-07 18:00  2018-03-08 09:00  2018-03-09 13:00     359.89   \n",
       "E03  2018-03-07 08:00  2018-03-09 11:00  2018-03-09 11:00     355.85   \n",
       "E04  2018-03-07 20:00  2018-03-09 10:00  2018-03-09 10:00     350.79   \n",
       "E05  2018-03-07 19:00  2018-03-10 04:00  2018-03-09 08:00     332.64   \n",
       "\n",
       "     HS_VALUES  PER_VALUES code  \n",
       "E01       0.54        4.87  E01  \n",
       "E02       0.49        4.72  E02  \n",
       "E03       0.56        4.82  E03  \n",
       "E04       0.60        4.74  E04  \n",
       "E05       0.72        4.54  E05  "
      ]
     },
     "execution_count": 84,
     "metadata": {},
     "output_type": "execute_result"
    }
   ],
   "source": [
    "final_df"
   ]
  },
  {
   "cell_type": "code",
   "execution_count": null,
   "metadata": {
    "collapsed": true
   },
   "outputs": [],
   "source": []
  }
 ],
 "metadata": {
  "kernelspec": {
   "display_name": "Python 3",
   "language": "python",
   "name": "python3"
  },
  "language_info": {
   "codemirror_mode": {
    "name": "ipython",
    "version": 3
   },
   "file_extension": ".py",
   "mimetype": "text/x-python",
   "name": "python",
   "nbconvert_exporter": "python",
   "pygments_lexer": "ipython3",
   "version": "3.6.2"
  }
 },
 "nbformat": 4,
 "nbformat_minor": 2
}
