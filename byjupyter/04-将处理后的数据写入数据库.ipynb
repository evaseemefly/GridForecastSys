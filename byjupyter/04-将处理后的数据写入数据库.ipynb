{
 "cells": [
  {
   "cell_type": "code",
   "execution_count": 3,
   "metadata": {
    "collapsed": true
   },
   "outputs": [],
   "source": [
    "import numpy as np\n",
    "import pandas as pd\n",
    "import os\n",
    "import sys\n",
    "import datetime"
   ]
  },
  {
   "cell_type": "code",
   "execution_count": 4,
   "metadata": {},
   "outputs": [
    {
     "data": {
      "text/html": [
       "<div>\n",
       "<style>\n",
       "    .dataframe thead tr:only-child th {\n",
       "        text-align: right;\n",
       "    }\n",
       "\n",
       "    .dataframe thead th {\n",
       "        text-align: left;\n",
       "    }\n",
       "\n",
       "    .dataframe tbody tr th {\n",
       "        vertical-align: top;\n",
       "    }\n",
       "</style>\n",
       "<table border=\"1\" class=\"dataframe\">\n",
       "  <thead>\n",
       "    <tr style=\"text-align: right;\">\n",
       "      <th></th>\n",
       "      <th>0</th>\n",
       "      <th>1</th>\n",
       "      <th>2018022608</th>\n",
       "      <th>2018022609</th>\n",
       "      <th>2018022610</th>\n",
       "      <th>2018022611</th>\n",
       "      <th>2018022612</th>\n",
       "      <th>2018022613</th>\n",
       "      <th>2018022614</th>\n",
       "      <th>2018022615</th>\n",
       "      <th>...</th>\n",
       "      <th>2018022823</th>\n",
       "      <th>2018030100</th>\n",
       "      <th>2018030101</th>\n",
       "      <th>2018030102</th>\n",
       "      <th>2018030103</th>\n",
       "      <th>2018030104</th>\n",
       "      <th>2018030105</th>\n",
       "      <th>2018030106</th>\n",
       "      <th>2018030107</th>\n",
       "      <th>2018030108</th>\n",
       "    </tr>\n",
       "  </thead>\n",
       "  <tbody>\n",
       "    <tr>\n",
       "      <th>0</th>\n",
       "      <td>N01</td>\n",
       "      <td>HS</td>\n",
       "      <td>0.49</td>\n",
       "      <td>0.48</td>\n",
       "      <td>0.46</td>\n",
       "      <td>0.45</td>\n",
       "      <td>0.43</td>\n",
       "      <td>0.42</td>\n",
       "      <td>0.41</td>\n",
       "      <td>0.40</td>\n",
       "      <td>...</td>\n",
       "      <td>0.35</td>\n",
       "      <td>0.35</td>\n",
       "      <td>0.35</td>\n",
       "      <td>0.35</td>\n",
       "      <td>0.35</td>\n",
       "      <td>0.35</td>\n",
       "      <td>0.36</td>\n",
       "      <td>0.36</td>\n",
       "      <td>0.39</td>\n",
       "      <td>0.42</td>\n",
       "    </tr>\n",
       "    <tr>\n",
       "      <th>1</th>\n",
       "      <td>N01</td>\n",
       "      <td>PER</td>\n",
       "      <td>3.14</td>\n",
       "      <td>3.14</td>\n",
       "      <td>3.20</td>\n",
       "      <td>3.27</td>\n",
       "      <td>3.34</td>\n",
       "      <td>3.38</td>\n",
       "      <td>3.41</td>\n",
       "      <td>3.44</td>\n",
       "      <td>...</td>\n",
       "      <td>3.70</td>\n",
       "      <td>3.74</td>\n",
       "      <td>3.81</td>\n",
       "      <td>3.90</td>\n",
       "      <td>3.95</td>\n",
       "      <td>3.93</td>\n",
       "      <td>3.85</td>\n",
       "      <td>3.66</td>\n",
       "      <td>3.30</td>\n",
       "      <td>3.05</td>\n",
       "    </tr>\n",
       "    <tr>\n",
       "      <th>2</th>\n",
       "      <td>N01</td>\n",
       "      <td>DIR</td>\n",
       "      <td>11.19</td>\n",
       "      <td>11.21</td>\n",
       "      <td>12.50</td>\n",
       "      <td>14.01</td>\n",
       "      <td>15.01</td>\n",
       "      <td>15.63</td>\n",
       "      <td>16.05</td>\n",
       "      <td>16.31</td>\n",
       "      <td>...</td>\n",
       "      <td>17.03</td>\n",
       "      <td>17.33</td>\n",
       "      <td>17.59</td>\n",
       "      <td>17.84</td>\n",
       "      <td>17.62</td>\n",
       "      <td>16.95</td>\n",
       "      <td>15.89</td>\n",
       "      <td>13.79</td>\n",
       "      <td>9.30</td>\n",
       "      <td>5.26</td>\n",
       "    </tr>\n",
       "    <tr>\n",
       "      <th>3</th>\n",
       "      <td>N02</td>\n",
       "      <td>HS</td>\n",
       "      <td>0.44</td>\n",
       "      <td>0.43</td>\n",
       "      <td>0.42</td>\n",
       "      <td>0.41</td>\n",
       "      <td>0.40</td>\n",
       "      <td>0.40</td>\n",
       "      <td>0.39</td>\n",
       "      <td>0.38</td>\n",
       "      <td>...</td>\n",
       "      <td>0.31</td>\n",
       "      <td>0.32</td>\n",
       "      <td>0.32</td>\n",
       "      <td>0.32</td>\n",
       "      <td>0.32</td>\n",
       "      <td>0.32</td>\n",
       "      <td>0.32</td>\n",
       "      <td>0.34</td>\n",
       "      <td>0.39</td>\n",
       "      <td>0.45</td>\n",
       "    </tr>\n",
       "    <tr>\n",
       "      <th>4</th>\n",
       "      <td>N02</td>\n",
       "      <td>PER</td>\n",
       "      <td>4.03</td>\n",
       "      <td>4.05</td>\n",
       "      <td>4.06</td>\n",
       "      <td>4.04</td>\n",
       "      <td>4.02</td>\n",
       "      <td>3.99</td>\n",
       "      <td>3.94</td>\n",
       "      <td>3.94</td>\n",
       "      <td>...</td>\n",
       "      <td>4.29</td>\n",
       "      <td>4.36</td>\n",
       "      <td>4.42</td>\n",
       "      <td>4.47</td>\n",
       "      <td>4.44</td>\n",
       "      <td>4.35</td>\n",
       "      <td>4.15</td>\n",
       "      <td>3.76</td>\n",
       "      <td>3.28</td>\n",
       "      <td>3.07</td>\n",
       "    </tr>\n",
       "  </tbody>\n",
       "</table>\n",
       "<p>5 rows × 75 columns</p>\n",
       "</div>"
      ],
      "text/plain": [
       "     0    1  2018022608  2018022609  2018022610  2018022611  2018022612  \\\n",
       "0  N01   HS        0.49        0.48        0.46        0.45        0.43   \n",
       "1  N01  PER        3.14        3.14        3.20        3.27        3.34   \n",
       "2  N01  DIR       11.19       11.21       12.50       14.01       15.01   \n",
       "3  N02   HS        0.44        0.43        0.42        0.41        0.40   \n",
       "4  N02  PER        4.03        4.05        4.06        4.04        4.02   \n",
       "\n",
       "   2018022613  2018022614  2018022615     ...      2018022823  2018030100  \\\n",
       "0        0.42        0.41        0.40     ...            0.35        0.35   \n",
       "1        3.38        3.41        3.44     ...            3.70        3.74   \n",
       "2       15.63       16.05       16.31     ...           17.03       17.33   \n",
       "3        0.40        0.39        0.38     ...            0.31        0.32   \n",
       "4        3.99        3.94        3.94     ...            4.29        4.36   \n",
       "\n",
       "   2018030101  2018030102  2018030103  2018030104  2018030105  2018030106  \\\n",
       "0        0.35        0.35        0.35        0.35        0.36        0.36   \n",
       "1        3.81        3.90        3.95        3.93        3.85        3.66   \n",
       "2       17.59       17.84       17.62       16.95       15.89       13.79   \n",
       "3        0.32        0.32        0.32        0.32        0.32        0.34   \n",
       "4        4.42        4.47        4.44        4.35        4.15        3.76   \n",
       "\n",
       "   2018030107  2018030108  \n",
       "0        0.39        0.42  \n",
       "1        3.30        3.05  \n",
       "2        9.30        5.26  \n",
       "3        0.39        0.45  \n",
       "4        3.28        3.07  \n",
       "\n",
       "[5 rows x 75 columns]"
      ]
     },
     "execution_count": 4,
     "metadata": {},
     "output_type": "execute_result"
    }
   ],
   "source": [
    "read_date=pd.read_csv('convert_date.csv',',')\n",
    "# read_date=read_date.set_index([0,1])\n",
    "read_date.head()"
   ]
  },
  {
   "cell_type": "markdown",
   "metadata": {},
   "source": [
    "* 查看读取出来的df的columns"
   ]
  },
  {
   "cell_type": "code",
   "execution_count": 49,
   "metadata": {},
   "outputs": [
    {
     "data": {
      "text/plain": [
       "Index(['2018022608', '2018022609', '2018022610', '2018022611', '2018022612',\n",
       "       '2018022613', '2018022614', '2018022615', '2018022616', '2018022617',\n",
       "       '2018022618', '2018022619', '2018022620', '2018022621', '2018022622',\n",
       "       '2018022623', '2018022700', '2018022701', '2018022702', '2018022703',\n",
       "       '2018022704', '2018022705', '2018022706', '2018022707', '2018022708',\n",
       "       '2018022709', '2018022710', '2018022711', '2018022712', '2018022713',\n",
       "       '2018022714', '2018022715', '2018022716', '2018022717', '2018022718',\n",
       "       '2018022719', '2018022720', '2018022721', '2018022722', '2018022723',\n",
       "       '2018022800', '2018022801', '2018022802', '2018022803', '2018022804',\n",
       "       '2018022805', '2018022806', '2018022807', '2018022808', '2018022809',\n",
       "       '2018022810', '2018022811', '2018022812', '2018022813', '2018022814',\n",
       "       '2018022815', '2018022816', '2018022817', '2018022818', '2018022819',\n",
       "       '2018022820', '2018022821', '2018022822', '2018022823', '2018030100',\n",
       "       '2018030101', '2018030102', '2018030103', '2018030104', '2018030105',\n",
       "       '2018030106', '2018030107', '2018030108'],\n",
       "      dtype='object')"
      ]
     },
     "execution_count": 49,
     "metadata": {},
     "output_type": "execute_result"
    }
   ],
   "source": [
    "read_date.columns"
   ]
  },
  {
   "cell_type": "code",
   "execution_count": 5,
   "metadata": {
    "collapsed": true
   },
   "outputs": [],
   "source": [
    "read_date=read_date.set_index(['0','1'])"
   ]
  },
  {
   "cell_type": "code",
   "execution_count": 6,
   "metadata": {},
   "outputs": [
    {
     "data": {
      "text/plain": [
       "FrozenList(['0', '1'])"
      ]
     },
     "execution_count": 6,
     "metadata": {},
     "output_type": "execute_result"
    }
   ],
   "source": [
    "read_date.index.names"
   ]
  },
  {
   "cell_type": "code",
   "execution_count": 7,
   "metadata": {
    "collapsed": true
   },
   "outputs": [],
   "source": [
    "read_date.index.names=['code','factor']\n",
    "# read_date.index.names=[]"
   ]
  },
  {
   "cell_type": "code",
   "execution_count": 8,
   "metadata": {},
   "outputs": [
    {
     "data": {
      "text/html": [
       "<div>\n",
       "<style>\n",
       "    .dataframe thead tr:only-child th {\n",
       "        text-align: right;\n",
       "    }\n",
       "\n",
       "    .dataframe thead th {\n",
       "        text-align: left;\n",
       "    }\n",
       "\n",
       "    .dataframe tbody tr th {\n",
       "        vertical-align: top;\n",
       "    }\n",
       "</style>\n",
       "<table border=\"1\" class=\"dataframe\">\n",
       "  <thead>\n",
       "    <tr style=\"text-align: right;\">\n",
       "      <th></th>\n",
       "      <th></th>\n",
       "      <th>2018022608</th>\n",
       "      <th>2018022609</th>\n",
       "      <th>2018022610</th>\n",
       "      <th>2018022611</th>\n",
       "      <th>2018022612</th>\n",
       "      <th>2018022613</th>\n",
       "      <th>2018022614</th>\n",
       "      <th>2018022615</th>\n",
       "      <th>2018022616</th>\n",
       "      <th>2018022617</th>\n",
       "      <th>...</th>\n",
       "      <th>2018022823</th>\n",
       "      <th>2018030100</th>\n",
       "      <th>2018030101</th>\n",
       "      <th>2018030102</th>\n",
       "      <th>2018030103</th>\n",
       "      <th>2018030104</th>\n",
       "      <th>2018030105</th>\n",
       "      <th>2018030106</th>\n",
       "      <th>2018030107</th>\n",
       "      <th>2018030108</th>\n",
       "    </tr>\n",
       "    <tr>\n",
       "      <th>code</th>\n",
       "      <th>factor</th>\n",
       "      <th></th>\n",
       "      <th></th>\n",
       "      <th></th>\n",
       "      <th></th>\n",
       "      <th></th>\n",
       "      <th></th>\n",
       "      <th></th>\n",
       "      <th></th>\n",
       "      <th></th>\n",
       "      <th></th>\n",
       "      <th></th>\n",
       "      <th></th>\n",
       "      <th></th>\n",
       "      <th></th>\n",
       "      <th></th>\n",
       "      <th></th>\n",
       "      <th></th>\n",
       "      <th></th>\n",
       "      <th></th>\n",
       "      <th></th>\n",
       "      <th></th>\n",
       "    </tr>\n",
       "  </thead>\n",
       "  <tbody>\n",
       "    <tr>\n",
       "      <th rowspan=\"3\" valign=\"top\">N01</th>\n",
       "      <th>HS</th>\n",
       "      <td>0.49</td>\n",
       "      <td>0.48</td>\n",
       "      <td>0.46</td>\n",
       "      <td>0.45</td>\n",
       "      <td>0.43</td>\n",
       "      <td>0.42</td>\n",
       "      <td>0.41</td>\n",
       "      <td>0.40</td>\n",
       "      <td>0.39</td>\n",
       "      <td>0.38</td>\n",
       "      <td>...</td>\n",
       "      <td>0.35</td>\n",
       "      <td>0.35</td>\n",
       "      <td>0.35</td>\n",
       "      <td>0.35</td>\n",
       "      <td>0.35</td>\n",
       "      <td>0.35</td>\n",
       "      <td>0.36</td>\n",
       "      <td>0.36</td>\n",
       "      <td>0.39</td>\n",
       "      <td>0.42</td>\n",
       "    </tr>\n",
       "    <tr>\n",
       "      <th>PER</th>\n",
       "      <td>3.14</td>\n",
       "      <td>3.14</td>\n",
       "      <td>3.20</td>\n",
       "      <td>3.27</td>\n",
       "      <td>3.34</td>\n",
       "      <td>3.38</td>\n",
       "      <td>3.41</td>\n",
       "      <td>3.44</td>\n",
       "      <td>3.47</td>\n",
       "      <td>3.49</td>\n",
       "      <td>...</td>\n",
       "      <td>3.70</td>\n",
       "      <td>3.74</td>\n",
       "      <td>3.81</td>\n",
       "      <td>3.90</td>\n",
       "      <td>3.95</td>\n",
       "      <td>3.93</td>\n",
       "      <td>3.85</td>\n",
       "      <td>3.66</td>\n",
       "      <td>3.30</td>\n",
       "      <td>3.05</td>\n",
       "    </tr>\n",
       "    <tr>\n",
       "      <th>DIR</th>\n",
       "      <td>11.19</td>\n",
       "      <td>11.21</td>\n",
       "      <td>12.50</td>\n",
       "      <td>14.01</td>\n",
       "      <td>15.01</td>\n",
       "      <td>15.63</td>\n",
       "      <td>16.05</td>\n",
       "      <td>16.31</td>\n",
       "      <td>16.51</td>\n",
       "      <td>16.71</td>\n",
       "      <td>...</td>\n",
       "      <td>17.03</td>\n",
       "      <td>17.33</td>\n",
       "      <td>17.59</td>\n",
       "      <td>17.84</td>\n",
       "      <td>17.62</td>\n",
       "      <td>16.95</td>\n",
       "      <td>15.89</td>\n",
       "      <td>13.79</td>\n",
       "      <td>9.30</td>\n",
       "      <td>5.26</td>\n",
       "    </tr>\n",
       "    <tr>\n",
       "      <th rowspan=\"2\" valign=\"top\">N02</th>\n",
       "      <th>HS</th>\n",
       "      <td>0.44</td>\n",
       "      <td>0.43</td>\n",
       "      <td>0.42</td>\n",
       "      <td>0.41</td>\n",
       "      <td>0.40</td>\n",
       "      <td>0.40</td>\n",
       "      <td>0.39</td>\n",
       "      <td>0.38</td>\n",
       "      <td>0.37</td>\n",
       "      <td>0.36</td>\n",
       "      <td>...</td>\n",
       "      <td>0.31</td>\n",
       "      <td>0.32</td>\n",
       "      <td>0.32</td>\n",
       "      <td>0.32</td>\n",
       "      <td>0.32</td>\n",
       "      <td>0.32</td>\n",
       "      <td>0.32</td>\n",
       "      <td>0.34</td>\n",
       "      <td>0.39</td>\n",
       "      <td>0.45</td>\n",
       "    </tr>\n",
       "    <tr>\n",
       "      <th>PER</th>\n",
       "      <td>4.03</td>\n",
       "      <td>4.05</td>\n",
       "      <td>4.06</td>\n",
       "      <td>4.04</td>\n",
       "      <td>4.02</td>\n",
       "      <td>3.99</td>\n",
       "      <td>3.94</td>\n",
       "      <td>3.94</td>\n",
       "      <td>3.97</td>\n",
       "      <td>3.98</td>\n",
       "      <td>...</td>\n",
       "      <td>4.29</td>\n",
       "      <td>4.36</td>\n",
       "      <td>4.42</td>\n",
       "      <td>4.47</td>\n",
       "      <td>4.44</td>\n",
       "      <td>4.35</td>\n",
       "      <td>4.15</td>\n",
       "      <td>3.76</td>\n",
       "      <td>3.28</td>\n",
       "      <td>3.07</td>\n",
       "    </tr>\n",
       "  </tbody>\n",
       "</table>\n",
       "<p>5 rows × 73 columns</p>\n",
       "</div>"
      ],
      "text/plain": [
       "             2018022608  2018022609  2018022610  2018022611  2018022612  \\\n",
       "code factor                                                               \n",
       "N01  HS            0.49        0.48        0.46        0.45        0.43   \n",
       "     PER           3.14        3.14        3.20        3.27        3.34   \n",
       "     DIR          11.19       11.21       12.50       14.01       15.01   \n",
       "N02  HS            0.44        0.43        0.42        0.41        0.40   \n",
       "     PER           4.03        4.05        4.06        4.04        4.02   \n",
       "\n",
       "             2018022613  2018022614  2018022615  2018022616  2018022617  \\\n",
       "code factor                                                               \n",
       "N01  HS            0.42        0.41        0.40        0.39        0.38   \n",
       "     PER           3.38        3.41        3.44        3.47        3.49   \n",
       "     DIR          15.63       16.05       16.31       16.51       16.71   \n",
       "N02  HS            0.40        0.39        0.38        0.37        0.36   \n",
       "     PER           3.99        3.94        3.94        3.97        3.98   \n",
       "\n",
       "                ...      2018022823  2018030100  2018030101  2018030102  \\\n",
       "code factor     ...                                                       \n",
       "N01  HS         ...            0.35        0.35        0.35        0.35   \n",
       "     PER        ...            3.70        3.74        3.81        3.90   \n",
       "     DIR        ...           17.03       17.33       17.59       17.84   \n",
       "N02  HS         ...            0.31        0.32        0.32        0.32   \n",
       "     PER        ...            4.29        4.36        4.42        4.47   \n",
       "\n",
       "             2018030103  2018030104  2018030105  2018030106  2018030107  \\\n",
       "code factor                                                               \n",
       "N01  HS            0.35        0.35        0.36        0.36        0.39   \n",
       "     PER           3.95        3.93        3.85        3.66        3.30   \n",
       "     DIR          17.62       16.95       15.89       13.79        9.30   \n",
       "N02  HS            0.32        0.32        0.32        0.34        0.39   \n",
       "     PER           4.44        4.35        4.15        3.76        3.28   \n",
       "\n",
       "             2018030108  \n",
       "code factor              \n",
       "N01  HS            0.42  \n",
       "     PER           3.05  \n",
       "     DIR           5.26  \n",
       "N02  HS            0.45  \n",
       "     PER           3.07  \n",
       "\n",
       "[5 rows x 73 columns]"
      ]
     },
     "execution_count": 8,
     "metadata": {},
     "output_type": "execute_result"
    }
   ],
   "source": [
    "read_date.head()"
   ]
  },
  {
   "cell_type": "markdown",
   "metadata": {},
   "source": [
    "#### 分别获取最大值所在位置与最大值"
   ]
  },
  {
   "cell_type": "markdown",
   "metadata": {},
   "source": [
    "#### 1 获取最大值所在位置"
   ]
  },
  {
   "cell_type": "code",
   "execution_count": 9,
   "metadata": {},
   "outputs": [
    {
     "data": {
      "text/plain": [
       "code  factor\n",
       "N01   HS        2018022716\n",
       "      PER       2018030103\n",
       "      DIR       2018022806\n",
       "N02   HS        2018030108\n",
       "      PER       2018030102\n",
       "dtype: object"
      ]
     },
     "execution_count": 9,
     "metadata": {},
     "output_type": "execute_result"
    }
   ],
   "source": [
    "read_date.T.idxmax(axis=0).head()"
   ]
  },
  {
   "cell_type": "code",
   "execution_count": 10,
   "metadata": {},
   "outputs": [
    {
     "data": {
      "text/plain": [
       "pandas.core.series.Series"
      ]
     },
     "execution_count": 10,
     "metadata": {},
     "output_type": "execute_result"
    }
   ],
   "source": [
    "type(read_date.T.idxmax(axis=0))"
   ]
  },
  {
   "cell_type": "code",
   "execution_count": 11,
   "metadata": {},
   "outputs": [
    {
     "data": {
      "text/html": [
       "<div>\n",
       "<style>\n",
       "    .dataframe thead tr:only-child th {\n",
       "        text-align: right;\n",
       "    }\n",
       "\n",
       "    .dataframe thead th {\n",
       "        text-align: left;\n",
       "    }\n",
       "\n",
       "    .dataframe tbody tr th {\n",
       "        vertical-align: top;\n",
       "    }\n",
       "</style>\n",
       "<table border=\"1\" class=\"dataframe\">\n",
       "  <thead>\n",
       "    <tr style=\"text-align: right;\">\n",
       "      <th></th>\n",
       "      <th></th>\n",
       "      <th>0</th>\n",
       "    </tr>\n",
       "    <tr>\n",
       "      <th>code</th>\n",
       "      <th>factor</th>\n",
       "      <th></th>\n",
       "    </tr>\n",
       "  </thead>\n",
       "  <tbody>\n",
       "    <tr>\n",
       "      <th rowspan=\"3\" valign=\"top\">N01</th>\n",
       "      <th>HS</th>\n",
       "      <td>2018022716</td>\n",
       "    </tr>\n",
       "    <tr>\n",
       "      <th>PER</th>\n",
       "      <td>2018030103</td>\n",
       "    </tr>\n",
       "    <tr>\n",
       "      <th>DIR</th>\n",
       "      <td>2018022806</td>\n",
       "    </tr>\n",
       "    <tr>\n",
       "      <th rowspan=\"2\" valign=\"top\">N02</th>\n",
       "      <th>HS</th>\n",
       "      <td>2018030108</td>\n",
       "    </tr>\n",
       "    <tr>\n",
       "      <th>PER</th>\n",
       "      <td>2018030102</td>\n",
       "    </tr>\n",
       "  </tbody>\n",
       "</table>\n",
       "</div>"
      ],
      "text/plain": [
       "                      0\n",
       "code factor            \n",
       "N01  HS      2018022716\n",
       "     PER     2018030103\n",
       "     DIR     2018022806\n",
       "N02  HS      2018030108\n",
       "     PER     2018030102"
      ]
     },
     "execution_count": 11,
     "metadata": {},
     "output_type": "execute_result"
    }
   ],
   "source": [
    "pd.DataFrame([read_date.T.idxmax(axis=0)]).T.head()"
   ]
  },
  {
   "cell_type": "markdown",
   "metadata": {},
   "source": [
    "* 获取df的层次化索引的别名"
   ]
  },
  {
   "cell_type": "code",
   "execution_count": 12,
   "metadata": {},
   "outputs": [
    {
     "data": {
      "text/plain": [
       "FrozenList(['code', 'factor'])"
      ]
     },
     "execution_count": 12,
     "metadata": {},
     "output_type": "execute_result"
    }
   ],
   "source": [
    "pd.DataFrame([read_date.T.idxmax(axis=0)]).T.index.names"
   ]
  },
  {
   "cell_type": "code",
   "execution_count": 13,
   "metadata": {},
   "outputs": [
    {
     "data": {
      "text/html": [
       "<div>\n",
       "<style>\n",
       "    .dataframe thead tr:only-child th {\n",
       "        text-align: right;\n",
       "    }\n",
       "\n",
       "    .dataframe thead th {\n",
       "        text-align: left;\n",
       "    }\n",
       "\n",
       "    .dataframe tbody tr th {\n",
       "        vertical-align: top;\n",
       "    }\n",
       "</style>\n",
       "<table border=\"1\" class=\"dataframe\">\n",
       "  <thead>\n",
       "    <tr style=\"text-align: right;\">\n",
       "      <th>factor</th>\n",
       "      <th>DIR</th>\n",
       "      <th>HS</th>\n",
       "      <th>PER</th>\n",
       "    </tr>\n",
       "    <tr>\n",
       "      <th>code</th>\n",
       "      <th></th>\n",
       "      <th></th>\n",
       "      <th></th>\n",
       "    </tr>\n",
       "  </thead>\n",
       "  <tbody>\n",
       "    <tr>\n",
       "      <th>E01</th>\n",
       "      <td>2018022616</td>\n",
       "      <td>2018022709</td>\n",
       "      <td>2018022814</td>\n",
       "    </tr>\n",
       "    <tr>\n",
       "      <th>E02</th>\n",
       "      <td>2018022618</td>\n",
       "      <td>2018022709</td>\n",
       "      <td>2018022813</td>\n",
       "    </tr>\n",
       "    <tr>\n",
       "      <th>E03</th>\n",
       "      <td>2018022608</td>\n",
       "      <td>2018022811</td>\n",
       "      <td>2018022811</td>\n",
       "    </tr>\n",
       "    <tr>\n",
       "      <th>E04</th>\n",
       "      <td>2018022620</td>\n",
       "      <td>2018022810</td>\n",
       "      <td>2018022810</td>\n",
       "    </tr>\n",
       "    <tr>\n",
       "      <th>E05</th>\n",
       "      <td>2018022619</td>\n",
       "      <td>2018030104</td>\n",
       "      <td>2018022808</td>\n",
       "    </tr>\n",
       "  </tbody>\n",
       "</table>\n",
       "</div>"
      ],
      "text/plain": [
       "factor         DIR          HS         PER\n",
       "code                                      \n",
       "E01     2018022616  2018022709  2018022814\n",
       "E02     2018022618  2018022709  2018022813\n",
       "E03     2018022608  2018022811  2018022811\n",
       "E04     2018022620  2018022810  2018022810\n",
       "E05     2018022619  2018030104  2018022808"
      ]
     },
     "execution_count": 13,
     "metadata": {},
     "output_type": "execute_result"
    }
   ],
   "source": [
    "read_date.T.idxmax(axis=0).unstack().head()"
   ]
  },
  {
   "cell_type": "markdown",
   "metadata": {},
   "source": [
    "* 获取层次化索引的值"
   ]
  },
  {
   "cell_type": "code",
   "execution_count": 22,
   "metadata": {},
   "outputs": [
    {
     "data": {
      "text/plain": [
       "array(['E01', 'E02', 'E03', 'E04', 'E05'], dtype=object)"
      ]
     },
     "execution_count": 22,
     "metadata": {},
     "output_type": "execute_result"
    }
   ],
   "source": [
    "read_date.T.idxmax(axis=0).unstack().index.values[:5]"
   ]
  },
  {
   "cell_type": "code",
   "execution_count": 44,
   "metadata": {},
   "outputs": [
    {
     "data": {
      "text/plain": [
       "numpy.ndarray"
      ]
     },
     "execution_count": 44,
     "metadata": {},
     "output_type": "execute_result"
    }
   ],
   "source": [
    "type(read_date.T.idxmax(axis=0).unstack().index.values)"
   ]
  },
  {
   "cell_type": "code",
   "execution_count": 23,
   "metadata": {},
   "outputs": [
    {
     "data": {
      "text/plain": [
       "Index(['E01', 'E02', 'E03', 'E04', 'E05', 'E06', 'E07', 'E08', 'E09', 'E10',\n",
       "       ...\n",
       "       'S42', 'S43', 'S44', 'S45', 'S46', 'S47', 'S48', 'S49', 'S50', 'S51'],\n",
       "      dtype='object', name='code', length=213)"
      ]
     },
     "execution_count": 23,
     "metadata": {},
     "output_type": "execute_result"
    }
   ],
   "source": [
    "read_date.T.idxmax(axis=0).unstack().index"
   ]
  },
  {
   "cell_type": "markdown",
   "metadata": {},
   "source": [
    "* 获取columns"
   ]
  },
  {
   "cell_type": "code",
   "execution_count": 25,
   "metadata": {},
   "outputs": [
    {
     "data": {
      "text/plain": [
       "Index(['DIR', 'HS', 'PER'], dtype='object', name='factor')"
      ]
     },
     "execution_count": 25,
     "metadata": {},
     "output_type": "execute_result"
    }
   ],
   "source": [
    "read_date.T.idxmax(axis=0).unstack().columns"
   ]
  },
  {
   "cell_type": "code",
   "execution_count": 26,
   "metadata": {},
   "outputs": [
    {
     "data": {
      "text/plain": [
       "pandas.core.indexes.base.Index"
      ]
     },
     "execution_count": 26,
     "metadata": {},
     "output_type": "execute_result"
    }
   ],
   "source": [
    "type(read_date.T.idxmax(axis=0).unstack().columns)"
   ]
  },
  {
   "cell_type": "markdown",
   "metadata": {},
   "source": [
    "* 获取data"
   ]
  },
  {
   "cell_type": "code",
   "execution_count": 27,
   "metadata": {},
   "outputs": [
    {
     "data": {
      "text/plain": [
       "array([['2018022616', '2018022709', '2018022814'],\n",
       "       ['2018022618', '2018022709', '2018022813'],\n",
       "       ['2018022608', '2018022811', '2018022811'],\n",
       "       ['2018022620', '2018022810', '2018022810'],\n",
       "       ['2018022619', '2018030104', '2018022808']], dtype=object)"
      ]
     },
     "execution_count": 27,
     "metadata": {},
     "output_type": "execute_result"
    }
   ],
   "source": [
    "read_date.T.idxmax(axis=0).unstack().values[:5]"
   ]
  },
  {
   "cell_type": "markdown",
   "metadata": {},
   "source": [
    "* 拼成新的df"
   ]
  },
  {
   "cell_type": "code",
   "execution_count": 63,
   "metadata": {
    "collapsed": true
   },
   "outputs": [],
   "source": [
    "new_read_data=pd.DataFrame(read_date.T.idxmax(axis=0).unstack().values,columns=read_date.T.idxmax(axis=0).unstack().columns)"
   ]
  },
  {
   "cell_type": "code",
   "execution_count": 64,
   "metadata": {},
   "outputs": [
    {
     "data": {
      "text/html": [
       "<div>\n",
       "<style>\n",
       "    .dataframe thead tr:only-child th {\n",
       "        text-align: right;\n",
       "    }\n",
       "\n",
       "    .dataframe thead th {\n",
       "        text-align: left;\n",
       "    }\n",
       "\n",
       "    .dataframe tbody tr th {\n",
       "        vertical-align: top;\n",
       "    }\n",
       "</style>\n",
       "<table border=\"1\" class=\"dataframe\">\n",
       "  <thead>\n",
       "    <tr style=\"text-align: right;\">\n",
       "      <th>factor</th>\n",
       "      <th>DIR</th>\n",
       "      <th>HS</th>\n",
       "      <th>PER</th>\n",
       "    </tr>\n",
       "  </thead>\n",
       "  <tbody>\n",
       "    <tr>\n",
       "      <th>0</th>\n",
       "      <td>2018022616</td>\n",
       "      <td>2018022709</td>\n",
       "      <td>2018022814</td>\n",
       "    </tr>\n",
       "    <tr>\n",
       "      <th>1</th>\n",
       "      <td>2018022618</td>\n",
       "      <td>2018022709</td>\n",
       "      <td>2018022813</td>\n",
       "    </tr>\n",
       "    <tr>\n",
       "      <th>2</th>\n",
       "      <td>2018022608</td>\n",
       "      <td>2018022811</td>\n",
       "      <td>2018022811</td>\n",
       "    </tr>\n",
       "    <tr>\n",
       "      <th>3</th>\n",
       "      <td>2018022620</td>\n",
       "      <td>2018022810</td>\n",
       "      <td>2018022810</td>\n",
       "    </tr>\n",
       "    <tr>\n",
       "      <th>4</th>\n",
       "      <td>2018022619</td>\n",
       "      <td>2018030104</td>\n",
       "      <td>2018022808</td>\n",
       "    </tr>\n",
       "  </tbody>\n",
       "</table>\n",
       "</div>"
      ],
      "text/plain": [
       "factor         DIR          HS         PER\n",
       "0       2018022616  2018022709  2018022814\n",
       "1       2018022618  2018022709  2018022813\n",
       "2       2018022608  2018022811  2018022811\n",
       "3       2018022620  2018022810  2018022810\n",
       "4       2018022619  2018030104  2018022808"
      ]
     },
     "execution_count": 64,
     "metadata": {},
     "output_type": "execute_result"
    }
   ],
   "source": [
    "new_read_data.head()"
   ]
  },
  {
   "cell_type": "code",
   "execution_count": 65,
   "metadata": {},
   "outputs": [
    {
     "data": {
      "text/plain": [
       "array(['E01', 'E02'], dtype=object)"
      ]
     },
     "execution_count": 65,
     "metadata": {},
     "output_type": "execute_result"
    }
   ],
   "source": [
    "read_date.T.idxmax(axis=0).unstack().index.values[:2]"
   ]
  },
  {
   "cell_type": "code",
   "execution_count": 66,
   "metadata": {},
   "outputs": [
    {
     "name": "stdout",
     "output_type": "stream",
     "text": [
      "<class 'pandas.core.indexes.base.Index'>\n"
     ]
    },
    {
     "data": {
      "text/plain": [
       "Index(['E01', 'E02', 'E03', 'E04', 'E05', 'E06', 'E07', 'E08', 'E09', 'E10',\n",
       "       ...\n",
       "       'S42', 'S43', 'S44', 'S45', 'S46', 'S47', 'S48', 'S49', 'S50', 'S51'],\n",
       "      dtype='object', name='code', length=213)"
      ]
     },
     "execution_count": 66,
     "metadata": {},
     "output_type": "execute_result"
    }
   ],
   "source": [
    "print(type(read_date.T.idxmax(axis=0).unstack().index))\n",
    "read_date.T.idxmax(axis=0).unstack().index"
   ]
  },
  {
   "cell_type": "markdown",
   "metadata": {},
   "source": [
    "* 新增两列"
   ]
  },
  {
   "cell_type": "code",
   "execution_count": 67,
   "metadata": {
    "collapsed": true
   },
   "outputs": [],
   "source": [
    "new_read_data.indexs=read_date.T.idxmax(axis=0).unstack().index.values\n",
    "new_read_data['code']=read_date.T.idxmax(axis=0).unstack().index\n",
    "new_read_data['nowdate']='20180307'"
   ]
  },
  {
   "cell_type": "code",
   "execution_count": 68,
   "metadata": {},
   "outputs": [
    {
     "data": {
      "text/html": [
       "<div>\n",
       "<style>\n",
       "    .dataframe thead tr:only-child th {\n",
       "        text-align: right;\n",
       "    }\n",
       "\n",
       "    .dataframe thead th {\n",
       "        text-align: left;\n",
       "    }\n",
       "\n",
       "    .dataframe tbody tr th {\n",
       "        vertical-align: top;\n",
       "    }\n",
       "</style>\n",
       "<table border=\"1\" class=\"dataframe\">\n",
       "  <thead>\n",
       "    <tr style=\"text-align: right;\">\n",
       "      <th>factor</th>\n",
       "      <th>DIR</th>\n",
       "      <th>HS</th>\n",
       "      <th>PER</th>\n",
       "      <th>code</th>\n",
       "      <th>nowdate</th>\n",
       "    </tr>\n",
       "  </thead>\n",
       "  <tbody>\n",
       "    <tr>\n",
       "      <th>0</th>\n",
       "      <td>2018022616</td>\n",
       "      <td>2018022709</td>\n",
       "      <td>2018022814</td>\n",
       "      <td>E01</td>\n",
       "      <td>20180307</td>\n",
       "    </tr>\n",
       "    <tr>\n",
       "      <th>1</th>\n",
       "      <td>2018022618</td>\n",
       "      <td>2018022709</td>\n",
       "      <td>2018022813</td>\n",
       "      <td>E02</td>\n",
       "      <td>20180307</td>\n",
       "    </tr>\n",
       "    <tr>\n",
       "      <th>2</th>\n",
       "      <td>2018022608</td>\n",
       "      <td>2018022811</td>\n",
       "      <td>2018022811</td>\n",
       "      <td>E03</td>\n",
       "      <td>20180307</td>\n",
       "    </tr>\n",
       "    <tr>\n",
       "      <th>3</th>\n",
       "      <td>2018022620</td>\n",
       "      <td>2018022810</td>\n",
       "      <td>2018022810</td>\n",
       "      <td>E04</td>\n",
       "      <td>20180307</td>\n",
       "    </tr>\n",
       "    <tr>\n",
       "      <th>4</th>\n",
       "      <td>2018022619</td>\n",
       "      <td>2018030104</td>\n",
       "      <td>2018022808</td>\n",
       "      <td>E05</td>\n",
       "      <td>20180307</td>\n",
       "    </tr>\n",
       "  </tbody>\n",
       "</table>\n",
       "</div>"
      ],
      "text/plain": [
       "factor         DIR          HS         PER code   nowdate\n",
       "0       2018022616  2018022709  2018022814  E01  20180307\n",
       "1       2018022618  2018022709  2018022813  E02  20180307\n",
       "2       2018022608  2018022811  2018022811  E03  20180307\n",
       "3       2018022620  2018022810  2018022810  E04  20180307\n",
       "4       2018022619  2018030104  2018022808  E05  20180307"
      ]
     },
     "execution_count": 68,
     "metadata": {},
     "output_type": "execute_result"
    }
   ],
   "source": [
    "new_read_data.head()"
   ]
  },
  {
   "cell_type": "code",
   "execution_count": 69,
   "metadata": {},
   "outputs": [
    {
     "data": {
      "text/plain": [
       "Index(['E01', 'E02', 'E03', 'E04', 'E05', 'E06', 'E07', 'E08', 'E09', 'E10',\n",
       "       ...\n",
       "       'S42', 'S43', 'S44', 'S45', 'S46', 'S47', 'S48', 'S49', 'S50', 'S51'],\n",
       "      dtype='object', name='code', length=213)"
      ]
     },
     "execution_count": 69,
     "metadata": {},
     "output_type": "execute_result"
    }
   ],
   "source": [
    "read_date.T.idxmax(axis=0).unstack().index"
   ]
  },
  {
   "cell_type": "markdown",
   "metadata": {},
   "source": [
    "* 去掉factor"
   ]
  },
  {
   "cell_type": "code",
   "execution_count": 70,
   "metadata": {},
   "outputs": [
    {
     "data": {
      "text/plain": [
       "Index(['DIR', 'HS', 'PER', 'code', 'nowdate'], dtype='object', name='factor')"
      ]
     },
     "execution_count": 70,
     "metadata": {},
     "output_type": "execute_result"
    }
   ],
   "source": [
    "new_read_data.columns"
   ]
  },
  {
   "cell_type": "code",
   "execution_count": 71,
   "metadata": {
    "collapsed": true
   },
   "outputs": [],
   "source": [
    "new_read_data.columns=['DIR', 'HS', 'PER', 'code', 'nowdate']"
   ]
  },
  {
   "cell_type": "code",
   "execution_count": 72,
   "metadata": {},
   "outputs": [
    {
     "data": {
      "text/html": [
       "<div>\n",
       "<style>\n",
       "    .dataframe thead tr:only-child th {\n",
       "        text-align: right;\n",
       "    }\n",
       "\n",
       "    .dataframe thead th {\n",
       "        text-align: left;\n",
       "    }\n",
       "\n",
       "    .dataframe tbody tr th {\n",
       "        vertical-align: top;\n",
       "    }\n",
       "</style>\n",
       "<table border=\"1\" class=\"dataframe\">\n",
       "  <thead>\n",
       "    <tr style=\"text-align: right;\">\n",
       "      <th></th>\n",
       "      <th>DIR</th>\n",
       "      <th>HS</th>\n",
       "      <th>PER</th>\n",
       "      <th>code</th>\n",
       "      <th>nowdate</th>\n",
       "    </tr>\n",
       "  </thead>\n",
       "  <tbody>\n",
       "    <tr>\n",
       "      <th>0</th>\n",
       "      <td>2018022616</td>\n",
       "      <td>2018022709</td>\n",
       "      <td>2018022814</td>\n",
       "      <td>E01</td>\n",
       "      <td>20180307</td>\n",
       "    </tr>\n",
       "    <tr>\n",
       "      <th>1</th>\n",
       "      <td>2018022618</td>\n",
       "      <td>2018022709</td>\n",
       "      <td>2018022813</td>\n",
       "      <td>E02</td>\n",
       "      <td>20180307</td>\n",
       "    </tr>\n",
       "    <tr>\n",
       "      <th>2</th>\n",
       "      <td>2018022608</td>\n",
       "      <td>2018022811</td>\n",
       "      <td>2018022811</td>\n",
       "      <td>E03</td>\n",
       "      <td>20180307</td>\n",
       "    </tr>\n",
       "    <tr>\n",
       "      <th>3</th>\n",
       "      <td>2018022620</td>\n",
       "      <td>2018022810</td>\n",
       "      <td>2018022810</td>\n",
       "      <td>E04</td>\n",
       "      <td>20180307</td>\n",
       "    </tr>\n",
       "    <tr>\n",
       "      <th>4</th>\n",
       "      <td>2018022619</td>\n",
       "      <td>2018030104</td>\n",
       "      <td>2018022808</td>\n",
       "      <td>E05</td>\n",
       "      <td>20180307</td>\n",
       "    </tr>\n",
       "  </tbody>\n",
       "</table>\n",
       "</div>"
      ],
      "text/plain": [
       "          DIR          HS         PER code   nowdate\n",
       "0  2018022616  2018022709  2018022814  E01  20180307\n",
       "1  2018022618  2018022709  2018022813  E02  20180307\n",
       "2  2018022608  2018022811  2018022811  E03  20180307\n",
       "3  2018022620  2018022810  2018022810  E04  20180307\n",
       "4  2018022619  2018030104  2018022808  E05  20180307"
      ]
     },
     "execution_count": 72,
     "metadata": {},
     "output_type": "execute_result"
    }
   ],
   "source": [
    "new_read_data.head()"
   ]
  },
  {
   "cell_type": "code",
   "execution_count": 56,
   "metadata": {},
   "outputs": [
    {
     "data": {
      "text/plain": [
       "['DIR', 'HS', 'PER', 'code', 'nowdate']"
      ]
     },
     "execution_count": 56,
     "metadata": {},
     "output_type": "execute_result"
    }
   ],
   "source": [
    "new_read_data.columns.values.tolist()"
   ]
  },
  {
   "cell_type": "markdown",
   "metadata": {},
   "source": [
    "* 自动化的方式去掉columns的names"
   ]
  },
  {
   "cell_type": "code",
   "execution_count": 58,
   "metadata": {
    "collapsed": true
   },
   "outputs": [],
   "source": [
    "new_read_data.columns=new_read_data.columns.values.tolist()"
   ]
  },
  {
   "cell_type": "code",
   "execution_count": 60,
   "metadata": {},
   "outputs": [
    {
     "data": {
      "text/html": [
       "<div>\n",
       "<style>\n",
       "    .dataframe thead tr:only-child th {\n",
       "        text-align: right;\n",
       "    }\n",
       "\n",
       "    .dataframe thead th {\n",
       "        text-align: left;\n",
       "    }\n",
       "\n",
       "    .dataframe tbody tr th {\n",
       "        vertical-align: top;\n",
       "    }\n",
       "</style>\n",
       "<table border=\"1\" class=\"dataframe\">\n",
       "  <thead>\n",
       "    <tr style=\"text-align: right;\">\n",
       "      <th></th>\n",
       "      <th>DIR</th>\n",
       "      <th>HS</th>\n",
       "      <th>PER</th>\n",
       "      <th>code</th>\n",
       "      <th>nowdate</th>\n",
       "    </tr>\n",
       "  </thead>\n",
       "  <tbody>\n",
       "    <tr>\n",
       "      <th>0</th>\n",
       "      <td>2018022616</td>\n",
       "      <td>2018022709</td>\n",
       "      <td>2018022814</td>\n",
       "      <td>E01</td>\n",
       "      <td>20180307</td>\n",
       "    </tr>\n",
       "    <tr>\n",
       "      <th>1</th>\n",
       "      <td>2018022618</td>\n",
       "      <td>2018022709</td>\n",
       "      <td>2018022813</td>\n",
       "      <td>E02</td>\n",
       "      <td>20180307</td>\n",
       "    </tr>\n",
       "    <tr>\n",
       "      <th>2</th>\n",
       "      <td>2018022608</td>\n",
       "      <td>2018022811</td>\n",
       "      <td>2018022811</td>\n",
       "      <td>E03</td>\n",
       "      <td>20180307</td>\n",
       "    </tr>\n",
       "    <tr>\n",
       "      <th>3</th>\n",
       "      <td>2018022620</td>\n",
       "      <td>2018022810</td>\n",
       "      <td>2018022810</td>\n",
       "      <td>E04</td>\n",
       "      <td>20180307</td>\n",
       "    </tr>\n",
       "    <tr>\n",
       "      <th>4</th>\n",
       "      <td>2018022619</td>\n",
       "      <td>2018030104</td>\n",
       "      <td>2018022808</td>\n",
       "      <td>E05</td>\n",
       "      <td>20180307</td>\n",
       "    </tr>\n",
       "  </tbody>\n",
       "</table>\n",
       "</div>"
      ],
      "text/plain": [
       "          DIR          HS         PER code   nowdate\n",
       "0  2018022616  2018022709  2018022814  E01  20180307\n",
       "1  2018022618  2018022709  2018022813  E02  20180307\n",
       "2  2018022608  2018022811  2018022811  E03  20180307\n",
       "3  2018022620  2018022810  2018022810  E04  20180307\n",
       "4  2018022619  2018030104  2018022808  E05  20180307"
      ]
     },
     "execution_count": 60,
     "metadata": {},
     "output_type": "execute_result"
    }
   ],
   "source": [
    "new_read_data.head()"
   ]
  },
  {
   "cell_type": "code",
   "execution_count": null,
   "metadata": {
    "collapsed": true
   },
   "outputs": [],
   "source": []
  }
 ],
 "metadata": {
  "kernelspec": {
   "display_name": "Python 3",
   "language": "python",
   "name": "python3"
  },
  "language_info": {
   "codemirror_mode": {
    "name": "ipython",
    "version": 3
   },
   "file_extension": ".py",
   "mimetype": "text/x-python",
   "name": "python",
   "nbconvert_exporter": "python",
   "pygments_lexer": "ipython3",
   "version": "3.6.2"
  }
 },
 "nbformat": 4,
 "nbformat_minor": 2
}
