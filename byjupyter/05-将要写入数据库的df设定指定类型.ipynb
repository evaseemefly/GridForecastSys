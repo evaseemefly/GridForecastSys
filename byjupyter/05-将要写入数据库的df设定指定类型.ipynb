{
 "cells": [
  {
   "cell_type": "code",
   "execution_count": 71,
   "metadata": {
    "collapsed": true
   },
   "outputs": [],
   "source": [
    "import numpy as np\n",
    "import pandas as pd\n",
    "import os\n",
    "import sys\n",
    "import datetime"
   ]
  },
  {
   "cell_type": "code",
   "execution_count": 72,
   "metadata": {},
   "outputs": [
    {
     "data": {
      "text/html": [
       "<div>\n",
       "<style>\n",
       "    .dataframe thead tr:only-child th {\n",
       "        text-align: right;\n",
       "    }\n",
       "\n",
       "    .dataframe thead th {\n",
       "        text-align: left;\n",
       "    }\n",
       "\n",
       "    .dataframe tbody tr th {\n",
       "        vertical-align: top;\n",
       "    }\n",
       "</style>\n",
       "<table border=\"1\" class=\"dataframe\">\n",
       "  <thead>\n",
       "    <tr style=\"text-align: right;\">\n",
       "      <th></th>\n",
       "      <th>0</th>\n",
       "      <th>1</th>\n",
       "      <th>2018-03-07 08:00</th>\n",
       "      <th>2018-03-07 09:00</th>\n",
       "      <th>2018-03-07 10:00</th>\n",
       "      <th>2018-03-07 11:00</th>\n",
       "      <th>2018-03-07 12:00</th>\n",
       "      <th>2018-03-07 13:00</th>\n",
       "      <th>2018-03-07 14:00</th>\n",
       "      <th>2018-03-07 15:00</th>\n",
       "      <th>...</th>\n",
       "      <th>2018-03-09 23:00</th>\n",
       "      <th>2018-03-10 00:00</th>\n",
       "      <th>2018-03-10 01:00</th>\n",
       "      <th>2018-03-10 02:00</th>\n",
       "      <th>2018-03-10 03:00</th>\n",
       "      <th>2018-03-10 04:00</th>\n",
       "      <th>2018-03-10 05:00</th>\n",
       "      <th>2018-03-10 06:00</th>\n",
       "      <th>2018-03-10 07:00</th>\n",
       "      <th>2018-03-10 08:00</th>\n",
       "    </tr>\n",
       "  </thead>\n",
       "  <tbody>\n",
       "    <tr>\n",
       "      <th>0</th>\n",
       "      <td>N01</td>\n",
       "      <td>HS</td>\n",
       "      <td>0.49</td>\n",
       "      <td>0.48</td>\n",
       "      <td>0.46</td>\n",
       "      <td>0.45</td>\n",
       "      <td>0.43</td>\n",
       "      <td>0.42</td>\n",
       "      <td>0.41</td>\n",
       "      <td>0.40</td>\n",
       "      <td>...</td>\n",
       "      <td>0.35</td>\n",
       "      <td>0.35</td>\n",
       "      <td>0.35</td>\n",
       "      <td>0.35</td>\n",
       "      <td>0.35</td>\n",
       "      <td>0.35</td>\n",
       "      <td>0.36</td>\n",
       "      <td>0.36</td>\n",
       "      <td>0.39</td>\n",
       "      <td>0.42</td>\n",
       "    </tr>\n",
       "    <tr>\n",
       "      <th>1</th>\n",
       "      <td>N01</td>\n",
       "      <td>PER</td>\n",
       "      <td>3.14</td>\n",
       "      <td>3.14</td>\n",
       "      <td>3.20</td>\n",
       "      <td>3.27</td>\n",
       "      <td>3.34</td>\n",
       "      <td>3.38</td>\n",
       "      <td>3.41</td>\n",
       "      <td>3.44</td>\n",
       "      <td>...</td>\n",
       "      <td>3.70</td>\n",
       "      <td>3.74</td>\n",
       "      <td>3.81</td>\n",
       "      <td>3.90</td>\n",
       "      <td>3.95</td>\n",
       "      <td>3.93</td>\n",
       "      <td>3.85</td>\n",
       "      <td>3.66</td>\n",
       "      <td>3.30</td>\n",
       "      <td>3.05</td>\n",
       "    </tr>\n",
       "    <tr>\n",
       "      <th>2</th>\n",
       "      <td>N01</td>\n",
       "      <td>DIR</td>\n",
       "      <td>11.19</td>\n",
       "      <td>11.21</td>\n",
       "      <td>12.50</td>\n",
       "      <td>14.01</td>\n",
       "      <td>15.01</td>\n",
       "      <td>15.63</td>\n",
       "      <td>16.05</td>\n",
       "      <td>16.31</td>\n",
       "      <td>...</td>\n",
       "      <td>17.03</td>\n",
       "      <td>17.33</td>\n",
       "      <td>17.59</td>\n",
       "      <td>17.84</td>\n",
       "      <td>17.62</td>\n",
       "      <td>16.95</td>\n",
       "      <td>15.89</td>\n",
       "      <td>13.79</td>\n",
       "      <td>9.30</td>\n",
       "      <td>5.26</td>\n",
       "    </tr>\n",
       "    <tr>\n",
       "      <th>3</th>\n",
       "      <td>N02</td>\n",
       "      <td>HS</td>\n",
       "      <td>0.44</td>\n",
       "      <td>0.43</td>\n",
       "      <td>0.42</td>\n",
       "      <td>0.41</td>\n",
       "      <td>0.40</td>\n",
       "      <td>0.40</td>\n",
       "      <td>0.39</td>\n",
       "      <td>0.38</td>\n",
       "      <td>...</td>\n",
       "      <td>0.31</td>\n",
       "      <td>0.32</td>\n",
       "      <td>0.32</td>\n",
       "      <td>0.32</td>\n",
       "      <td>0.32</td>\n",
       "      <td>0.32</td>\n",
       "      <td>0.32</td>\n",
       "      <td>0.34</td>\n",
       "      <td>0.39</td>\n",
       "      <td>0.45</td>\n",
       "    </tr>\n",
       "    <tr>\n",
       "      <th>4</th>\n",
       "      <td>N02</td>\n",
       "      <td>PER</td>\n",
       "      <td>4.03</td>\n",
       "      <td>4.05</td>\n",
       "      <td>4.06</td>\n",
       "      <td>4.04</td>\n",
       "      <td>4.02</td>\n",
       "      <td>3.99</td>\n",
       "      <td>3.94</td>\n",
       "      <td>3.94</td>\n",
       "      <td>...</td>\n",
       "      <td>4.29</td>\n",
       "      <td>4.36</td>\n",
       "      <td>4.42</td>\n",
       "      <td>4.47</td>\n",
       "      <td>4.44</td>\n",
       "      <td>4.35</td>\n",
       "      <td>4.15</td>\n",
       "      <td>3.76</td>\n",
       "      <td>3.28</td>\n",
       "      <td>3.07</td>\n",
       "    </tr>\n",
       "  </tbody>\n",
       "</table>\n",
       "<p>5 rows × 75 columns</p>\n",
       "</div>"
      ],
      "text/plain": [
       "     0    1  2018-03-07 08:00  2018-03-07 09:00  2018-03-07 10:00  \\\n",
       "0  N01   HS              0.49              0.48              0.46   \n",
       "1  N01  PER              3.14              3.14              3.20   \n",
       "2  N01  DIR             11.19             11.21             12.50   \n",
       "3  N02   HS              0.44              0.43              0.42   \n",
       "4  N02  PER              4.03              4.05              4.06   \n",
       "\n",
       "   2018-03-07 11:00  2018-03-07 12:00  2018-03-07 13:00  2018-03-07 14:00  \\\n",
       "0              0.45              0.43              0.42              0.41   \n",
       "1              3.27              3.34              3.38              3.41   \n",
       "2             14.01             15.01             15.63             16.05   \n",
       "3              0.41              0.40              0.40              0.39   \n",
       "4              4.04              4.02              3.99              3.94   \n",
       "\n",
       "   2018-03-07 15:00        ...         2018-03-09 23:00  2018-03-10 00:00  \\\n",
       "0              0.40        ...                     0.35              0.35   \n",
       "1              3.44        ...                     3.70              3.74   \n",
       "2             16.31        ...                    17.03             17.33   \n",
       "3              0.38        ...                     0.31              0.32   \n",
       "4              3.94        ...                     4.29              4.36   \n",
       "\n",
       "   2018-03-10 01:00  2018-03-10 02:00  2018-03-10 03:00  2018-03-10 04:00  \\\n",
       "0              0.35              0.35              0.35              0.35   \n",
       "1              3.81              3.90              3.95              3.93   \n",
       "2             17.59             17.84             17.62             16.95   \n",
       "3              0.32              0.32              0.32              0.32   \n",
       "4              4.42              4.47              4.44              4.35   \n",
       "\n",
       "   2018-03-10 05:00  2018-03-10 06:00  2018-03-10 07:00  2018-03-10 08:00  \n",
       "0              0.36              0.36              0.39              0.42  \n",
       "1              3.85              3.66              3.30              3.05  \n",
       "2             15.89             13.79              9.30              5.26  \n",
       "3              0.32              0.34              0.39              0.45  \n",
       "4              4.15              3.76              3.28              3.07  \n",
       "\n",
       "[5 rows x 75 columns]"
      ]
     },
     "execution_count": 72,
     "metadata": {},
     "output_type": "execute_result"
    }
   ],
   "source": [
    "read_date=pd.read_csv('convert_date.csv',',')\n",
    "# read_date=read_date.set_index([0,1])\n",
    "read_date.head()"
   ]
  },
  {
   "cell_type": "code",
   "execution_count": 73,
   "metadata": {
    "collapsed": true
   },
   "outputs": [],
   "source": [
    "read_date=read_date.set_index(['0','1'])"
   ]
  },
  {
   "cell_type": "code",
   "execution_count": 74,
   "metadata": {
    "collapsed": true
   },
   "outputs": [],
   "source": [
    "read_date.index.names=['code','factor']\n",
    "# read_date.index.names=[]"
   ]
  },
  {
   "cell_type": "markdown",
   "metadata": {},
   "source": [
    "#### 2、生成新的df"
   ]
  },
  {
   "cell_type": "markdown",
   "metadata": {},
   "source": [
    "* 2-1拼成新的df"
   ]
  },
  {
   "cell_type": "code",
   "execution_count": 75,
   "metadata": {
    "collapsed": true
   },
   "outputs": [],
   "source": [
    "new_read_data=pd.DataFrame(read_date.T.idxmax(axis=0).unstack().values,columns=read_date.T.idxmax(axis=0).unstack().columns)"
   ]
  },
  {
   "cell_type": "code",
   "execution_count": 76,
   "metadata": {},
   "outputs": [
    {
     "data": {
      "text/html": [
       "<div>\n",
       "<style>\n",
       "    .dataframe thead tr:only-child th {\n",
       "        text-align: right;\n",
       "    }\n",
       "\n",
       "    .dataframe thead th {\n",
       "        text-align: left;\n",
       "    }\n",
       "\n",
       "    .dataframe tbody tr th {\n",
       "        vertical-align: top;\n",
       "    }\n",
       "</style>\n",
       "<table border=\"1\" class=\"dataframe\">\n",
       "  <thead>\n",
       "    <tr style=\"text-align: right;\">\n",
       "      <th>factor</th>\n",
       "      <th>DIR</th>\n",
       "      <th>HS</th>\n",
       "      <th>PER</th>\n",
       "    </tr>\n",
       "  </thead>\n",
       "  <tbody>\n",
       "    <tr>\n",
       "      <th>0</th>\n",
       "      <td>2018-03-07 16:00</td>\n",
       "      <td>2018-03-08 09:00</td>\n",
       "      <td>2018-03-09 14:00</td>\n",
       "    </tr>\n",
       "    <tr>\n",
       "      <th>1</th>\n",
       "      <td>2018-03-07 18:00</td>\n",
       "      <td>2018-03-08 09:00</td>\n",
       "      <td>2018-03-09 13:00</td>\n",
       "    </tr>\n",
       "    <tr>\n",
       "      <th>2</th>\n",
       "      <td>2018-03-07 08:00</td>\n",
       "      <td>2018-03-09 11:00</td>\n",
       "      <td>2018-03-09 11:00</td>\n",
       "    </tr>\n",
       "    <tr>\n",
       "      <th>3</th>\n",
       "      <td>2018-03-07 20:00</td>\n",
       "      <td>2018-03-09 10:00</td>\n",
       "      <td>2018-03-09 10:00</td>\n",
       "    </tr>\n",
       "    <tr>\n",
       "      <th>4</th>\n",
       "      <td>2018-03-07 19:00</td>\n",
       "      <td>2018-03-10 04:00</td>\n",
       "      <td>2018-03-09 08:00</td>\n",
       "    </tr>\n",
       "  </tbody>\n",
       "</table>\n",
       "</div>"
      ],
      "text/plain": [
       "factor               DIR                HS               PER\n",
       "0       2018-03-07 16:00  2018-03-08 09:00  2018-03-09 14:00\n",
       "1       2018-03-07 18:00  2018-03-08 09:00  2018-03-09 13:00\n",
       "2       2018-03-07 08:00  2018-03-09 11:00  2018-03-09 11:00\n",
       "3       2018-03-07 20:00  2018-03-09 10:00  2018-03-09 10:00\n",
       "4       2018-03-07 19:00  2018-03-10 04:00  2018-03-09 08:00"
      ]
     },
     "execution_count": 76,
     "metadata": {},
     "output_type": "execute_result"
    }
   ],
   "source": [
    "new_read_data.head()"
   ]
  },
  {
   "cell_type": "markdown",
   "metadata": {},
   "source": [
    "* 2-2新增两列"
   ]
  },
  {
   "cell_type": "code",
   "execution_count": 78,
   "metadata": {
    "collapsed": true
   },
   "outputs": [],
   "source": [
    "new_read_data.indexs=read_date.T.idxmax(axis=0).unstack().index.values\n",
    "new_read_data['code']=read_date.T.idxmax(axis=0).unstack().index\n",
    "new_read_data['nowdate']='2018-03-07'"
   ]
  },
  {
   "cell_type": "code",
   "execution_count": 79,
   "metadata": {},
   "outputs": [
    {
     "data": {
      "text/html": [
       "<div>\n",
       "<style>\n",
       "    .dataframe thead tr:only-child th {\n",
       "        text-align: right;\n",
       "    }\n",
       "\n",
       "    .dataframe thead th {\n",
       "        text-align: left;\n",
       "    }\n",
       "\n",
       "    .dataframe tbody tr th {\n",
       "        vertical-align: top;\n",
       "    }\n",
       "</style>\n",
       "<table border=\"1\" class=\"dataframe\">\n",
       "  <thead>\n",
       "    <tr style=\"text-align: right;\">\n",
       "      <th>factor</th>\n",
       "      <th>DIR</th>\n",
       "      <th>HS</th>\n",
       "      <th>PER</th>\n",
       "      <th>code</th>\n",
       "      <th>nowdate</th>\n",
       "    </tr>\n",
       "  </thead>\n",
       "  <tbody>\n",
       "    <tr>\n",
       "      <th>0</th>\n",
       "      <td>2018-03-07 16:00</td>\n",
       "      <td>2018-03-08 09:00</td>\n",
       "      <td>2018-03-09 14:00</td>\n",
       "      <td>E01</td>\n",
       "      <td>2018-03-07</td>\n",
       "    </tr>\n",
       "    <tr>\n",
       "      <th>1</th>\n",
       "      <td>2018-03-07 18:00</td>\n",
       "      <td>2018-03-08 09:00</td>\n",
       "      <td>2018-03-09 13:00</td>\n",
       "      <td>E02</td>\n",
       "      <td>2018-03-07</td>\n",
       "    </tr>\n",
       "    <tr>\n",
       "      <th>2</th>\n",
       "      <td>2018-03-07 08:00</td>\n",
       "      <td>2018-03-09 11:00</td>\n",
       "      <td>2018-03-09 11:00</td>\n",
       "      <td>E03</td>\n",
       "      <td>2018-03-07</td>\n",
       "    </tr>\n",
       "    <tr>\n",
       "      <th>3</th>\n",
       "      <td>2018-03-07 20:00</td>\n",
       "      <td>2018-03-09 10:00</td>\n",
       "      <td>2018-03-09 10:00</td>\n",
       "      <td>E04</td>\n",
       "      <td>2018-03-07</td>\n",
       "    </tr>\n",
       "    <tr>\n",
       "      <th>4</th>\n",
       "      <td>2018-03-07 19:00</td>\n",
       "      <td>2018-03-10 04:00</td>\n",
       "      <td>2018-03-09 08:00</td>\n",
       "      <td>E05</td>\n",
       "      <td>2018-03-07</td>\n",
       "    </tr>\n",
       "  </tbody>\n",
       "</table>\n",
       "</div>"
      ],
      "text/plain": [
       "factor               DIR                HS               PER code     nowdate\n",
       "0       2018-03-07 16:00  2018-03-08 09:00  2018-03-09 14:00  E01  2018-03-07\n",
       "1       2018-03-07 18:00  2018-03-08 09:00  2018-03-09 13:00  E02  2018-03-07\n",
       "2       2018-03-07 08:00  2018-03-09 11:00  2018-03-09 11:00  E03  2018-03-07\n",
       "3       2018-03-07 20:00  2018-03-09 10:00  2018-03-09 10:00  E04  2018-03-07\n",
       "4       2018-03-07 19:00  2018-03-10 04:00  2018-03-09 08:00  E05  2018-03-07"
      ]
     },
     "execution_count": 79,
     "metadata": {},
     "output_type": "execute_result"
    }
   ],
   "source": [
    "new_read_data.head()"
   ]
  },
  {
   "cell_type": "markdown",
   "metadata": {},
   "source": [
    "* 2-3 去掉factor  \n",
    "* 自动化的方式去掉columns的names"
   ]
  },
  {
   "cell_type": "code",
   "execution_count": 80,
   "metadata": {
    "collapsed": true
   },
   "outputs": [],
   "source": [
    "new_read_data.columns=new_read_data.columns.values.tolist()"
   ]
  },
  {
   "cell_type": "code",
   "execution_count": 81,
   "metadata": {},
   "outputs": [
    {
     "data": {
      "text/html": [
       "<div>\n",
       "<style>\n",
       "    .dataframe thead tr:only-child th {\n",
       "        text-align: right;\n",
       "    }\n",
       "\n",
       "    .dataframe thead th {\n",
       "        text-align: left;\n",
       "    }\n",
       "\n",
       "    .dataframe tbody tr th {\n",
       "        vertical-align: top;\n",
       "    }\n",
       "</style>\n",
       "<table border=\"1\" class=\"dataframe\">\n",
       "  <thead>\n",
       "    <tr style=\"text-align: right;\">\n",
       "      <th></th>\n",
       "      <th>DIR</th>\n",
       "      <th>HS</th>\n",
       "      <th>PER</th>\n",
       "      <th>code</th>\n",
       "      <th>nowdate</th>\n",
       "    </tr>\n",
       "  </thead>\n",
       "  <tbody>\n",
       "    <tr>\n",
       "      <th>0</th>\n",
       "      <td>2018-03-07 16:00</td>\n",
       "      <td>2018-03-08 09:00</td>\n",
       "      <td>2018-03-09 14:00</td>\n",
       "      <td>E01</td>\n",
       "      <td>2018-03-07</td>\n",
       "    </tr>\n",
       "    <tr>\n",
       "      <th>1</th>\n",
       "      <td>2018-03-07 18:00</td>\n",
       "      <td>2018-03-08 09:00</td>\n",
       "      <td>2018-03-09 13:00</td>\n",
       "      <td>E02</td>\n",
       "      <td>2018-03-07</td>\n",
       "    </tr>\n",
       "    <tr>\n",
       "      <th>2</th>\n",
       "      <td>2018-03-07 08:00</td>\n",
       "      <td>2018-03-09 11:00</td>\n",
       "      <td>2018-03-09 11:00</td>\n",
       "      <td>E03</td>\n",
       "      <td>2018-03-07</td>\n",
       "    </tr>\n",
       "    <tr>\n",
       "      <th>3</th>\n",
       "      <td>2018-03-07 20:00</td>\n",
       "      <td>2018-03-09 10:00</td>\n",
       "      <td>2018-03-09 10:00</td>\n",
       "      <td>E04</td>\n",
       "      <td>2018-03-07</td>\n",
       "    </tr>\n",
       "    <tr>\n",
       "      <th>4</th>\n",
       "      <td>2018-03-07 19:00</td>\n",
       "      <td>2018-03-10 04:00</td>\n",
       "      <td>2018-03-09 08:00</td>\n",
       "      <td>E05</td>\n",
       "      <td>2018-03-07</td>\n",
       "    </tr>\n",
       "  </tbody>\n",
       "</table>\n",
       "</div>"
      ],
      "text/plain": [
       "                DIR                HS               PER code     nowdate\n",
       "0  2018-03-07 16:00  2018-03-08 09:00  2018-03-09 14:00  E01  2018-03-07\n",
       "1  2018-03-07 18:00  2018-03-08 09:00  2018-03-09 13:00  E02  2018-03-07\n",
       "2  2018-03-07 08:00  2018-03-09 11:00  2018-03-09 11:00  E03  2018-03-07\n",
       "3  2018-03-07 20:00  2018-03-09 10:00  2018-03-09 10:00  E04  2018-03-07\n",
       "4  2018-03-07 19:00  2018-03-10 04:00  2018-03-09 08:00  E05  2018-03-07"
      ]
     },
     "execution_count": 81,
     "metadata": {},
     "output_type": "execute_result"
    }
   ],
   "source": [
    "new_read_data.head()"
   ]
  },
  {
   "cell_type": "markdown",
   "metadata": {
    "collapsed": true
   },
   "source": [
    "### 3、查看原有的每一类的数据类型"
   ]
  },
  {
   "cell_type": "code",
   "execution_count": 82,
   "metadata": {},
   "outputs": [
    {
     "data": {
      "text/plain": [
       "pandas.core.frame.DataFrame"
      ]
     },
     "execution_count": 82,
     "metadata": {},
     "output_type": "execute_result"
    }
   ],
   "source": [
    "type(new_read_data)"
   ]
  },
  {
   "cell_type": "code",
   "execution_count": 83,
   "metadata": {
    "collapsed": true
   },
   "outputs": [],
   "source": [
    "new_read_data['nowdate']='2018-03-07 17:00'"
   ]
  },
  {
   "cell_type": "code",
   "execution_count": 84,
   "metadata": {},
   "outputs": [
    {
     "data": {
      "text/html": [
       "<div>\n",
       "<style>\n",
       "    .dataframe thead tr:only-child th {\n",
       "        text-align: right;\n",
       "    }\n",
       "\n",
       "    .dataframe thead th {\n",
       "        text-align: left;\n",
       "    }\n",
       "\n",
       "    .dataframe tbody tr th {\n",
       "        vertical-align: top;\n",
       "    }\n",
       "</style>\n",
       "<table border=\"1\" class=\"dataframe\">\n",
       "  <thead>\n",
       "    <tr style=\"text-align: right;\">\n",
       "      <th></th>\n",
       "      <th>DIR</th>\n",
       "      <th>HS</th>\n",
       "      <th>PER</th>\n",
       "      <th>code</th>\n",
       "      <th>nowdate</th>\n",
       "    </tr>\n",
       "  </thead>\n",
       "  <tbody>\n",
       "    <tr>\n",
       "      <th>0</th>\n",
       "      <td>2018-03-07 16:00</td>\n",
       "      <td>2018-03-08 09:00</td>\n",
       "      <td>2018-03-09 14:00</td>\n",
       "      <td>E01</td>\n",
       "      <td>2018-03-07 17:00</td>\n",
       "    </tr>\n",
       "    <tr>\n",
       "      <th>1</th>\n",
       "      <td>2018-03-07 18:00</td>\n",
       "      <td>2018-03-08 09:00</td>\n",
       "      <td>2018-03-09 13:00</td>\n",
       "      <td>E02</td>\n",
       "      <td>2018-03-07 17:00</td>\n",
       "    </tr>\n",
       "    <tr>\n",
       "      <th>2</th>\n",
       "      <td>2018-03-07 08:00</td>\n",
       "      <td>2018-03-09 11:00</td>\n",
       "      <td>2018-03-09 11:00</td>\n",
       "      <td>E03</td>\n",
       "      <td>2018-03-07 17:00</td>\n",
       "    </tr>\n",
       "    <tr>\n",
       "      <th>3</th>\n",
       "      <td>2018-03-07 20:00</td>\n",
       "      <td>2018-03-09 10:00</td>\n",
       "      <td>2018-03-09 10:00</td>\n",
       "      <td>E04</td>\n",
       "      <td>2018-03-07 17:00</td>\n",
       "    </tr>\n",
       "    <tr>\n",
       "      <th>4</th>\n",
       "      <td>2018-03-07 19:00</td>\n",
       "      <td>2018-03-10 04:00</td>\n",
       "      <td>2018-03-09 08:00</td>\n",
       "      <td>E05</td>\n",
       "      <td>2018-03-07 17:00</td>\n",
       "    </tr>\n",
       "  </tbody>\n",
       "</table>\n",
       "</div>"
      ],
      "text/plain": [
       "                DIR                HS               PER code           nowdate\n",
       "0  2018-03-07 16:00  2018-03-08 09:00  2018-03-09 14:00  E01  2018-03-07 17:00\n",
       "1  2018-03-07 18:00  2018-03-08 09:00  2018-03-09 13:00  E02  2018-03-07 17:00\n",
       "2  2018-03-07 08:00  2018-03-09 11:00  2018-03-09 11:00  E03  2018-03-07 17:00\n",
       "3  2018-03-07 20:00  2018-03-09 10:00  2018-03-09 10:00  E04  2018-03-07 17:00\n",
       "4  2018-03-07 19:00  2018-03-10 04:00  2018-03-09 08:00  E05  2018-03-07 17:00"
      ]
     },
     "execution_count": 84,
     "metadata": {},
     "output_type": "execute_result"
    }
   ],
   "source": [
    "new_read_data.head()"
   ]
  },
  {
   "cell_type": "code",
   "execution_count": 85,
   "metadata": {},
   "outputs": [
    {
     "data": {
      "text/plain": [
       "DIR        object\n",
       "HS         object\n",
       "PER        object\n",
       "code       object\n",
       "nowdate    object\n",
       "dtype: object"
      ]
     },
     "execution_count": 85,
     "metadata": {},
     "output_type": "execute_result"
    }
   ],
   "source": [
    "new_read_data.dtypes"
   ]
  },
  {
   "cell_type": "code",
   "execution_count": 87,
   "metadata": {},
   "outputs": [
    {
     "data": {
      "text/plain": [
       "0   2018-03-07 17:00:00\n",
       "1   2018-03-07 17:00:00\n",
       "2   2018-03-07 17:00:00\n",
       "3   2018-03-07 17:00:00\n",
       "4   2018-03-07 17:00:00\n",
       "Name: nowdate, dtype: datetime64[ns]"
      ]
     },
     "execution_count": 87,
     "metadata": {},
     "output_type": "execute_result"
    }
   ],
   "source": [
    "new_read_data['nowdate'].astype('datetime64[h]').head()"
   ]
  },
  {
   "cell_type": "markdown",
   "metadata": {},
   "source": [
    "* 3-2 批量修改列的类型"
   ]
  },
  {
   "cell_type": "code",
   "execution_count": 88,
   "metadata": {
    "collapsed": true
   },
   "outputs": [],
   "source": [
    "new_read_data['DIR']=new_read_data['DIR'].astype('datetime64[ns]')\n",
    "new_read_data['HS']=new_read_data['HS'].astype('datetime64[ns]')\n",
    "new_read_data['PER']=new_read_data['PER'].astype('datetime64[ns]')\n",
    "new_read_data['nowdate']=new_read_data['nowdate'].astype('datetime64[ns]')"
   ]
  },
  {
   "cell_type": "code",
   "execution_count": 89,
   "metadata": {},
   "outputs": [
    {
     "data": {
      "text/plain": [
       "DIR        datetime64[ns]\n",
       "HS         datetime64[ns]\n",
       "PER        datetime64[ns]\n",
       "code               object\n",
       "nowdate    datetime64[ns]\n",
       "dtype: object"
      ]
     },
     "execution_count": 89,
     "metadata": {},
     "output_type": "execute_result"
    }
   ],
   "source": [
    "new_read_data.dtypes"
   ]
  },
  {
   "cell_type": "code",
   "execution_count": 91,
   "metadata": {},
   "outputs": [
    {
     "data": {
      "text/html": [
       "<div>\n",
       "<style>\n",
       "    .dataframe thead tr:only-child th {\n",
       "        text-align: right;\n",
       "    }\n",
       "\n",
       "    .dataframe thead th {\n",
       "        text-align: left;\n",
       "    }\n",
       "\n",
       "    .dataframe tbody tr th {\n",
       "        vertical-align: top;\n",
       "    }\n",
       "</style>\n",
       "<table border=\"1\" class=\"dataframe\">\n",
       "  <thead>\n",
       "    <tr style=\"text-align: right;\">\n",
       "      <th></th>\n",
       "      <th>DIR</th>\n",
       "      <th>HS</th>\n",
       "      <th>PER</th>\n",
       "      <th>code</th>\n",
       "      <th>nowdate</th>\n",
       "    </tr>\n",
       "  </thead>\n",
       "  <tbody>\n",
       "    <tr>\n",
       "      <th>0</th>\n",
       "      <td>2018-03-07 16:00:00</td>\n",
       "      <td>2018-03-08 09:00:00</td>\n",
       "      <td>2018-03-09 14:00:00</td>\n",
       "      <td>E01</td>\n",
       "      <td>2018-03-07 17:00:00</td>\n",
       "    </tr>\n",
       "    <tr>\n",
       "      <th>1</th>\n",
       "      <td>2018-03-07 18:00:00</td>\n",
       "      <td>2018-03-08 09:00:00</td>\n",
       "      <td>2018-03-09 13:00:00</td>\n",
       "      <td>E02</td>\n",
       "      <td>2018-03-07 17:00:00</td>\n",
       "    </tr>\n",
       "    <tr>\n",
       "      <th>2</th>\n",
       "      <td>2018-03-07 08:00:00</td>\n",
       "      <td>2018-03-09 11:00:00</td>\n",
       "      <td>2018-03-09 11:00:00</td>\n",
       "      <td>E03</td>\n",
       "      <td>2018-03-07 17:00:00</td>\n",
       "    </tr>\n",
       "    <tr>\n",
       "      <th>3</th>\n",
       "      <td>2018-03-07 20:00:00</td>\n",
       "      <td>2018-03-09 10:00:00</td>\n",
       "      <td>2018-03-09 10:00:00</td>\n",
       "      <td>E04</td>\n",
       "      <td>2018-03-07 17:00:00</td>\n",
       "    </tr>\n",
       "    <tr>\n",
       "      <th>4</th>\n",
       "      <td>2018-03-07 19:00:00</td>\n",
       "      <td>2018-03-10 04:00:00</td>\n",
       "      <td>2018-03-09 08:00:00</td>\n",
       "      <td>E05</td>\n",
       "      <td>2018-03-07 17:00:00</td>\n",
       "    </tr>\n",
       "  </tbody>\n",
       "</table>\n",
       "</div>"
      ],
      "text/plain": [
       "                  DIR                  HS                 PER code  \\\n",
       "0 2018-03-07 16:00:00 2018-03-08 09:00:00 2018-03-09 14:00:00  E01   \n",
       "1 2018-03-07 18:00:00 2018-03-08 09:00:00 2018-03-09 13:00:00  E02   \n",
       "2 2018-03-07 08:00:00 2018-03-09 11:00:00 2018-03-09 11:00:00  E03   \n",
       "3 2018-03-07 20:00:00 2018-03-09 10:00:00 2018-03-09 10:00:00  E04   \n",
       "4 2018-03-07 19:00:00 2018-03-10 04:00:00 2018-03-09 08:00:00  E05   \n",
       "\n",
       "              nowdate  \n",
       "0 2018-03-07 17:00:00  \n",
       "1 2018-03-07 17:00:00  \n",
       "2 2018-03-07 17:00:00  \n",
       "3 2018-03-07 17:00:00  \n",
       "4 2018-03-07 17:00:00  "
      ]
     },
     "execution_count": 91,
     "metadata": {},
     "output_type": "execute_result"
    }
   ],
   "source": [
    "new_read_data.head()"
   ]
  },
  {
   "cell_type": "code",
   "execution_count": null,
   "metadata": {
    "collapsed": true
   },
   "outputs": [],
   "source": []
  }
 ],
 "metadata": {
  "kernelspec": {
   "display_name": "Python 3",
   "language": "python",
   "name": "python3"
  },
  "language_info": {
   "codemirror_mode": {
    "name": "ipython",
    "version": 3
   },
   "file_extension": ".py",
   "mimetype": "text/x-python",
   "name": "python",
   "nbconvert_exporter": "python",
   "pygments_lexer": "ipython3",
   "version": "3.6.2"
  }
 },
 "nbformat": 4,
 "nbformat_minor": 2
}
