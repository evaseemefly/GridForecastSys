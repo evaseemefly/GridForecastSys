{
 "cells": [
  {
   "cell_type": "code",
   "execution_count": 38,
   "metadata": {
    "collapsed": true
   },
   "outputs": [],
   "source": [
    "import netCDF4 as nc\n",
    "import numpy as np"
   ]
  },
  {
   "cell_type": "code",
   "execution_count": 2,
   "metadata": {
    "collapsed": true
   },
   "outputs": [],
   "source": [
    "nc_obj=nc.Dataset('2018011420_08_24.nc')"
   ]
  },
  {
   "cell_type": "code",
   "execution_count": 3,
   "metadata": {},
   "outputs": [
    {
     "data": {
      "text/plain": [
       "<class 'netCDF4._netCDF4.Dataset'>\n",
       "root group (NETCDF3_CLASSIC data model, file format NETCDF3):\n",
       "    dimensions(sizes): latitude(181), longitude(301)\n",
       "    variables(dimensions): float32 \u001b[4mlongitude\u001b[0m(longitude), float32 \u001b[4mlatitude\u001b[0m(latitude), float32 \u001b[4mswh\u001b[0m(latitude,longitude)\n",
       "    groups: "
      ]
     },
     "execution_count": 3,
     "metadata": {},
     "output_type": "execute_result"
    }
   ],
   "source": [
    "nc_obj"
   ]
  },
  {
   "cell_type": "code",
   "execution_count": 4,
   "metadata": {},
   "outputs": [
    {
     "data": {
      "text/plain": [
       "odict_keys(['longitude', 'latitude', 'swh'])"
      ]
     },
     "execution_count": 4,
     "metadata": {},
     "output_type": "execute_result"
    }
   ],
   "source": [
    "nc_obj.variables.keys()"
   ]
  },
  {
   "cell_type": "code",
   "execution_count": 5,
   "metadata": {},
   "outputs": [
    {
     "data": {
      "text/plain": [
       "odict_values([])"
      ]
     },
     "execution_count": 5,
     "metadata": {},
     "output_type": "execute_result"
    }
   ],
   "source": [
    "nc_obj.groups.values()"
   ]
  },
  {
   "cell_type": "code",
   "execution_count": 8,
   "metadata": {},
   "outputs": [
    {
     "data": {
      "text/plain": [
       "masked_array(data = [ 45.    44.75  44.5   44.25  44.  ],\n",
       "             mask = False,\n",
       "       fill_value = 1e+20)"
      ]
     },
     "execution_count": 8,
     "metadata": {},
     "output_type": "execute_result"
    }
   ],
   "source": [
    "nc_obj.variables['latitude'][:5]"
   ]
  },
  {
   "cell_type": "code",
   "execution_count": 17,
   "metadata": {},
   "outputs": [
    {
     "data": {
      "text/plain": [
       "301"
      ]
     },
     "execution_count": 17,
     "metadata": {},
     "output_type": "execute_result"
    }
   ],
   "source": [
    "len(nc_obj.variables['longitude'][:])"
   ]
  },
  {
   "cell_type": "markdown",
   "metadata": {},
   "source": [
    "注意ndarray使用bool索引的方式索引"
   ]
  },
  {
   "cell_type": "code",
   "execution_count": 36,
   "metadata": {},
   "outputs": [
    {
     "data": {
      "text/plain": [
       "numpy.ndarray"
      ]
     },
     "execution_count": 36,
     "metadata": {},
     "output_type": "execute_result"
    }
   ],
   "source": [
    "type(nc_obj.variables['longitude'][:].data)"
   ]
  },
  {
   "cell_type": "code",
   "execution_count": 40,
   "metadata": {},
   "outputs": [
    {
     "data": {
      "text/plain": [
       "array([  90.  ,   90.25,   90.5 ,   90.75,   91.  ,   91.25,   91.5 ,\n",
       "         91.75,   92.  ,   92.25,   92.5 ,   92.75,   93.  ,   93.25,\n",
       "         93.5 ,   93.75,   94.  ,   94.25,   94.5 ,   94.75,   95.  ,\n",
       "         95.25,   95.5 ,   95.75,   96.  ,   96.25,   96.5 ,   96.75,\n",
       "         97.  ,   97.25,   97.5 ,   97.75,   98.  ,   98.25,   98.5 ,\n",
       "         98.75,   99.  ,   99.25,   99.5 ,   99.75,  100.  ,  100.25,\n",
       "        100.5 ,  100.75,  101.  ,  101.25,  101.5 ,  101.75,  102.  ,\n",
       "        102.25,  102.5 ,  102.75,  103.  ,  103.25,  103.5 ,  103.75,\n",
       "        104.  ,  104.25,  104.5 ,  104.75,  105.  ,  105.25,  105.5 ,\n",
       "        105.75,  106.  ,  106.25,  106.5 ,  106.75,  107.  ,  107.25,\n",
       "        107.5 ,  107.75,  108.  ,  108.25,  108.5 ,  108.75,  109.  ,\n",
       "        109.25,  109.5 ,  109.75,  110.  ,  110.25,  110.5 ,  110.75,\n",
       "        111.  ,  111.25,  111.5 ,  111.75,  112.  ,  112.25,  112.5 ,\n",
       "        112.75,  113.  ,  113.25,  113.5 ,  113.75,  114.  ,  114.25,\n",
       "        114.5 ,  114.75,  115.  ,  115.25,  115.5 ,  115.75,  116.  ,\n",
       "        116.25,  116.5 ,  116.75,  117.  ,  117.25,  117.5 ,  117.75,\n",
       "        118.  ,  118.25,  118.5 ,  118.75,  119.  ,  119.25,  119.5 ,\n",
       "        119.75,  120.  ,  120.25,  120.5 ,  120.75,  121.  ,  121.25,\n",
       "        121.5 ,  121.75,  122.  ,  122.25,  122.5 ,  122.75,  123.  ,\n",
       "        123.25,  123.5 ,  123.75,  124.  ,  124.25,  124.5 ,  124.75,\n",
       "        125.  ,  125.25,  125.5 ,  125.75,  126.  ,  126.25,  126.5 ,\n",
       "        126.75,  127.  ,  127.25,  127.5 ,  127.75,  128.  ,  128.25,\n",
       "        128.5 ,  128.75,  129.  ,  129.25,  129.5 ,  129.75,  130.  ,\n",
       "        130.25,  130.5 ,  130.75,  131.  ,  131.25,  131.5 ,  131.75,\n",
       "        132.  ,  132.25,  132.5 ,  132.75,  133.  ,  133.25,  133.5 ,\n",
       "        133.75,  134.  ,  134.25,  134.5 ,  134.75,  135.  ,  135.25,\n",
       "        135.5 ,  135.75,  136.  ,  136.25,  136.5 ,  136.75,  137.  ,\n",
       "        137.25,  137.5 ,  137.75,  138.  ,  138.25,  138.5 ,  138.75,\n",
       "        139.  ,  139.25,  139.5 ,  139.75,  140.  ,  140.25,  140.5 ,\n",
       "        140.75,  141.  ,  141.25,  141.5 ,  141.75,  142.  ,  142.25,\n",
       "        142.5 ,  142.75,  143.  ,  143.25,  143.5 ,  143.75,  144.  ,\n",
       "        144.25,  144.5 ,  144.75,  145.  ,  145.25,  145.5 ,  145.75,\n",
       "        146.  ,  146.25,  146.5 ,  146.75,  147.  ,  147.25,  147.5 ,\n",
       "        147.75,  148.  ,  148.25,  148.5 ,  148.75,  149.  ,  149.25,\n",
       "        149.5 ,  149.75,  150.  ,  150.25,  150.5 ,  150.75,  151.  ,\n",
       "        151.25,  151.5 ,  151.75,  152.  ,  152.25,  152.5 ,  152.75,\n",
       "        153.  ,  153.25,  153.5 ,  153.75,  154.  ,  154.25,  154.5 ,\n",
       "        154.75,  155.  ,  155.25,  155.5 ,  155.75,  156.  ,  156.25,\n",
       "        156.5 ,  156.75,  157.  ,  157.25,  157.5 ,  157.75,  158.  ,\n",
       "        158.25,  158.5 ,  158.75,  159.  ,  159.25,  159.5 ,  159.75,\n",
       "        160.  ,  160.25,  160.5 ,  160.75,  161.  ,  161.25,  161.5 ,\n",
       "        161.75,  162.  ,  162.25,  162.5 ,  162.75,  163.  ,  163.25,\n",
       "        163.5 ,  163.75,  164.  ,  164.25,  164.5 ,  164.75,  165.  ], dtype=float32)"
      ]
     },
     "execution_count": 40,
     "metadata": {},
     "output_type": "execute_result"
    }
   ],
   "source": [
    "nc_obj.variables['longitude'][:].data"
   ]
  },
  {
   "cell_type": "code",
   "execution_count": 49,
   "metadata": {},
   "outputs": [],
   "source": [
    "lng_index=np.where(nc_obj.variables['longitude'][:].data==120.25)"
   ]
  },
  {
   "cell_type": "code",
   "execution_count": 50,
   "metadata": {},
   "outputs": [],
   "source": [
    "lat_index=np.where(nc_obj.variables['latitude'][:].data==44.75)"
   ]
  },
  {
   "cell_type": "code",
   "execution_count": 51,
   "metadata": {},
   "outputs": [
    {
     "name": "stdout",
     "output_type": "stream",
     "text": [
      "(array([121]),) (array([1]),)\n"
     ]
    }
   ],
   "source": [
    "print(lng_index,lat_index)"
   ]
  },
  {
   "cell_type": "code",
   "execution_count": 15,
   "metadata": {},
   "outputs": [
    {
     "data": {
      "text/plain": [
       "181"
      ]
     },
     "execution_count": 15,
     "metadata": {},
     "output_type": "execute_result"
    }
   ],
   "source": [
    "len(nc_obj.variables['latitude'][:])"
   ]
  },
  {
   "cell_type": "code",
   "execution_count": 16,
   "metadata": {},
   "outputs": [
    {
     "data": {
      "text/plain": [
       "181"
      ]
     },
     "execution_count": 16,
     "metadata": {},
     "output_type": "execute_result"
    }
   ],
   "source": [
    "len(nc_obj.variables['swh'][:])"
   ]
  },
  {
   "cell_type": "markdown",
   "metadata": {},
   "source": [
    "longitude 301，lat 181"
   ]
  },
  {
   "cell_type": "code",
   "execution_count": 55,
   "metadata": {},
   "outputs": [
    {
     "data": {
      "text/plain": [
       "(181, 301)"
      ]
     },
     "execution_count": 55,
     "metadata": {},
     "output_type": "execute_result"
    }
   ],
   "source": [
    "nc_obj.variables['swh'][:].shape"
   ]
  },
  {
   "cell_type": "code",
   "execution_count": 52,
   "metadata": {},
   "outputs": [
    {
     "data": {
      "text/plain": [
       "masked_array(data =\n",
       " [[ 0.          0.          0.         ...,  3.79013753  3.81374502\n",
       "   3.8166697 ]\n",
       " [ 0.          0.          0.         ...,  3.73289442  3.75065231\n",
       "   3.74542928]\n",
       " [ 0.          0.          0.         ...,  3.67314434  3.68170977\n",
       "   3.67606902]\n",
       " ..., \n",
       " [ 1.29114306  1.28890967  1.2940464  ...,  2.2034173   2.20362639\n",
       "   2.18628621]\n",
       " [ 1.29382312  1.29627979  1.30074644 ...,  2.14304066  2.13322163\n",
       "   2.14304066]\n",
       " [ 1.30342638  1.30744648  1.31369984 ...,  2.07950878  2.06782269\n",
       "   2.07869434]],\n",
       "             mask =\n",
       " False,\n",
       "       fill_value = 1e+20)"
      ]
     },
     "execution_count": 52,
     "metadata": {},
     "output_type": "execute_result"
    }
   ],
   "source": [
    "nc_obj.variables['swh'][:]"
   ]
  },
  {
   "cell_type": "markdown",
   "metadata": {},
   "source": [
    "** 注意python中只有1是true，其他均为false**  \n",
    "## 取值方法1："
   ]
  },
  {
   "cell_type": "code",
   "execution_count": 57,
   "metadata": {},
   "outputs": [
    {
     "data": {
      "text/plain": [
       "masked_array(data =\n",
       " [[ 1.012869]],\n",
       "             mask =\n",
       " False,\n",
       "       fill_value = 1e+20)"
      ]
     },
     "execution_count": 57,
     "metadata": {},
     "output_type": "execute_result"
    }
   ],
   "source": [
    "nc_obj.variables['swh'][:][lng_index,lat_index]"
   ]
  },
  {
   "cell_type": "code",
   "execution_count": 58,
   "metadata": {},
   "outputs": [
    {
     "data": {
      "text/plain": [
       "array([[ 1.012869]], dtype=float32)"
      ]
     },
     "execution_count": 58,
     "metadata": {},
     "output_type": "execute_result"
    }
   ],
   "source": [
    "nc_obj.variables['swh'][:][lng_index,lat_index].data"
   ]
  },
  {
   "cell_type": "markdown",
   "metadata": {},
   "source": [
    "## 取值方法2："
   ]
  },
  {
   "cell_type": "code",
   "execution_count": 63,
   "metadata": {},
   "outputs": [],
   "source": [
    "lng_max=max(nc_obj.variables['longitude'][:].data)"
   ]
  },
  {
   "cell_type": "code",
   "execution_count": 64,
   "metadata": {},
   "outputs": [],
   "source": [
    "lng_min=min(nc_obj.variables['longitude'][:].data)"
   ]
  },
  {
   "cell_type": "code",
   "execution_count": 69,
   "metadata": {},
   "outputs": [
    {
     "name": "stdout",
     "output_type": "stream",
     "text": [
      "165.0 90.0\n"
     ]
    }
   ],
   "source": [
    "print(lng_max,lng_min)"
   ]
  },
  {
   "cell_type": "code",
   "execution_count": 67,
   "metadata": {},
   "outputs": [
    {
     "data": {
      "text/plain": [
       "122"
      ]
     },
     "execution_count": 67,
     "metadata": {},
     "output_type": "execute_result"
    }
   ],
   "source": [
    "int((120.25-lng_min)/0.25+1)"
   ]
  },
  {
   "cell_type": "code",
   "execution_count": 26,
   "metadata": {},
   "outputs": [
    {
     "data": {
      "text/plain": [
       "array([[ 0.        ,  0.        ,  0.        , ...,  3.79013753,\n",
       "         3.81374502,  3.8166697 ],\n",
       "       [ 0.        ,  0.        ,  0.        , ...,  3.73289442,\n",
       "         3.75065231,  3.74542928],\n",
       "       [ 0.        ,  0.        ,  0.        , ...,  3.67314434,\n",
       "         3.68170977,  3.67606902],\n",
       "       ..., \n",
       "       [ 1.29114306,  1.28890967,  1.2940464 , ...,  2.2034173 ,\n",
       "         2.20362639,  2.18628621],\n",
       "       [ 1.29382312,  1.29627979,  1.30074644, ...,  2.14304066,\n",
       "         2.13322163,  2.14304066],\n",
       "       [ 1.30342638,  1.30744648,  1.31369984, ...,  2.07950878,\n",
       "         2.06782269,  2.07869434]], dtype=float32)"
      ]
     },
     "execution_count": 26,
     "metadata": {},
     "output_type": "execute_result"
    }
   ],
   "source": [
    "nc_obj.variables['swh'][:].data"
   ]
  },
  {
   "cell_type": "code",
   "execution_count": 30,
   "metadata": {},
   "outputs": [],
   "source": [
    "# print(nc_obj.variables['swh'][:].data)"
   ]
  },
  {
   "cell_type": "code",
   "execution_count": 28,
   "metadata": {},
   "outputs": [
    {
     "data": {
      "text/plain": [
       "1e+20"
      ]
     },
     "execution_count": 28,
     "metadata": {},
     "output_type": "execute_result"
    }
   ],
   "source": [
    "nc_obj.variables['swh'][:].fill_value"
   ]
  },
  {
   "cell_type": "code",
   "execution_count": 22,
   "metadata": {},
   "outputs": [
    {
     "data": {
      "text/plain": [
       "masked_array(data = [ 45.    44.75  44.5   44.25  44.    43.75  43.5   43.25  43.    42.75\n",
       "  42.5   42.25  42.    41.75  41.5   41.25  41.    40.75  40.5   40.25  40.\n",
       "  39.75  39.5   39.25  39.    38.75  38.5   38.25  38.    37.75  37.5\n",
       "  37.25  37.    36.75  36.5   36.25  36.    35.75  35.5   35.25  35.    34.75\n",
       "  34.5   34.25  34.    33.75  33.5   33.25  33.    32.75  32.5   32.25  32.\n",
       "  31.75  31.5   31.25  31.    30.75  30.5   30.25  30.    29.75  29.5\n",
       "  29.25  29.    28.75  28.5   28.25  28.    27.75  27.5   27.25  27.    26.75\n",
       "  26.5   26.25  26.    25.75  25.5   25.25  25.    24.75  24.5   24.25  24.\n",
       "  23.75  23.5   23.25  23.    22.75  22.5   22.25  22.    21.75  21.5\n",
       "  21.25  21.    20.75  20.5   20.25  20.    19.75  19.5   19.25  19.    18.75\n",
       "  18.5   18.25  18.    17.75  17.5   17.25  17.    16.75  16.5   16.25  16.\n",
       "  15.75  15.5   15.25  15.    14.75  14.5   14.25  14.    13.75  13.5\n",
       "  13.25  13.    12.75  12.5   12.25  12.    11.75  11.5   11.25  11.    10.75\n",
       "  10.5   10.25  10.     9.75   9.5    9.25   9.     8.75   8.5    8.25   8.\n",
       "   7.75   7.5    7.25   7.     6.75   6.5    6.25   6.     5.75   5.5\n",
       "   5.25   5.     4.75   4.5    4.25   4.     3.75   3.5    3.25   3.     2.75\n",
       "   2.5    2.25   2.     1.75   1.5    1.25   1.     0.75   0.5    0.25   0.  ],\n",
       "             mask = False,\n",
       "       fill_value = 1e+20)"
      ]
     },
     "execution_count": 22,
     "metadata": {},
     "output_type": "execute_result"
    }
   ],
   "source": [
    "nc_obj.variables['latitude'][:]"
   ]
  },
  {
   "cell_type": "code",
   "execution_count": null,
   "metadata": {
    "collapsed": true
   },
   "outputs": [],
   "source": []
  }
 ],
 "metadata": {
  "kernelspec": {
   "display_name": "Python 3",
   "language": "python",
   "name": "python3"
  },
  "language_info": {
   "codemirror_mode": {
    "name": "ipython",
    "version": 3
   },
   "file_extension": ".py",
   "mimetype": "text/x-python",
   "name": "python",
   "nbconvert_exporter": "python",
   "pygments_lexer": "ipython3",
   "version": "3.6.3"
  }
 },
 "nbformat": 4,
 "nbformat_minor": 2
}
