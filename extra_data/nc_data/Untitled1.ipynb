{
 "cells": [
  {
   "cell_type": "code",
   "execution_count": 2,
   "metadata": {},
   "outputs": [],
   "source": [
    "def getRundingVal(val,interval):\n",
    "    '''\n",
    "        将传入的浮点类型四舍五入\n",
    "    :param val:\n",
    "    :return:\n",
    "    '''\n",
    "    # 17.975,17.233\n",
    "    \n",
    "    finial_index=0\n",
    "    # 1 取整数部分 eg:18  eg2:17\n",
    "    rundingIndex=round(val)\n",
    "    \n",
    "    # 2 四舍五入到小数点后2位 eg:17.98,eg2:17.23\n",
    "    rundingVal=round(val,2)\n",
    "    \n",
    "    # 3-1 向上取整\n",
    "    if rundingIndex>rundingVal:\n",
    "        # 说明四舍五入后的整数部分大于原值 eg:17.75\n",
    "        if abs((rundingIndex-interval)-rundingVal)<abs(rundingIndex-rundingVal):\n",
    "            finial_index=rundingIndex-interval\n",
    "        else:\n",
    "            finial_index=rundingIndex\n",
    "    # 3-2 向下取整 eg2:17.23\n",
    "    else:\n",
    "        if abs((rundingIndex+interval)-rundingVal)<abs(rundingIndex-rundingVal):\n",
    "            finial_index=rundingIndex+interval\n",
    "        else:\n",
    "            finial_index=rundingIndex\n",
    "    return rundingIndex\n",
    "        "
   ]
  },
  {
   "cell_type": "code",
   "execution_count": 3,
   "metadata": {},
   "outputs": [
    {
     "data": {
      "text/plain": [
       "18"
      ]
     },
     "execution_count": 3,
     "metadata": {},
     "output_type": "execute_result"
    }
   ],
   "source": [
    "getRundingVal(17.975,0.25)"
   ]
  },
  {
   "cell_type": "code",
   "execution_count": 5,
   "metadata": {},
   "outputs": [
    {
     "data": {
      "text/plain": [
       "18"
      ]
     },
     "execution_count": 5,
     "metadata": {},
     "output_type": "execute_result"
    }
   ],
   "source": [
    "getRundingVal(17.775,0.25)"
   ]
  },
  {
   "cell_type": "code",
   "execution_count": null,
   "metadata": {
    "collapsed": true
   },
   "outputs": [],
   "source": []
  }
 ],
 "metadata": {
  "kernelspec": {
   "display_name": "Python 3",
   "language": "python",
   "name": "python3"
  },
  "language_info": {
   "codemirror_mode": {
    "name": "ipython",
    "version": 3
   },
   "file_extension": ".py",
   "mimetype": "text/x-python",
   "name": "python",
   "nbconvert_exporter": "python",
   "pygments_lexer": "ipython3",
   "version": "3.6.3"
  }
 },
 "nbformat": 4,
 "nbformat_minor": 2
}
